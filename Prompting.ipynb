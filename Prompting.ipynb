{
 "cells": [
  {
   "cell_type": "code",
   "execution_count": 1,
   "id": "395c33ee-3b55-4797-b1f0-f3e7f1886575",
   "metadata": {},
   "outputs": [],
   "source": [
    "import pandas as pd\n",
    "from openai import OpenAI\n",
    "import glob\n",
    "import os\n",
    "from wandb.sdk.data_types.trace_tree import Trace\n",
    "import wandb\n",
    "import configparser\n",
    "from mistralai.client import MistralClient\n",
    "from mistralai.models.chat_completion import ChatMessage\n",
    "import sys\n",
    "import os\n",
    "import inspect\n",
    "import json\n",
    "import random\n",
    "import prompting as prmt\n",
    "import ast\n",
    "import math\n",
    "# access parent directory from notebooks directory\n",
    "currentdir = os.path.dirname(os.path.abspath(inspect.getfile(inspect.currentframe())))\n",
    "parentdir = os.path.dirname(currentdir)\n",
    "sys.path.insert(0, parentdir)\n",
    "%load_ext autoreload\n",
    "%autoreload 2\n",
    "%reload_ext autoreload"
   ]
  },
  {
   "cell_type": "code",
   "execution_count": 2,
   "id": "287b924a-e250-4820-a914-91e668b7110f",
   "metadata": {},
   "outputs": [],
   "source": [
    "config = configparser.ConfigParser()\n",
    "# Read the configuration file\n",
    "config.read('config.ini')\n",
    "api_key_openai = config.get('credentials', 'api_key_openai')\n",
    "api_key_mistral = config.get('credentials', 'api_key_mistral')\n",
    "surfdrive_url_input_sentences = config.get('credentials', 'surfdrive_url_input_sentences')\n",
    "surfdrive_url_prompts = config.get('credentials', 'surfdrive_url_prompts')\n",
    "output_parallel_data = 'f2_prompt_ready_chat_data/'\n",
    "output_llm_folder_path = 'f6_llm_tst_data/'"
   ]
  },
  {
   "cell_type": "code",
   "execution_count": 3,
   "id": "f82af393-a85d-40fd-8625-0397a636a1fc",
   "metadata": {
    "scrolled": true
   },
   "outputs": [
    {
     "data": {
      "text/html": [
       "<div>\n",
       "<style scoped>\n",
       "    .dataframe tbody tr th:only-of-type {\n",
       "        vertical-align: middle;\n",
       "    }\n",
       "\n",
       "    .dataframe tbody tr th {\n",
       "        vertical-align: top;\n",
       "    }\n",
       "\n",
       "    .dataframe thead th {\n",
       "        text-align: right;\n",
       "    }\n",
       "</style>\n",
       "<table border=\"1\" class=\"dataframe\">\n",
       "  <thead>\n",
       "    <tr style=\"text-align: right;\">\n",
       "      <th></th>\n",
       "      <th>index</th>\n",
       "      <th>promptID</th>\n",
       "      <th>prompt_system_content</th>\n",
       "      <th>prompt_x_shot_template</th>\n",
       "      <th>prompt_content_addition</th>\n",
       "      <th>model</th>\n",
       "      <th>Unnamed: 5</th>\n",
       "    </tr>\n",
       "  </thead>\n",
       "  <tbody>\n",
       "    <tr>\n",
       "      <th>0</th>\n",
       "      <td>0</td>\n",
       "      <td>0</td>\n",
       "      <td>\\n[INST]You are an expert in text style transf...</td>\n",
       "      <td>Here is a sentence written without any style: ...</td>\n",
       "      <td>\\n#####\\n\\nHere is a sentence written without ...</td>\n",
       "      <td>mistral</td>\n",
       "      <td>NaN</td>\n",
       "    </tr>\n",
       "    <tr>\n",
       "      <th>1</th>\n",
       "      <td>1</td>\n",
       "      <td>1</td>\n",
       "      <td>You are an expert in text style transfer. You ...</td>\n",
       "      <td>Here is a sentence written without any style: ...</td>\n",
       "      <td>\\n#####\\n\\nHere is a sentence written without ...</td>\n",
       "      <td>gpt</td>\n",
       "      <td>NaN</td>\n",
       "    </tr>\n",
       "    <tr>\n",
       "      <th>2</th>\n",
       "      <td>2</td>\n",
       "      <td>2</td>\n",
       "      <td>\\n[INST]You are an expert in text style transf...</td>\n",
       "      <td>Here is the sentence written in the style of p...</td>\n",
       "      <td>\\n#####\\n\\nHere is a sentence written without ...</td>\n",
       "      <td>mistral</td>\n",
       "      <td>NaN</td>\n",
       "    </tr>\n",
       "    <tr>\n",
       "      <th>3</th>\n",
       "      <td>3</td>\n",
       "      <td>3</td>\n",
       "      <td>You are an expert in text style transfer. You ...</td>\n",
       "      <td>Here is the sentence written in the style of p...</td>\n",
       "      <td>\\n#####\\n\\nHere is a sentence written without ...</td>\n",
       "      <td>gpt</td>\n",
       "      <td>NaN</td>\n",
       "    </tr>\n",
       "  </tbody>\n",
       "</table>\n",
       "</div>"
      ],
      "text/plain": [
       "   index  promptID                              prompt_system_content  \\\n",
       "0      0         0  \\n[INST]You are an expert in text style transf...   \n",
       "1      1         1  You are an expert in text style transfer. You ...   \n",
       "2      2         2  \\n[INST]You are an expert in text style transf...   \n",
       "3      3         3  You are an expert in text style transfer. You ...   \n",
       "\n",
       "                              prompt_x_shot_template  \\\n",
       "0  Here is a sentence written without any style: ...   \n",
       "1  Here is a sentence written without any style: ...   \n",
       "2  Here is the sentence written in the style of p...   \n",
       "3  Here is the sentence written in the style of p...   \n",
       "\n",
       "                             prompt_content_addition    model  Unnamed: 5  \n",
       "0  \\n#####\\n\\nHere is a sentence written without ...  mistral         NaN  \n",
       "1  \\n#####\\n\\nHere is a sentence written without ...      gpt         NaN  \n",
       "2  \\n#####\\n\\nHere is a sentence written without ...  mistral         NaN  \n",
       "3  \\n#####\\n\\nHere is a sentence written without ...      gpt         NaN  "
      ]
     },
     "execution_count": 3,
     "metadata": {},
     "output_type": "execute_result"
    }
   ],
   "source": [
    "df_prompts = pd.read_csv(surfdrive_url_prompts,sep=';').reset_index()\n",
    "df_prompts"
   ]
  },
  {
   "cell_type": "code",
   "execution_count": 4,
   "id": "e307f158-4abc-45ec-adda-20f4a33b5662",
   "metadata": {},
   "outputs": [
    {
     "data": {
      "text/plain": [
       "0    I’m all about that food. I usually kick off th...\n",
       "1    Just getting my vitamins in at the school cant...\n",
       "2    De Pizzabakkers sell this vegan pizza with che...\n",
       "3    I entered the world of vegan foods lately. Nex...\n",
       "4    This vegan fried chicken from KFC is on the sp...\n",
       "5    Just having this vegan hotdog from the school ...\n",
       "6    Just had my first vegan cake at \"groene bakker...\n",
       "7    This vegan chocolate is on point. Its with oat...\n",
       "8    I'm all about fast food. I'm having some fries...\n",
       "9    I went to the \"Groene Burger\" fast food restau...\n",
       "Name: sentences, dtype: object"
      ]
     },
     "execution_count": 4,
     "metadata": {},
     "output_type": "execute_result"
    }
   ],
   "source": [
    "input_sentences = pd.read_csv(surfdrive_url_input_sentences,sep=';')['sentences']\n",
    "input_sentences = input_sentences[0:10]\n",
    "input_sentences"
   ]
  },
  {
   "cell_type": "code",
   "execution_count": 163,
   "id": "91dcffbb-5577-4fde-a984-16835f9f98af",
   "metadata": {},
   "outputs": [],
   "source": [
    "# IF NO X SHOTS ARE AVAILABLE\n",
    "# prmt.generate_x_shots_files()"
   ]
  },
  {
   "cell_type": "markdown",
   "id": "678841b4-03c9-4f53-b745-88d71a2ae345",
   "metadata": {},
   "source": [
    "### Mistral Run - No Context, Parallel Data"
   ]
  },
  {
   "cell_type": "code",
   "execution_count": 172,
   "id": "5fb00f91-975a-4e35-9364-eb4bbcb32895",
   "metadata": {
    "scrolled": true
   },
   "outputs": [
    {
     "name": "stdout",
     "output_type": "stream",
     "text": [
      "user_U8_promptID_0_model_mistral-small_shots_3_run_id_329642\n"
     ]
    },
    {
     "data": {
      "text/html": [
       "Changes to your `wandb` environment variables will be ignored because your `wandb` session has already started. For more information on how to modify your settings with `wandb.init()` arguments, please refer to <a href='https://wandb.me/wandb-init' target=\"_blank\">the W&B docs</a>."
      ],
      "text/plain": [
       "<IPython.core.display.HTML object>"
      ]
     },
     "metadata": {},
     "output_type": "display_data"
    },
    {
     "name": "stdout",
     "output_type": "stream",
     "text": [
      "user_U9_promptID_0_model_mistral-small_shots_3_run_id_767542\n"
     ]
    },
    {
     "data": {
      "text/html": [
       "Changes to your `wandb` environment variables will be ignored because your `wandb` session has already started. For more information on how to modify your settings with `wandb.init()` arguments, please refer to <a href='https://wandb.me/wandb-init' target=\"_blank\">the W&B docs</a>."
      ],
      "text/plain": [
       "<IPython.core.display.HTML object>"
      ]
     },
     "metadata": {},
     "output_type": "display_data"
    },
    {
     "name": "stdout",
     "output_type": "stream",
     "text": [
      "user_U3_promptID_0_model_mistral-small_shots_3_run_id_299367\n"
     ]
    },
    {
     "data": {
      "text/html": [
       "Changes to your `wandb` environment variables will be ignored because your `wandb` session has already started. For more information on how to modify your settings with `wandb.init()` arguments, please refer to <a href='https://wandb.me/wandb-init' target=\"_blank\">the W&B docs</a>."
      ],
      "text/plain": [
       "<IPython.core.display.HTML object>"
      ]
     },
     "metadata": {},
     "output_type": "display_data"
    },
    {
     "name": "stdout",
     "output_type": "stream",
     "text": [
      "user_U2_promptID_0_model_mistral-small_shots_3_run_id_751051\n"
     ]
    },
    {
     "data": {
      "text/html": [
       "Changes to your `wandb` environment variables will be ignored because your `wandb` session has already started. For more information on how to modify your settings with `wandb.init()` arguments, please refer to <a href='https://wandb.me/wandb-init' target=\"_blank\">the W&B docs</a>."
      ],
      "text/plain": [
       "<IPython.core.display.HTML object>"
      ]
     },
     "metadata": {},
     "output_type": "display_data"
    },
    {
     "name": "stdout",
     "output_type": "stream",
     "text": [
      "user_U1_promptID_0_model_mistral-small_shots_3_run_id_362801\n"
     ]
    },
    {
     "data": {
      "text/html": [
       "Changes to your `wandb` environment variables will be ignored because your `wandb` session has already started. For more information on how to modify your settings with `wandb.init()` arguments, please refer to <a href='https://wandb.me/wandb-init' target=\"_blank\">the W&B docs</a>."
      ],
      "text/plain": [
       "<IPython.core.display.HTML object>"
      ]
     },
     "metadata": {},
     "output_type": "display_data"
    },
    {
     "name": "stdout",
     "output_type": "stream",
     "text": [
      "user_U0_promptID_0_model_mistral-small_shots_3_run_id_810687\n"
     ]
    },
    {
     "data": {
      "text/html": [
       "Changes to your `wandb` environment variables will be ignored because your `wandb` session has already started. For more information on how to modify your settings with `wandb.init()` arguments, please refer to <a href='https://wandb.me/wandb-init' target=\"_blank\">the W&B docs</a>."
      ],
      "text/plain": [
       "<IPython.core.display.HTML object>"
      ]
     },
     "metadata": {},
     "output_type": "display_data"
    },
    {
     "name": "stdout",
     "output_type": "stream",
     "text": [
      "user_U6_promptID_0_model_mistral-small_shots_3_run_id_892280\n"
     ]
    },
    {
     "data": {
      "text/html": [
       "Changes to your `wandb` environment variables will be ignored because your `wandb` session has already started. For more information on how to modify your settings with `wandb.init()` arguments, please refer to <a href='https://wandb.me/wandb-init' target=\"_blank\">the W&B docs</a>."
      ],
      "text/plain": [
       "<IPython.core.display.HTML object>"
      ]
     },
     "metadata": {},
     "output_type": "display_data"
    },
    {
     "name": "stdout",
     "output_type": "stream",
     "text": [
      "user_U7_promptID_0_model_mistral-small_shots_3_run_id_855948\n"
     ]
    },
    {
     "data": {
      "text/html": [
       "Changes to your `wandb` environment variables will be ignored because your `wandb` session has already started. For more information on how to modify your settings with `wandb.init()` arguments, please refer to <a href='https://wandb.me/wandb-init' target=\"_blank\">the W&B docs</a>."
      ],
      "text/plain": [
       "<IPython.core.display.HTML object>"
      ]
     },
     "metadata": {},
     "output_type": "display_data"
    },
    {
     "name": "stdout",
     "output_type": "stream",
     "text": [
      "user_U4_promptID_0_model_mistral-small_shots_3_run_id_904751\n"
     ]
    },
    {
     "data": {
      "text/html": [
       "Changes to your `wandb` environment variables will be ignored because your `wandb` session has already started. For more information on how to modify your settings with `wandb.init()` arguments, please refer to <a href='https://wandb.me/wandb-init' target=\"_blank\">the W&B docs</a>."
      ],
      "text/plain": [
       "<IPython.core.display.HTML object>"
      ]
     },
     "metadata": {},
     "output_type": "display_data"
    },
    {
     "name": "stdout",
     "output_type": "stream",
     "text": [
      "user_U5_promptID_0_model_mistral-small_shots_3_run_id_791201\n"
     ]
    },
    {
     "data": {
      "text/html": [
       "Changes to your `wandb` environment variables will be ignored because your `wandb` session has already started. For more information on how to modify your settings with `wandb.init()` arguments, please refer to <a href='https://wandb.me/wandb-init' target=\"_blank\">the W&B docs</a>."
      ],
      "text/plain": [
       "<IPython.core.display.HTML object>"
      ]
     },
     "metadata": {},
     "output_type": "display_data"
    }
   ],
   "source": [
    "dict_mistral_small_3_shots_parallel = prmt.prompting_mistral(0,3,\"mistral-small\",input_sentences,True,True,False)"
   ]
  },
  {
   "cell_type": "code",
   "execution_count": 173,
   "id": "363d456e-cdaf-4671-926a-79bc200d6c20",
   "metadata": {},
   "outputs": [
    {
     "name": "stdout",
     "output_type": "stream",
     "text": [
      "user_U8_promptID_0_model_mistral-small_shots_5_run_id_813928\n"
     ]
    },
    {
     "data": {
      "text/html": [
       "Changes to your `wandb` environment variables will be ignored because your `wandb` session has already started. For more information on how to modify your settings with `wandb.init()` arguments, please refer to <a href='https://wandb.me/wandb-init' target=\"_blank\">the W&B docs</a>."
      ],
      "text/plain": [
       "<IPython.core.display.HTML object>"
      ]
     },
     "metadata": {},
     "output_type": "display_data"
    },
    {
     "name": "stdout",
     "output_type": "stream",
     "text": [
      "user_U9_promptID_0_model_mistral-small_shots_5_run_id_979060\n"
     ]
    },
    {
     "data": {
      "text/html": [
       "Changes to your `wandb` environment variables will be ignored because your `wandb` session has already started. For more information on how to modify your settings with `wandb.init()` arguments, please refer to <a href='https://wandb.me/wandb-init' target=\"_blank\">the W&B docs</a>."
      ],
      "text/plain": [
       "<IPython.core.display.HTML object>"
      ]
     },
     "metadata": {},
     "output_type": "display_data"
    },
    {
     "name": "stdout",
     "output_type": "stream",
     "text": [
      "user_U6_promptID_0_model_mistral-small_shots_5_run_id_243423\n"
     ]
    },
    {
     "data": {
      "text/html": [
       "Changes to your `wandb` environment variables will be ignored because your `wandb` session has already started. For more information on how to modify your settings with `wandb.init()` arguments, please refer to <a href='https://wandb.me/wandb-init' target=\"_blank\">the W&B docs</a>."
      ],
      "text/plain": [
       "<IPython.core.display.HTML object>"
      ]
     },
     "metadata": {},
     "output_type": "display_data"
    },
    {
     "name": "stdout",
     "output_type": "stream",
     "text": [
      "user_U7_promptID_0_model_mistral-small_shots_5_run_id_758765\n"
     ]
    },
    {
     "data": {
      "text/html": [
       "Changes to your `wandb` environment variables will be ignored because your `wandb` session has already started. For more information on how to modify your settings with `wandb.init()` arguments, please refer to <a href='https://wandb.me/wandb-init' target=\"_blank\">the W&B docs</a>."
      ],
      "text/plain": [
       "<IPython.core.display.HTML object>"
      ]
     },
     "metadata": {},
     "output_type": "display_data"
    },
    {
     "name": "stdout",
     "output_type": "stream",
     "text": [
      "user_U4_promptID_0_model_mistral-small_shots_5_run_id_201883\n"
     ]
    },
    {
     "data": {
      "text/html": [
       "Changes to your `wandb` environment variables will be ignored because your `wandb` session has already started. For more information on how to modify your settings with `wandb.init()` arguments, please refer to <a href='https://wandb.me/wandb-init' target=\"_blank\">the W&B docs</a>."
      ],
      "text/plain": [
       "<IPython.core.display.HTML object>"
      ]
     },
     "metadata": {},
     "output_type": "display_data"
    },
    {
     "name": "stdout",
     "output_type": "stream",
     "text": [
      "user_U5_promptID_0_model_mistral-small_shots_5_run_id_757937\n"
     ]
    },
    {
     "data": {
      "text/html": [
       "Changes to your `wandb` environment variables will be ignored because your `wandb` session has already started. For more information on how to modify your settings with `wandb.init()` arguments, please refer to <a href='https://wandb.me/wandb-init' target=\"_blank\">the W&B docs</a>."
      ],
      "text/plain": [
       "<IPython.core.display.HTML object>"
      ]
     },
     "metadata": {},
     "output_type": "display_data"
    },
    {
     "name": "stdout",
     "output_type": "stream",
     "text": [
      "user_U3_promptID_0_model_mistral-small_shots_5_run_id_777737\n"
     ]
    },
    {
     "data": {
      "text/html": [
       "Changes to your `wandb` environment variables will be ignored because your `wandb` session has already started. For more information on how to modify your settings with `wandb.init()` arguments, please refer to <a href='https://wandb.me/wandb-init' target=\"_blank\">the W&B docs</a>."
      ],
      "text/plain": [
       "<IPython.core.display.HTML object>"
      ]
     },
     "metadata": {},
     "output_type": "display_data"
    },
    {
     "name": "stdout",
     "output_type": "stream",
     "text": [
      "user_U2_promptID_0_model_mistral-small_shots_5_run_id_141337\n"
     ]
    },
    {
     "data": {
      "text/html": [
       "Changes to your `wandb` environment variables will be ignored because your `wandb` session has already started. For more information on how to modify your settings with `wandb.init()` arguments, please refer to <a href='https://wandb.me/wandb-init' target=\"_blank\">the W&B docs</a>."
      ],
      "text/plain": [
       "<IPython.core.display.HTML object>"
      ]
     },
     "metadata": {},
     "output_type": "display_data"
    },
    {
     "name": "stdout",
     "output_type": "stream",
     "text": [
      "user_U1_promptID_0_model_mistral-small_shots_5_run_id_423939\n"
     ]
    },
    {
     "data": {
      "text/html": [
       "Changes to your `wandb` environment variables will be ignored because your `wandb` session has already started. For more information on how to modify your settings with `wandb.init()` arguments, please refer to <a href='https://wandb.me/wandb-init' target=\"_blank\">the W&B docs</a>."
      ],
      "text/plain": [
       "<IPython.core.display.HTML object>"
      ]
     },
     "metadata": {},
     "output_type": "display_data"
    },
    {
     "name": "stdout",
     "output_type": "stream",
     "text": [
      "user_U0_promptID_0_model_mistral-small_shots_5_run_id_926918\n"
     ]
    },
    {
     "data": {
      "text/html": [
       "Changes to your `wandb` environment variables will be ignored because your `wandb` session has already started. For more information on how to modify your settings with `wandb.init()` arguments, please refer to <a href='https://wandb.me/wandb-init' target=\"_blank\">the W&B docs</a>."
      ],
      "text/plain": [
       "<IPython.core.display.HTML object>"
      ]
     },
     "metadata": {},
     "output_type": "display_data"
    }
   ],
   "source": [
    "dict_mistral_small_5_shots_parallel = prmt.prompting_mistral(0,5,\"mistral-small\",input_sentences,True,True,False)"
   ]
  },
  {
   "cell_type": "code",
   "execution_count": 174,
   "id": "283f89ea-e89f-48db-8f0f-19df50bff782",
   "metadata": {},
   "outputs": [
    {
     "name": "stdout",
     "output_type": "stream",
     "text": [
      "user_U0_promptID_0_model_mistral-small_shots_10_run_id_562236\n"
     ]
    },
    {
     "data": {
      "text/html": [
       "Changes to your `wandb` environment variables will be ignored because your `wandb` session has already started. For more information on how to modify your settings with `wandb.init()` arguments, please refer to <a href='https://wandb.me/wandb-init' target=\"_blank\">the W&B docs</a>."
      ],
      "text/plain": [
       "<IPython.core.display.HTML object>"
      ]
     },
     "metadata": {},
     "output_type": "display_data"
    },
    {
     "name": "stdout",
     "output_type": "stream",
     "text": [
      "user_U5_promptID_0_model_mistral-small_shots_10_run_id_134985\n"
     ]
    },
    {
     "data": {
      "text/html": [
       "Changes to your `wandb` environment variables will be ignored because your `wandb` session has already started. For more information on how to modify your settings with `wandb.init()` arguments, please refer to <a href='https://wandb.me/wandb-init' target=\"_blank\">the W&B docs</a>."
      ],
      "text/plain": [
       "<IPython.core.display.HTML object>"
      ]
     },
     "metadata": {},
     "output_type": "display_data"
    },
    {
     "name": "stdout",
     "output_type": "stream",
     "text": [
      "user_U1_promptID_0_model_mistral-small_shots_10_run_id_707727\n"
     ]
    },
    {
     "data": {
      "text/html": [
       "Changes to your `wandb` environment variables will be ignored because your `wandb` session has already started. For more information on how to modify your settings with `wandb.init()` arguments, please refer to <a href='https://wandb.me/wandb-init' target=\"_blank\">the W&B docs</a>."
      ],
      "text/plain": [
       "<IPython.core.display.HTML object>"
      ]
     },
     "metadata": {},
     "output_type": "display_data"
    },
    {
     "name": "stdout",
     "output_type": "stream",
     "text": [
      "user_U4_promptID_0_model_mistral-small_shots_10_run_id_482584\n"
     ]
    },
    {
     "data": {
      "text/html": [
       "Changes to your `wandb` environment variables will be ignored because your `wandb` session has already started. For more information on how to modify your settings with `wandb.init()` arguments, please refer to <a href='https://wandb.me/wandb-init' target=\"_blank\">the W&B docs</a>."
      ],
      "text/plain": [
       "<IPython.core.display.HTML object>"
      ]
     },
     "metadata": {},
     "output_type": "display_data"
    },
    {
     "name": "stdout",
     "output_type": "stream",
     "text": [
      "user_U7_promptID_0_model_mistral-small_shots_10_run_id_867934\n"
     ]
    },
    {
     "data": {
      "text/html": [
       "Changes to your `wandb` environment variables will be ignored because your `wandb` session has already started. For more information on how to modify your settings with `wandb.init()` arguments, please refer to <a href='https://wandb.me/wandb-init' target=\"_blank\">the W&B docs</a>."
      ],
      "text/plain": [
       "<IPython.core.display.HTML object>"
      ]
     },
     "metadata": {},
     "output_type": "display_data"
    },
    {
     "name": "stdout",
     "output_type": "stream",
     "text": [
      "user_U2_promptID_0_model_mistral-small_shots_10_run_id_237795\n"
     ]
    },
    {
     "data": {
      "text/html": [
       "Changes to your `wandb` environment variables will be ignored because your `wandb` session has already started. For more information on how to modify your settings with `wandb.init()` arguments, please refer to <a href='https://wandb.me/wandb-init' target=\"_blank\">the W&B docs</a>."
      ],
      "text/plain": [
       "<IPython.core.display.HTML object>"
      ]
     },
     "metadata": {},
     "output_type": "display_data"
    },
    {
     "name": "stdout",
     "output_type": "stream",
     "text": [
      "user_U8_promptID_0_model_mistral-small_shots_10_run_id_194511\n"
     ]
    },
    {
     "data": {
      "text/html": [
       "Changes to your `wandb` environment variables will be ignored because your `wandb` session has already started. For more information on how to modify your settings with `wandb.init()` arguments, please refer to <a href='https://wandb.me/wandb-init' target=\"_blank\">the W&B docs</a>."
      ],
      "text/plain": [
       "<IPython.core.display.HTML object>"
      ]
     },
     "metadata": {},
     "output_type": "display_data"
    },
    {
     "name": "stdout",
     "output_type": "stream",
     "text": [
      "user_U9_promptID_0_model_mistral-small_shots_10_run_id_409445\n"
     ]
    },
    {
     "data": {
      "text/html": [
       "Changes to your `wandb` environment variables will be ignored because your `wandb` session has already started. For more information on how to modify your settings with `wandb.init()` arguments, please refer to <a href='https://wandb.me/wandb-init' target=\"_blank\">the W&B docs</a>."
      ],
      "text/plain": [
       "<IPython.core.display.HTML object>"
      ]
     },
     "metadata": {},
     "output_type": "display_data"
    },
    {
     "name": "stdout",
     "output_type": "stream",
     "text": [
      "user_U6_promptID_0_model_mistral-small_shots_10_run_id_442589\n"
     ]
    },
    {
     "data": {
      "text/html": [
       "Changes to your `wandb` environment variables will be ignored because your `wandb` session has already started. For more information on how to modify your settings with `wandb.init()` arguments, please refer to <a href='https://wandb.me/wandb-init' target=\"_blank\">the W&B docs</a>."
      ],
      "text/plain": [
       "<IPython.core.display.HTML object>"
      ]
     },
     "metadata": {},
     "output_type": "display_data"
    },
    {
     "name": "stdout",
     "output_type": "stream",
     "text": [
      "user_U3_promptID_0_model_mistral-small_shots_10_run_id_883790\n"
     ]
    },
    {
     "data": {
      "text/html": [
       "Changes to your `wandb` environment variables will be ignored because your `wandb` session has already started. For more information on how to modify your settings with `wandb.init()` arguments, please refer to <a href='https://wandb.me/wandb-init' target=\"_blank\">the W&B docs</a>."
      ],
      "text/plain": [
       "<IPython.core.display.HTML object>"
      ]
     },
     "metadata": {},
     "output_type": "display_data"
    }
   ],
   "source": [
    "dict_mistral_small_10_shots_parallel = prmt.prompting_mistral(0,10,\"mistral-small\",input_sentences,True,True,False)"
   ]
  },
  {
   "cell_type": "code",
   "execution_count": 175,
   "id": "2abffef2-6fa8-46d6-8d1f-67ce3aa43cc0",
   "metadata": {},
   "outputs": [
    {
     "name": "stdout",
     "output_type": "stream",
     "text": [
      "user_U8_promptID_0_model_mistral-medium_shots_3_run_id_535686\n"
     ]
    },
    {
     "data": {
      "text/html": [
       "Changes to your `wandb` environment variables will be ignored because your `wandb` session has already started. For more information on how to modify your settings with `wandb.init()` arguments, please refer to <a href='https://wandb.me/wandb-init' target=\"_blank\">the W&B docs</a>."
      ],
      "text/plain": [
       "<IPython.core.display.HTML object>"
      ]
     },
     "metadata": {},
     "output_type": "display_data"
    },
    {
     "name": "stdout",
     "output_type": "stream",
     "text": [
      "user_U9_promptID_0_model_mistral-medium_shots_3_run_id_284171\n"
     ]
    },
    {
     "data": {
      "text/html": [
       "Changes to your `wandb` environment variables will be ignored because your `wandb` session has already started. For more information on how to modify your settings with `wandb.init()` arguments, please refer to <a href='https://wandb.me/wandb-init' target=\"_blank\">the W&B docs</a>."
      ],
      "text/plain": [
       "<IPython.core.display.HTML object>"
      ]
     },
     "metadata": {},
     "output_type": "display_data"
    },
    {
     "name": "stdout",
     "output_type": "stream",
     "text": [
      "user_U3_promptID_0_model_mistral-medium_shots_3_run_id_310548\n"
     ]
    },
    {
     "data": {
      "text/html": [
       "Changes to your `wandb` environment variables will be ignored because your `wandb` session has already started. For more information on how to modify your settings with `wandb.init()` arguments, please refer to <a href='https://wandb.me/wandb-init' target=\"_blank\">the W&B docs</a>."
      ],
      "text/plain": [
       "<IPython.core.display.HTML object>"
      ]
     },
     "metadata": {},
     "output_type": "display_data"
    },
    {
     "name": "stdout",
     "output_type": "stream",
     "text": [
      "user_U2_promptID_0_model_mistral-medium_shots_3_run_id_238579\n"
     ]
    },
    {
     "data": {
      "text/html": [
       "Changes to your `wandb` environment variables will be ignored because your `wandb` session has already started. For more information on how to modify your settings with `wandb.init()` arguments, please refer to <a href='https://wandb.me/wandb-init' target=\"_blank\">the W&B docs</a>."
      ],
      "text/plain": [
       "<IPython.core.display.HTML object>"
      ]
     },
     "metadata": {},
     "output_type": "display_data"
    },
    {
     "name": "stdout",
     "output_type": "stream",
     "text": [
      "user_U1_promptID_0_model_mistral-medium_shots_3_run_id_924718\n"
     ]
    },
    {
     "data": {
      "text/html": [
       "Changes to your `wandb` environment variables will be ignored because your `wandb` session has already started. For more information on how to modify your settings with `wandb.init()` arguments, please refer to <a href='https://wandb.me/wandb-init' target=\"_blank\">the W&B docs</a>."
      ],
      "text/plain": [
       "<IPython.core.display.HTML object>"
      ]
     },
     "metadata": {},
     "output_type": "display_data"
    },
    {
     "name": "stdout",
     "output_type": "stream",
     "text": [
      "user_U0_promptID_0_model_mistral-medium_shots_3_run_id_665610\n"
     ]
    },
    {
     "data": {
      "text/html": [
       "Changes to your `wandb` environment variables will be ignored because your `wandb` session has already started. For more information on how to modify your settings with `wandb.init()` arguments, please refer to <a href='https://wandb.me/wandb-init' target=\"_blank\">the W&B docs</a>."
      ],
      "text/plain": [
       "<IPython.core.display.HTML object>"
      ]
     },
     "metadata": {},
     "output_type": "display_data"
    },
    {
     "name": "stdout",
     "output_type": "stream",
     "text": [
      "user_U6_promptID_0_model_mistral-medium_shots_3_run_id_483629\n"
     ]
    },
    {
     "data": {
      "text/html": [
       "Changes to your `wandb` environment variables will be ignored because your `wandb` session has already started. For more information on how to modify your settings with `wandb.init()` arguments, please refer to <a href='https://wandb.me/wandb-init' target=\"_blank\">the W&B docs</a>."
      ],
      "text/plain": [
       "<IPython.core.display.HTML object>"
      ]
     },
     "metadata": {},
     "output_type": "display_data"
    },
    {
     "name": "stdout",
     "output_type": "stream",
     "text": [
      "user_U7_promptID_0_model_mistral-medium_shots_3_run_id_656639\n"
     ]
    },
    {
     "data": {
      "text/html": [
       "Changes to your `wandb` environment variables will be ignored because your `wandb` session has already started. For more information on how to modify your settings with `wandb.init()` arguments, please refer to <a href='https://wandb.me/wandb-init' target=\"_blank\">the W&B docs</a>."
      ],
      "text/plain": [
       "<IPython.core.display.HTML object>"
      ]
     },
     "metadata": {},
     "output_type": "display_data"
    },
    {
     "name": "stdout",
     "output_type": "stream",
     "text": [
      "user_U4_promptID_0_model_mistral-medium_shots_3_run_id_626169\n"
     ]
    },
    {
     "data": {
      "text/html": [
       "Changes to your `wandb` environment variables will be ignored because your `wandb` session has already started. For more information on how to modify your settings with `wandb.init()` arguments, please refer to <a href='https://wandb.me/wandb-init' target=\"_blank\">the W&B docs</a>."
      ],
      "text/plain": [
       "<IPython.core.display.HTML object>"
      ]
     },
     "metadata": {},
     "output_type": "display_data"
    },
    {
     "name": "stdout",
     "output_type": "stream",
     "text": [
      "user_U5_promptID_0_model_mistral-medium_shots_3_run_id_385765\n"
     ]
    },
    {
     "data": {
      "text/html": [
       "Changes to your `wandb` environment variables will be ignored because your `wandb` session has already started. For more information on how to modify your settings with `wandb.init()` arguments, please refer to <a href='https://wandb.me/wandb-init' target=\"_blank\">the W&B docs</a>."
      ],
      "text/plain": [
       "<IPython.core.display.HTML object>"
      ]
     },
     "metadata": {},
     "output_type": "display_data"
    }
   ],
   "source": [
    "dict_mistral_medium_3_shots_parallel = prmt.prompting_mistral(0,3,\"mistral-medium\",input_sentences,True,True,False)"
   ]
  },
  {
   "cell_type": "code",
   "execution_count": 176,
   "id": "d67176b7-2e81-45b9-a321-8d10504b19ad",
   "metadata": {},
   "outputs": [
    {
     "name": "stdout",
     "output_type": "stream",
     "text": [
      "user_U8_promptID_0_model_mistral-medium_shots_5_run_id_970813\n"
     ]
    },
    {
     "data": {
      "text/html": [
       "Changes to your `wandb` environment variables will be ignored because your `wandb` session has already started. For more information on how to modify your settings with `wandb.init()` arguments, please refer to <a href='https://wandb.me/wandb-init' target=\"_blank\">the W&B docs</a>."
      ],
      "text/plain": [
       "<IPython.core.display.HTML object>"
      ]
     },
     "metadata": {},
     "output_type": "display_data"
    },
    {
     "name": "stdout",
     "output_type": "stream",
     "text": [
      "user_U9_promptID_0_model_mistral-medium_shots_5_run_id_272537\n"
     ]
    },
    {
     "data": {
      "text/html": [
       "Changes to your `wandb` environment variables will be ignored because your `wandb` session has already started. For more information on how to modify your settings with `wandb.init()` arguments, please refer to <a href='https://wandb.me/wandb-init' target=\"_blank\">the W&B docs</a>."
      ],
      "text/plain": [
       "<IPython.core.display.HTML object>"
      ]
     },
     "metadata": {},
     "output_type": "display_data"
    },
    {
     "name": "stdout",
     "output_type": "stream",
     "text": [
      "user_U6_promptID_0_model_mistral-medium_shots_5_run_id_369452\n"
     ]
    },
    {
     "data": {
      "text/html": [
       "Changes to your `wandb` environment variables will be ignored because your `wandb` session has already started. For more information on how to modify your settings with `wandb.init()` arguments, please refer to <a href='https://wandb.me/wandb-init' target=\"_blank\">the W&B docs</a>."
      ],
      "text/plain": [
       "<IPython.core.display.HTML object>"
      ]
     },
     "metadata": {},
     "output_type": "display_data"
    },
    {
     "name": "stdout",
     "output_type": "stream",
     "text": [
      "user_U7_promptID_0_model_mistral-medium_shots_5_run_id_964749\n"
     ]
    },
    {
     "data": {
      "text/html": [
       "Changes to your `wandb` environment variables will be ignored because your `wandb` session has already started. For more information on how to modify your settings with `wandb.init()` arguments, please refer to <a href='https://wandb.me/wandb-init' target=\"_blank\">the W&B docs</a>."
      ],
      "text/plain": [
       "<IPython.core.display.HTML object>"
      ]
     },
     "metadata": {},
     "output_type": "display_data"
    },
    {
     "name": "stdout",
     "output_type": "stream",
     "text": [
      "user_U4_promptID_0_model_mistral-medium_shots_5_run_id_605254\n"
     ]
    },
    {
     "data": {
      "text/html": [
       "Changes to your `wandb` environment variables will be ignored because your `wandb` session has already started. For more information on how to modify your settings with `wandb.init()` arguments, please refer to <a href='https://wandb.me/wandb-init' target=\"_blank\">the W&B docs</a>."
      ],
      "text/plain": [
       "<IPython.core.display.HTML object>"
      ]
     },
     "metadata": {},
     "output_type": "display_data"
    },
    {
     "name": "stdout",
     "output_type": "stream",
     "text": [
      "user_U5_promptID_0_model_mistral-medium_shots_5_run_id_945664\n"
     ]
    },
    {
     "data": {
      "text/html": [
       "Changes to your `wandb` environment variables will be ignored because your `wandb` session has already started. For more information on how to modify your settings with `wandb.init()` arguments, please refer to <a href='https://wandb.me/wandb-init' target=\"_blank\">the W&B docs</a>."
      ],
      "text/plain": [
       "<IPython.core.display.HTML object>"
      ]
     },
     "metadata": {},
     "output_type": "display_data"
    },
    {
     "name": "stdout",
     "output_type": "stream",
     "text": [
      "user_U3_promptID_0_model_mistral-medium_shots_5_run_id_409478\n"
     ]
    },
    {
     "data": {
      "text/html": [
       "Changes to your `wandb` environment variables will be ignored because your `wandb` session has already started. For more information on how to modify your settings with `wandb.init()` arguments, please refer to <a href='https://wandb.me/wandb-init' target=\"_blank\">the W&B docs</a>."
      ],
      "text/plain": [
       "<IPython.core.display.HTML object>"
      ]
     },
     "metadata": {},
     "output_type": "display_data"
    },
    {
     "name": "stdout",
     "output_type": "stream",
     "text": [
      "user_U2_promptID_0_model_mistral-medium_shots_5_run_id_882824\n"
     ]
    },
    {
     "data": {
      "text/html": [
       "Changes to your `wandb` environment variables will be ignored because your `wandb` session has already started. For more information on how to modify your settings with `wandb.init()` arguments, please refer to <a href='https://wandb.me/wandb-init' target=\"_blank\">the W&B docs</a>."
      ],
      "text/plain": [
       "<IPython.core.display.HTML object>"
      ]
     },
     "metadata": {},
     "output_type": "display_data"
    },
    {
     "name": "stdout",
     "output_type": "stream",
     "text": [
      "user_U1_promptID_0_model_mistral-medium_shots_5_run_id_455168\n"
     ]
    },
    {
     "data": {
      "text/html": [
       "Changes to your `wandb` environment variables will be ignored because your `wandb` session has already started. For more information on how to modify your settings with `wandb.init()` arguments, please refer to <a href='https://wandb.me/wandb-init' target=\"_blank\">the W&B docs</a>."
      ],
      "text/plain": [
       "<IPython.core.display.HTML object>"
      ]
     },
     "metadata": {},
     "output_type": "display_data"
    },
    {
     "name": "stdout",
     "output_type": "stream",
     "text": [
      "user_U0_promptID_0_model_mistral-medium_shots_5_run_id_943298\n"
     ]
    },
    {
     "data": {
      "text/html": [
       "Changes to your `wandb` environment variables will be ignored because your `wandb` session has already started. For more information on how to modify your settings with `wandb.init()` arguments, please refer to <a href='https://wandb.me/wandb-init' target=\"_blank\">the W&B docs</a>."
      ],
      "text/plain": [
       "<IPython.core.display.HTML object>"
      ]
     },
     "metadata": {},
     "output_type": "display_data"
    }
   ],
   "source": [
    "dict_mistral_medium_5_shots_parallel = prmt.prompting_mistral(0,5,\"mistral-medium\",input_sentences,True,True,False)"
   ]
  },
  {
   "cell_type": "code",
   "execution_count": 177,
   "id": "ca31404d-c952-4b17-8122-b0304936ee39",
   "metadata": {},
   "outputs": [
    {
     "name": "stdout",
     "output_type": "stream",
     "text": [
      "user_U0_promptID_0_model_mistral-medium_shots_10_run_id_220764\n"
     ]
    },
    {
     "data": {
      "text/html": [
       "Changes to your `wandb` environment variables will be ignored because your `wandb` session has already started. For more information on how to modify your settings with `wandb.init()` arguments, please refer to <a href='https://wandb.me/wandb-init' target=\"_blank\">the W&B docs</a>."
      ],
      "text/plain": [
       "<IPython.core.display.HTML object>"
      ]
     },
     "metadata": {},
     "output_type": "display_data"
    },
    {
     "name": "stdout",
     "output_type": "stream",
     "text": [
      "user_U5_promptID_0_model_mistral-medium_shots_10_run_id_591081\n"
     ]
    },
    {
     "data": {
      "text/html": [
       "Changes to your `wandb` environment variables will be ignored because your `wandb` session has already started. For more information on how to modify your settings with `wandb.init()` arguments, please refer to <a href='https://wandb.me/wandb-init' target=\"_blank\">the W&B docs</a>."
      ],
      "text/plain": [
       "<IPython.core.display.HTML object>"
      ]
     },
     "metadata": {},
     "output_type": "display_data"
    },
    {
     "name": "stdout",
     "output_type": "stream",
     "text": [
      "user_U1_promptID_0_model_mistral-medium_shots_10_run_id_178957\n"
     ]
    },
    {
     "data": {
      "text/html": [
       "Changes to your `wandb` environment variables will be ignored because your `wandb` session has already started. For more information on how to modify your settings with `wandb.init()` arguments, please refer to <a href='https://wandb.me/wandb-init' target=\"_blank\">the W&B docs</a>."
      ],
      "text/plain": [
       "<IPython.core.display.HTML object>"
      ]
     },
     "metadata": {},
     "output_type": "display_data"
    },
    {
     "name": "stdout",
     "output_type": "stream",
     "text": [
      "user_U4_promptID_0_model_mistral-medium_shots_10_run_id_247594\n"
     ]
    },
    {
     "data": {
      "text/html": [
       "Changes to your `wandb` environment variables will be ignored because your `wandb` session has already started. For more information on how to modify your settings with `wandb.init()` arguments, please refer to <a href='https://wandb.me/wandb-init' target=\"_blank\">the W&B docs</a>."
      ],
      "text/plain": [
       "<IPython.core.display.HTML object>"
      ]
     },
     "metadata": {},
     "output_type": "display_data"
    },
    {
     "name": "stdout",
     "output_type": "stream",
     "text": [
      "user_U7_promptID_0_model_mistral-medium_shots_10_run_id_890785\n"
     ]
    },
    {
     "data": {
      "text/html": [
       "Changes to your `wandb` environment variables will be ignored because your `wandb` session has already started. For more information on how to modify your settings with `wandb.init()` arguments, please refer to <a href='https://wandb.me/wandb-init' target=\"_blank\">the W&B docs</a>."
      ],
      "text/plain": [
       "<IPython.core.display.HTML object>"
      ]
     },
     "metadata": {},
     "output_type": "display_data"
    },
    {
     "name": "stdout",
     "output_type": "stream",
     "text": [
      "user_U2_promptID_0_model_mistral-medium_shots_10_run_id_336574\n"
     ]
    },
    {
     "data": {
      "text/html": [
       "Changes to your `wandb` environment variables will be ignored because your `wandb` session has already started. For more information on how to modify your settings with `wandb.init()` arguments, please refer to <a href='https://wandb.me/wandb-init' target=\"_blank\">the W&B docs</a>."
      ],
      "text/plain": [
       "<IPython.core.display.HTML object>"
      ]
     },
     "metadata": {},
     "output_type": "display_data"
    },
    {
     "name": "stdout",
     "output_type": "stream",
     "text": [
      "user_U8_promptID_0_model_mistral-medium_shots_10_run_id_809176\n"
     ]
    },
    {
     "data": {
      "text/html": [
       "Changes to your `wandb` environment variables will be ignored because your `wandb` session has already started. For more information on how to modify your settings with `wandb.init()` arguments, please refer to <a href='https://wandb.me/wandb-init' target=\"_blank\">the W&B docs</a>."
      ],
      "text/plain": [
       "<IPython.core.display.HTML object>"
      ]
     },
     "metadata": {},
     "output_type": "display_data"
    },
    {
     "name": "stdout",
     "output_type": "stream",
     "text": [
      "user_U9_promptID_0_model_mistral-medium_shots_10_run_id_859396\n"
     ]
    },
    {
     "data": {
      "text/html": [
       "Changes to your `wandb` environment variables will be ignored because your `wandb` session has already started. For more information on how to modify your settings with `wandb.init()` arguments, please refer to <a href='https://wandb.me/wandb-init' target=\"_blank\">the W&B docs</a>."
      ],
      "text/plain": [
       "<IPython.core.display.HTML object>"
      ]
     },
     "metadata": {},
     "output_type": "display_data"
    },
    {
     "name": "stdout",
     "output_type": "stream",
     "text": [
      "user_U6_promptID_0_model_mistral-medium_shots_10_run_id_807166\n"
     ]
    },
    {
     "data": {
      "text/html": [
       "Changes to your `wandb` environment variables will be ignored because your `wandb` session has already started. For more information on how to modify your settings with `wandb.init()` arguments, please refer to <a href='https://wandb.me/wandb-init' target=\"_blank\">the W&B docs</a>."
      ],
      "text/plain": [
       "<IPython.core.display.HTML object>"
      ]
     },
     "metadata": {},
     "output_type": "display_data"
    },
    {
     "name": "stdout",
     "output_type": "stream",
     "text": [
      "user_U3_promptID_0_model_mistral-medium_shots_10_run_id_516716\n"
     ]
    },
    {
     "data": {
      "text/html": [
       "Changes to your `wandb` environment variables will be ignored because your `wandb` session has already started. For more information on how to modify your settings with `wandb.init()` arguments, please refer to <a href='https://wandb.me/wandb-init' target=\"_blank\">the W&B docs</a>."
      ],
      "text/plain": [
       "<IPython.core.display.HTML object>"
      ]
     },
     "metadata": {},
     "output_type": "display_data"
    }
   ],
   "source": [
    "dict_mistral_medium_10_shots_parallel = prmt.prompting_mistral(0,10,\"mistral-medium\",input_sentences,True,True,False)"
   ]
  },
  {
   "cell_type": "markdown",
   "id": "9e6e1798-09ab-4c17-92a8-3d9dfc7f2afd",
   "metadata": {},
   "source": [
    "### GPT Run - No Context, Parallel Data"
   ]
  },
  {
   "cell_type": "code",
   "execution_count": 5,
   "id": "18a6f3d9-3140-4780-9de1-8db202b50003",
   "metadata": {},
   "outputs": [
    {
     "name": "stdout",
     "output_type": "stream",
     "text": [
      "output_llm_data/user_U3_promptID_1_model_gpt-3.5-turbo-0125_shots_3_run_id_805808_output.csv\n",
      "output_llm_data/user_U4_promptID_1_model_gpt-3.5-turbo-0125_shots_3_run_id_315937_output.csv\n",
      "output_llm_data/user_U5_promptID_1_model_gpt-3.5-turbo-0125_shots_3_run_id_456565_output.csv\n",
      "output_llm_data/user_U2_promptID_1_model_gpt-3.5-turbo-0125_shots_3_run_id_144667_output.csv\n",
      "output_llm_data/user_U7_promptID_1_model_gpt-3.5-turbo-0125_shots_3_run_id_856408_output.csv\n",
      "output_llm_data/user_U8_promptID_1_model_gpt-3.5-turbo-0125_shots_3_run_id_865558_output.csv\n",
      "output_llm_data/user_U0_promptID_1_model_gpt-3.5-turbo-0125_shots_3_run_id_552335_output.csv\n",
      "output_llm_data/user_U1_promptID_1_model_gpt-3.5-turbo-0125_shots_3_run_id_505727_output.csv\n",
      "output_llm_data/user_U6_promptID_1_model_gpt-3.5-turbo-0125_shots_3_run_id_468746_output.csv\n",
      "output_llm_data/user_U9_promptID_1_model_gpt-3.5-turbo-0125_shots_3_run_id_740820_output.csv\n"
     ]
    }
   ],
   "source": [
    "dict_gpt_3_5_turbo_3_shots_parallel = prmt.prompting_gpt(1,3,\"gpt-3.5-turbo-0125\",input_sentences,True,True,False)"
   ]
  },
  {
   "cell_type": "code",
   "execution_count": 6,
   "id": "7969a559-f9d6-4280-84b7-944f14cde634",
   "metadata": {},
   "outputs": [
    {
     "name": "stdout",
     "output_type": "stream",
     "text": [
      "output_llm_data/user_U4_promptID_1_model_gpt-3.5-turbo-0125_shots_5_run_id_861170_output.csv\n",
      "output_llm_data/user_U3_promptID_1_model_gpt-3.5-turbo-0125_shots_5_run_id_207716_output.csv\n",
      "output_llm_data/user_U2_promptID_1_model_gpt-3.5-turbo-0125_shots_5_run_id_506267_output.csv\n",
      "output_llm_data/user_U5_promptID_1_model_gpt-3.5-turbo-0125_shots_5_run_id_205610_output.csv\n",
      "output_llm_data/user_U0_promptID_1_model_gpt-3.5-turbo-0125_shots_5_run_id_773385_output.csv\n",
      "output_llm_data/user_U7_promptID_1_model_gpt-3.5-turbo-0125_shots_5_run_id_456584_output.csv\n",
      "output_llm_data/user_U8_promptID_1_model_gpt-3.5-turbo-0125_shots_5_run_id_644963_output.csv\n",
      "output_llm_data/user_U6_promptID_1_model_gpt-3.5-turbo-0125_shots_5_run_id_176414_output.csv\n",
      "output_llm_data/user_U9_promptID_1_model_gpt-3.5-turbo-0125_shots_5_run_id_127897_output.csv\n",
      "output_llm_data/user_U1_promptID_1_model_gpt-3.5-turbo-0125_shots_5_run_id_598524_output.csv\n"
     ]
    }
   ],
   "source": [
    "dict_gpt_3_5_turbo_5_shots_parallel = prmt.prompting_gpt(1,5,\"gpt-3.5-turbo-0125\",input_sentences,True,True,False)"
   ]
  },
  {
   "cell_type": "code",
   "execution_count": 7,
   "id": "676e1915-e281-45fe-b4bb-9d4ae5c64944",
   "metadata": {},
   "outputs": [
    {
     "name": "stdout",
     "output_type": "stream",
     "text": [
      "output_llm_data/user_U8_promptID_1_model_gpt-3.5-turbo-0125_shots_10_run_id_769898_output.csv\n",
      "output_llm_data/user_U3_promptID_1_model_gpt-3.5-turbo-0125_shots_10_run_id_710352_output.csv\n",
      "output_llm_data/user_U7_promptID_1_model_gpt-3.5-turbo-0125_shots_10_run_id_333435_output.csv\n",
      "output_llm_data/user_U9_promptID_1_model_gpt-3.5-turbo-0125_shots_10_run_id_645960_output.csv\n",
      "output_llm_data/user_U2_promptID_1_model_gpt-3.5-turbo-0125_shots_10_run_id_566057_output.csv\n",
      "output_llm_data/user_U6_promptID_1_model_gpt-3.5-turbo-0125_shots_10_run_id_181949_output.csv\n",
      "output_llm_data/user_U1_promptID_1_model_gpt-3.5-turbo-0125_shots_10_run_id_436851_output.csv\n",
      "output_llm_data/user_U5_promptID_1_model_gpt-3.5-turbo-0125_shots_10_run_id_634516_output.csv\n",
      "output_llm_data/user_U0_promptID_1_model_gpt-3.5-turbo-0125_shots_10_run_id_879976_output.csv\n",
      "output_llm_data/user_U4_promptID_1_model_gpt-3.5-turbo-0125_shots_10_run_id_694221_output.csv\n"
     ]
    }
   ],
   "source": [
    "dict_gpt_3_5_turbo_10_shots_parallel = prmt.prompting_gpt(1,10,\"gpt-3.5-turbo-0125\",input_sentences,True,True,False)"
   ]
  },
  {
   "cell_type": "code",
   "execution_count": 8,
   "id": "3f59f090-6dff-4d40-9b03-98d590fab10f",
   "metadata": {},
   "outputs": [
    {
     "name": "stdout",
     "output_type": "stream",
     "text": [
      "output_llm_data/user_U3_promptID_1_model_gpt-4_shots_3_run_id_653657_output.csv\n",
      "output_llm_data/user_U4_promptID_1_model_gpt-4_shots_3_run_id_135370_output.csv\n",
      "output_llm_data/user_U5_promptID_1_model_gpt-4_shots_3_run_id_459380_output.csv\n",
      "output_llm_data/user_U2_promptID_1_model_gpt-4_shots_3_run_id_356144_output.csv\n",
      "output_llm_data/user_U7_promptID_1_model_gpt-4_shots_3_run_id_470699_output.csv\n",
      "output_llm_data/user_U8_promptID_1_model_gpt-4_shots_3_run_id_361189_output.csv\n",
      "output_llm_data/user_U0_promptID_1_model_gpt-4_shots_3_run_id_120269_output.csv\n",
      "output_llm_data/user_U1_promptID_1_model_gpt-4_shots_3_run_id_645131_output.csv\n",
      "output_llm_data/user_U6_promptID_1_model_gpt-4_shots_3_run_id_880593_output.csv\n",
      "output_llm_data/user_U9_promptID_1_model_gpt-4_shots_3_run_id_551060_output.csv\n"
     ]
    }
   ],
   "source": [
    "dict_gpt_4_3_shots_parallel = prmt.prompting_gpt(1,3,\"gpt-4\",input_sentences,True,True,False)"
   ]
  },
  {
   "cell_type": "code",
   "execution_count": 9,
   "id": "ef8be8c2-676c-4a33-a77f-d389180bfede",
   "metadata": {},
   "outputs": [
    {
     "name": "stdout",
     "output_type": "stream",
     "text": [
      "output_llm_data/user_U4_promptID_1_model_gpt-4_shots_5_run_id_997511_output.csv\n",
      "output_llm_data/user_U3_promptID_1_model_gpt-4_shots_5_run_id_399609_output.csv\n",
      "output_llm_data/user_U2_promptID_1_model_gpt-4_shots_5_run_id_436876_output.csv\n",
      "output_llm_data/user_U5_promptID_1_model_gpt-4_shots_5_run_id_977789_output.csv\n",
      "output_llm_data/user_U0_promptID_1_model_gpt-4_shots_5_run_id_559674_output.csv\n",
      "output_llm_data/user_U7_promptID_1_model_gpt-4_shots_5_run_id_861605_output.csv\n",
      "output_llm_data/user_U8_promptID_1_model_gpt-4_shots_5_run_id_502086_output.csv\n",
      "output_llm_data/user_U6_promptID_1_model_gpt-4_shots_5_run_id_679145_output.csv\n",
      "output_llm_data/user_U9_promptID_1_model_gpt-4_shots_5_run_id_654657_output.csv\n",
      "output_llm_data/user_U1_promptID_1_model_gpt-4_shots_5_run_id_677572_output.csv\n"
     ]
    }
   ],
   "source": [
    "dict_gpt_4_5_shots_parallel = prmt.prompting_gpt(1,5,\"gpt-4\",input_sentences,True,True,False)"
   ]
  },
  {
   "cell_type": "code",
   "execution_count": 10,
   "id": "2d1baf17-8a36-49c2-8ea1-b84637fc1ed7",
   "metadata": {},
   "outputs": [
    {
     "name": "stdout",
     "output_type": "stream",
     "text": [
      "output_llm_data/user_U8_promptID_1_model_gpt-4_shots_10_run_id_665118_output.csv\n",
      "output_llm_data/user_U3_promptID_1_model_gpt-4_shots_10_run_id_764135_output.csv\n",
      "output_llm_data/user_U7_promptID_1_model_gpt-4_shots_10_run_id_317995_output.csv\n",
      "output_llm_data/user_U9_promptID_1_model_gpt-4_shots_10_run_id_516984_output.csv\n",
      "output_llm_data/user_U2_promptID_1_model_gpt-4_shots_10_run_id_647655_output.csv\n",
      "output_llm_data/user_U6_promptID_1_model_gpt-4_shots_10_run_id_979804_output.csv\n",
      "output_llm_data/user_U1_promptID_1_model_gpt-4_shots_10_run_id_872044_output.csv\n",
      "output_llm_data/user_U5_promptID_1_model_gpt-4_shots_10_run_id_149329_output.csv\n",
      "output_llm_data/user_U0_promptID_1_model_gpt-4_shots_10_run_id_738517_output.csv\n",
      "output_llm_data/user_U4_promptID_1_model_gpt-4_shots_10_run_id_546283_output.csv\n"
     ]
    }
   ],
   "source": [
    "dict_gpt_4_10_shots_parallel = prmt.prompting_gpt(1,10,\"gpt-4\",input_sentences,True,True,False)"
   ]
  },
  {
   "cell_type": "markdown",
   "id": "1b620f20-ccde-4c80-91b5-3a4241c68ef9",
   "metadata": {},
   "source": [
    "### Mistral Run - No Context, NonParallel Data"
   ]
  },
  {
   "cell_type": "code",
   "execution_count": 11,
   "id": "4d80d22a-492a-41f3-8d77-413d7d032c78",
   "metadata": {},
   "outputs": [
    {
     "name": "stdout",
     "output_type": "stream",
     "text": [
      "user_U8_promptID_2_model_mistral-small_shots_3_run_id_991271\n",
      "user_U9_promptID_2_model_mistral-small_shots_3_run_id_179621\n",
      "user_U3_promptID_2_model_mistral-small_shots_3_run_id_125968\n",
      "user_U2_promptID_2_model_mistral-small_shots_3_run_id_650073\n",
      "user_U1_promptID_2_model_mistral-small_shots_3_run_id_297383\n",
      "user_U0_promptID_2_model_mistral-small_shots_3_run_id_325769\n",
      "user_U6_promptID_2_model_mistral-small_shots_3_run_id_132458\n",
      "user_U7_promptID_2_model_mistral-small_shots_3_run_id_991281\n",
      "user_U4_promptID_2_model_mistral-small_shots_3_run_id_274359\n",
      "user_U5_promptID_2_model_mistral-small_shots_3_run_id_735944\n"
     ]
    }
   ],
   "source": [
    "dict_mistral_small_3_shots_non_parallel = prmt.prompting_mistral(2,3,\"mistral-small\",input_sentences,True,False,False)"
   ]
  },
  {
   "cell_type": "code",
   "execution_count": 12,
   "id": "f3a46853-9ad4-4a54-b376-986c2f1b9bbe",
   "metadata": {},
   "outputs": [
    {
     "name": "stdout",
     "output_type": "stream",
     "text": [
      "user_U8_promptID_2_model_mistral-small_shots_5_run_id_865300\n",
      "user_U9_promptID_2_model_mistral-small_shots_5_run_id_973880\n",
      "user_U6_promptID_2_model_mistral-small_shots_5_run_id_173732\n",
      "user_U7_promptID_2_model_mistral-small_shots_5_run_id_598333\n",
      "user_U4_promptID_2_model_mistral-small_shots_5_run_id_182465\n",
      "user_U5_promptID_2_model_mistral-small_shots_5_run_id_201218\n",
      "user_U3_promptID_2_model_mistral-small_shots_5_run_id_492663\n",
      "user_U2_promptID_2_model_mistral-small_shots_5_run_id_565316\n",
      "user_U1_promptID_2_model_mistral-small_shots_5_run_id_133646\n",
      "user_U0_promptID_2_model_mistral-small_shots_5_run_id_372711\n"
     ]
    }
   ],
   "source": [
    "dict_mistral_small_5_shots_non_parallel = prmt.prompting_mistral(2,5,\"mistral-small\",input_sentences,True,False,False)"
   ]
  },
  {
   "cell_type": "code",
   "execution_count": 13,
   "id": "d5df88ce-5a9d-40d3-9f83-7ee7437699d7",
   "metadata": {},
   "outputs": [
    {
     "name": "stdout",
     "output_type": "stream",
     "text": [
      "user_U0_promptID_2_model_mistral-small_shots_10_run_id_579996\n",
      "user_U5_promptID_2_model_mistral-small_shots_10_run_id_251836\n",
      "user_U1_promptID_2_model_mistral-small_shots_10_run_id_403919\n",
      "user_U4_promptID_2_model_mistral-small_shots_10_run_id_105008\n",
      "user_U7_promptID_2_model_mistral-small_shots_10_run_id_237772\n",
      "user_U2_promptID_2_model_mistral-small_shots_10_run_id_875430\n",
      "user_U8_promptID_2_model_mistral-small_shots_10_run_id_768727\n",
      "user_U9_promptID_2_model_mistral-small_shots_10_run_id_963762\n",
      "user_U6_promptID_2_model_mistral-small_shots_10_run_id_947528\n",
      "user_U3_promptID_2_model_mistral-small_shots_10_run_id_547720\n"
     ]
    }
   ],
   "source": [
    "dict_mistral_small_10_shots_non_parallel = prmt.prompting_mistral(2,10,\"mistral-small\",input_sentences,True,False,False)"
   ]
  },
  {
   "cell_type": "code",
   "execution_count": 14,
   "id": "5cbe7e1f-9202-419b-a125-39c1fd2cfa0e",
   "metadata": {},
   "outputs": [
    {
     "name": "stdout",
     "output_type": "stream",
     "text": [
      "user_U8_promptID_2_model_mistral-medium_shots_3_run_id_475381\n",
      "user_U9_promptID_2_model_mistral-medium_shots_3_run_id_936980\n",
      "user_U3_promptID_2_model_mistral-medium_shots_3_run_id_210589\n",
      "user_U2_promptID_2_model_mistral-medium_shots_3_run_id_863077\n",
      "user_U1_promptID_2_model_mistral-medium_shots_3_run_id_433576\n",
      "user_U0_promptID_2_model_mistral-medium_shots_3_run_id_323408\n",
      "user_U6_promptID_2_model_mistral-medium_shots_3_run_id_939527\n",
      "user_U7_promptID_2_model_mistral-medium_shots_3_run_id_115999\n",
      "user_U4_promptID_2_model_mistral-medium_shots_3_run_id_759577\n",
      "user_U5_promptID_2_model_mistral-medium_shots_3_run_id_628348\n"
     ]
    }
   ],
   "source": [
    "dict_mistral_medium_3_shots_non_parallel = prmt.prompting_mistral(2,3,\"mistral-medium\",input_sentences,True,False,False)"
   ]
  },
  {
   "cell_type": "code",
   "execution_count": 15,
   "id": "dd5c8c00-d82e-4cd5-8255-a1b82b789b11",
   "metadata": {},
   "outputs": [
    {
     "name": "stdout",
     "output_type": "stream",
     "text": [
      "user_U8_promptID_2_model_mistral-medium_shots_5_run_id_386065\n",
      "user_U9_promptID_2_model_mistral-medium_shots_5_run_id_893870\n",
      "user_U6_promptID_2_model_mistral-medium_shots_5_run_id_209327\n",
      "user_U7_promptID_2_model_mistral-medium_shots_5_run_id_560543\n",
      "user_U4_promptID_2_model_mistral-medium_shots_5_run_id_123942\n",
      "user_U5_promptID_2_model_mistral-medium_shots_5_run_id_556987\n",
      "user_U3_promptID_2_model_mistral-medium_shots_5_run_id_711149\n",
      "user_U2_promptID_2_model_mistral-medium_shots_5_run_id_275014\n",
      "user_U1_promptID_2_model_mistral-medium_shots_5_run_id_911714\n",
      "user_U0_promptID_2_model_mistral-medium_shots_5_run_id_379944\n"
     ]
    }
   ],
   "source": [
    "dict_mistral_medium_5_shots_non_parallel = prmt.prompting_mistral(2,5,\"mistral-medium\",input_sentences,True,False,False)"
   ]
  },
  {
   "cell_type": "code",
   "execution_count": 16,
   "id": "3c9a4bcf-aa88-4a76-a5e8-07d99cbae6a0",
   "metadata": {},
   "outputs": [
    {
     "name": "stdout",
     "output_type": "stream",
     "text": [
      "user_U0_promptID_2_model_mistral-medium_shots_10_run_id_492220\n",
      "user_U5_promptID_2_model_mistral-medium_shots_10_run_id_655167\n",
      "user_U1_promptID_2_model_mistral-medium_shots_10_run_id_628927\n",
      "user_U4_promptID_2_model_mistral-medium_shots_10_run_id_644601\n",
      "user_U7_promptID_2_model_mistral-medium_shots_10_run_id_141189\n",
      "user_U2_promptID_2_model_mistral-medium_shots_10_run_id_452429\n",
      "user_U8_promptID_2_model_mistral-medium_shots_10_run_id_795735\n",
      "user_U9_promptID_2_model_mistral-medium_shots_10_run_id_334305\n",
      "user_U6_promptID_2_model_mistral-medium_shots_10_run_id_134351\n",
      "user_U3_promptID_2_model_mistral-medium_shots_10_run_id_818331\n"
     ]
    }
   ],
   "source": [
    "dict_mistral_medium_10_shots_non_parallel = prmt.prompting_mistral(2,10,\"mistral-medium\",input_sentences,True,False,False)"
   ]
  },
  {
   "cell_type": "markdown",
   "id": "97e0cdc6-e920-4d1d-9e86-6f70046d5853",
   "metadata": {},
   "source": [
    "### GPT Non Parallel, No Context"
   ]
  },
  {
   "cell_type": "code",
   "execution_count": 17,
   "id": "e27a169f-3521-4daf-9f0f-291683da0aa5",
   "metadata": {},
   "outputs": [
    {
     "name": "stdout",
     "output_type": "stream",
     "text": [
      "output_llm_data/user_U3_promptID_3_model_gpt-3.5-turbo-0125_shots_3_run_id_609966_output.csv\n",
      "output_llm_data/user_U4_promptID_3_model_gpt-3.5-turbo-0125_shots_3_run_id_799743_output.csv\n",
      "output_llm_data/user_U5_promptID_3_model_gpt-3.5-turbo-0125_shots_3_run_id_736744_output.csv\n",
      "output_llm_data/user_U2_promptID_3_model_gpt-3.5-turbo-0125_shots_3_run_id_506769_output.csv\n",
      "output_llm_data/user_U7_promptID_3_model_gpt-3.5-turbo-0125_shots_3_run_id_123720_output.csv\n",
      "output_llm_data/user_U8_promptID_3_model_gpt-3.5-turbo-0125_shots_3_run_id_216686_output.csv\n",
      "output_llm_data/user_U0_promptID_3_model_gpt-3.5-turbo-0125_shots_3_run_id_332885_output.csv\n",
      "output_llm_data/user_U1_promptID_3_model_gpt-3.5-turbo-0125_shots_3_run_id_627652_output.csv\n",
      "output_llm_data/user_U6_promptID_3_model_gpt-3.5-turbo-0125_shots_3_run_id_159154_output.csv\n",
      "output_llm_data/user_U9_promptID_3_model_gpt-3.5-turbo-0125_shots_3_run_id_162729_output.csv\n"
     ]
    }
   ],
   "source": [
    "dict_gpt_3_5_turbo_3_shots__non_parallel = prmt.prompting_gpt(3,3,\"gpt-3.5-turbo-0125\",input_sentences,True,False,False)"
   ]
  },
  {
   "cell_type": "code",
   "execution_count": 18,
   "id": "f8754f47-7bef-4ddd-82db-99836496ad97",
   "metadata": {},
   "outputs": [
    {
     "name": "stdout",
     "output_type": "stream",
     "text": [
      "output_llm_data/user_U4_promptID_3_model_gpt-3.5-turbo-0125_shots_5_run_id_373985_output.csv\n",
      "output_llm_data/user_U3_promptID_3_model_gpt-3.5-turbo-0125_shots_5_run_id_128630_output.csv\n",
      "output_llm_data/user_U2_promptID_3_model_gpt-3.5-turbo-0125_shots_5_run_id_671858_output.csv\n",
      "output_llm_data/user_U5_promptID_3_model_gpt-3.5-turbo-0125_shots_5_run_id_223316_output.csv\n",
      "output_llm_data/user_U0_promptID_3_model_gpt-3.5-turbo-0125_shots_5_run_id_504108_output.csv\n",
      "output_llm_data/user_U7_promptID_3_model_gpt-3.5-turbo-0125_shots_5_run_id_692597_output.csv\n",
      "output_llm_data/user_U8_promptID_3_model_gpt-3.5-turbo-0125_shots_5_run_id_198811_output.csv\n",
      "output_llm_data/user_U6_promptID_3_model_gpt-3.5-turbo-0125_shots_5_run_id_563583_output.csv\n",
      "output_llm_data/user_U9_promptID_3_model_gpt-3.5-turbo-0125_shots_5_run_id_107590_output.csv\n",
      "output_llm_data/user_U1_promptID_3_model_gpt-3.5-turbo-0125_shots_5_run_id_653945_output.csv\n"
     ]
    }
   ],
   "source": [
    "dict_gpt_3_5_turbo_5_shots__non_parallel = prmt.prompting_gpt(3,5,\"gpt-3.5-turbo-0125\",input_sentences,True,False,False)"
   ]
  },
  {
   "cell_type": "code",
   "execution_count": 19,
   "id": "a7049775-1e33-4ec0-bc21-7c804f0718c3",
   "metadata": {},
   "outputs": [
    {
     "name": "stdout",
     "output_type": "stream",
     "text": [
      "output_llm_data/user_U8_promptID_3_model_gpt-3.5-turbo-0125_shots_10_run_id_792145_output.csv\n",
      "output_llm_data/user_U3_promptID_3_model_gpt-3.5-turbo-0125_shots_10_run_id_852301_output.csv\n",
      "output_llm_data/user_U7_promptID_3_model_gpt-3.5-turbo-0125_shots_10_run_id_961993_output.csv\n",
      "output_llm_data/user_U9_promptID_3_model_gpt-3.5-turbo-0125_shots_10_run_id_201898_output.csv\n",
      "output_llm_data/user_U2_promptID_3_model_gpt-3.5-turbo-0125_shots_10_run_id_714857_output.csv\n",
      "output_llm_data/user_U6_promptID_3_model_gpt-3.5-turbo-0125_shots_10_run_id_529768_output.csv\n",
      "output_llm_data/user_U1_promptID_3_model_gpt-3.5-turbo-0125_shots_10_run_id_273573_output.csv\n",
      "output_llm_data/user_U5_promptID_3_model_gpt-3.5-turbo-0125_shots_10_run_id_878221_output.csv\n",
      "output_llm_data/user_U0_promptID_3_model_gpt-3.5-turbo-0125_shots_10_run_id_468199_output.csv\n",
      "output_llm_data/user_U4_promptID_3_model_gpt-3.5-turbo-0125_shots_10_run_id_942598_output.csv\n"
     ]
    }
   ],
   "source": [
    "dict_gpt_3_5_turbo_10_shots__non_parallel = prmt.prompting_gpt(3,10,\"gpt-3.5-turbo-0125\",input_sentences,True,False,False)"
   ]
  },
  {
   "cell_type": "code",
   "execution_count": 20,
   "id": "7cfd211c-0912-4cff-984c-d4d2f2c1f4b9",
   "metadata": {},
   "outputs": [
    {
     "name": "stdout",
     "output_type": "stream",
     "text": [
      "output_llm_data/user_U3_promptID_3_model_gpt-4_shots_3_run_id_752619_output.csv\n",
      "output_llm_data/user_U4_promptID_3_model_gpt-4_shots_3_run_id_417320_output.csv\n",
      "output_llm_data/user_U5_promptID_3_model_gpt-4_shots_3_run_id_103813_output.csv\n",
      "output_llm_data/user_U2_promptID_3_model_gpt-4_shots_3_run_id_986194_output.csv\n",
      "output_llm_data/user_U7_promptID_3_model_gpt-4_shots_3_run_id_997452_output.csv\n",
      "output_llm_data/user_U8_promptID_3_model_gpt-4_shots_3_run_id_666714_output.csv\n",
      "output_llm_data/user_U0_promptID_3_model_gpt-4_shots_3_run_id_527119_output.csv\n",
      "output_llm_data/user_U1_promptID_3_model_gpt-4_shots_3_run_id_482165_output.csv\n",
      "output_llm_data/user_U6_promptID_3_model_gpt-4_shots_3_run_id_490367_output.csv\n",
      "output_llm_data/user_U9_promptID_3_model_gpt-4_shots_3_run_id_609987_output.csv\n"
     ]
    }
   ],
   "source": [
    "dict_gpt_4_3_shots_non_parallel = prmt.prompting_gpt(3,3,\"gpt-4\",input_sentences,True,False,False)"
   ]
  },
  {
   "cell_type": "code",
   "execution_count": 21,
   "id": "e9230004-6615-4e16-af9e-3a4468a99ded",
   "metadata": {},
   "outputs": [
    {
     "name": "stdout",
     "output_type": "stream",
     "text": [
      "output_llm_data/user_U4_promptID_3_model_gpt-4_shots_5_run_id_349966_output.csv\n",
      "output_llm_data/user_U3_promptID_3_model_gpt-4_shots_5_run_id_118623_output.csv\n",
      "output_llm_data/user_U2_promptID_3_model_gpt-4_shots_5_run_id_925116_output.csv\n",
      "output_llm_data/user_U5_promptID_3_model_gpt-4_shots_5_run_id_248409_output.csv\n",
      "output_llm_data/user_U0_promptID_3_model_gpt-4_shots_5_run_id_237821_output.csv\n",
      "output_llm_data/user_U7_promptID_3_model_gpt-4_shots_5_run_id_218232_output.csv\n",
      "output_llm_data/user_U8_promptID_3_model_gpt-4_shots_5_run_id_110487_output.csv\n",
      "output_llm_data/user_U6_promptID_3_model_gpt-4_shots_5_run_id_324801_output.csv\n",
      "output_llm_data/user_U9_promptID_3_model_gpt-4_shots_5_run_id_402140_output.csv\n",
      "output_llm_data/user_U1_promptID_3_model_gpt-4_shots_5_run_id_756809_output.csv\n"
     ]
    }
   ],
   "source": [
    "dict_gpt_4_5_shots_non_parallel = prmt.prompting_gpt(3,5,\"gpt-4\",input_sentences,True,False,False)"
   ]
  },
  {
   "cell_type": "code",
   "execution_count": 22,
   "id": "4c0976e1-74c2-4b2a-8ccf-12761b8387d8",
   "metadata": {
    "scrolled": true
   },
   "outputs": [
    {
     "name": "stdout",
     "output_type": "stream",
     "text": [
      "output_llm_data/user_U8_promptID_3_model_gpt-4_shots_10_run_id_913689_output.csv\n",
      "output_llm_data/user_U3_promptID_3_model_gpt-4_shots_10_run_id_409140_output.csv\n",
      "output_llm_data/user_U7_promptID_3_model_gpt-4_shots_10_run_id_624083_output.csv\n",
      "output_llm_data/user_U9_promptID_3_model_gpt-4_shots_10_run_id_396921_output.csv\n",
      "output_llm_data/user_U2_promptID_3_model_gpt-4_shots_10_run_id_546855_output.csv\n",
      "output_llm_data/user_U6_promptID_3_model_gpt-4_shots_10_run_id_348077_output.csv\n",
      "output_llm_data/user_U1_promptID_3_model_gpt-4_shots_10_run_id_905731_output.csv\n",
      "output_llm_data/user_U5_promptID_3_model_gpt-4_shots_10_run_id_659256_output.csv\n",
      "output_llm_data/user_U0_promptID_3_model_gpt-4_shots_10_run_id_305733_output.csv\n",
      "output_llm_data/user_U4_promptID_3_model_gpt-4_shots_10_run_id_602902_output.csv\n"
     ]
    }
   ],
   "source": [
    "dict_gpt_4_10_shots_non_parallel = prmt.prompting_gpt(3,10,\"gpt-4\",input_sentences,True,False,False)"
   ]
  },
  {
   "cell_type": "markdown",
   "id": "e583ad51-ae2c-4f5f-99b7-47f5f500bd3f",
   "metadata": {},
   "source": [
    "### Adding Context"
   ]
  },
  {
   "cell_type": "markdown",
   "id": "5e814bfa-9e47-4e40-9adb-b17bc5b09791",
   "metadata": {},
   "source": [
    "### Mistral Parallel, Context "
   ]
  },
  {
   "cell_type": "code",
   "execution_count": null,
   "id": "dbe8e0a6-61bf-489a-b7be-b35295a9da89",
   "metadata": {},
   "outputs": [],
   "source": [
    "dict_mistral_small_3_shots_parallel_c = prmt.prompting_mistral(0,3,\"mistral-small\",input_sentences,True,True,True)"
   ]
  },
  {
   "cell_type": "code",
   "execution_count": null,
   "id": "ab6611b4-e3a1-46e0-adb7-a154a5ca1040",
   "metadata": {},
   "outputs": [],
   "source": [
    "dict_mistral_small_5_shots_parallel_c = prmt.prompting_mistral(0,5,\"mistral-small\",input_sentences,True,True,True)"
   ]
  },
  {
   "cell_type": "code",
   "execution_count": null,
   "id": "3a92359e-931d-4b99-9fa4-e5e550e17f2a",
   "metadata": {},
   "outputs": [],
   "source": [
    "dict_mistral_small_10_shots_parallel_c = prmt.prompting_mistral(0,10,\"mistral-small\",input_sentences,True,True,True)"
   ]
  },
  {
   "cell_type": "code",
   "execution_count": null,
   "id": "9f7b5d33-d25c-4f22-8776-42c70ebb9000",
   "metadata": {},
   "outputs": [],
   "source": [
    "dict_mistral_medium_3_shots_parallel_c = prmt.prompting_mistral(0,3,\"mistral-medium\",input_sentences,True,True,True)"
   ]
  },
  {
   "cell_type": "code",
   "execution_count": null,
   "id": "8c02f3ab-3301-4c2f-ad29-bae2436f1e5d",
   "metadata": {},
   "outputs": [],
   "source": [
    "dict_mistral_medium_3_shots_parallel_c = prmt.prompting_mistral(0,5,\"mistral-medium\",input_sentences,True,True,True)"
   ]
  },
  {
   "cell_type": "code",
   "execution_count": null,
   "id": "d376601a-7bd9-4fed-91bf-68f6f08e7875",
   "metadata": {},
   "outputs": [],
   "source": [
    "dict_mistral_medium_3_shots_parallel_c = prmt.prompting_mistral(0,5,\"mistral-medium\",input_sentences,True,True,True)"
   ]
  },
  {
   "cell_type": "markdown",
   "id": "66bd9398-b8ab-42f4-889e-920db386655e",
   "metadata": {},
   "source": [
    "### Mistral Non Parallel, Context"
   ]
  },
  {
   "cell_type": "code",
   "execution_count": null,
   "id": "f8f0e6ca-05f2-467e-b765-295192196a6e",
   "metadata": {},
   "outputs": [],
   "source": [
    "dict_mistral_small_3_shots_non_parallel_c = prmt.prompting_mistral(2,3,\"mistral-small\",input_sentences,True,False,True)"
   ]
  },
  {
   "cell_type": "code",
   "execution_count": null,
   "id": "32a87081-b8c5-4b79-ae13-4b5e85da5494",
   "metadata": {},
   "outputs": [],
   "source": [
    "dict_mistral_small_5_shots_non_parallel_c = prmt.prompting_mistral(2,5,\"mistral-small\",input_sentences,True,False,True)"
   ]
  },
  {
   "cell_type": "code",
   "execution_count": null,
   "id": "2a149951-0188-4b66-b5fa-8d29c3eca897",
   "metadata": {},
   "outputs": [],
   "source": [
    "dict_mistral_small_10_shots_non_parallel_c = prmt.prompting_mistral(2,10,\"mistral-small\",input_sentences,True,False,True)"
   ]
  },
  {
   "cell_type": "code",
   "execution_count": null,
   "id": "3a191f7a-0eda-4582-b9a0-69267f78c2a1",
   "metadata": {},
   "outputs": [],
   "source": [
    "dict_mistral_medium_3_shots_non_parallel_c = prmt.prompting_mistral(2,3,\"mistral-medium\",input_sentences,True,False,True)"
   ]
  },
  {
   "cell_type": "code",
   "execution_count": null,
   "id": "a1f9c4d2-a73a-4cc0-961d-49160a287d46",
   "metadata": {},
   "outputs": [],
   "source": [
    "dict_mistral_medium_5_shots_non_parallel_c = prmt.prompting_mistral(2,5,\"mistral-medium\",input_sentences,True,False,True)"
   ]
  },
  {
   "cell_type": "code",
   "execution_count": null,
   "id": "fd41611a-bcce-4398-96ec-b936b7780984",
   "metadata": {},
   "outputs": [],
   "source": [
    "dict_mistral_medium_10_shots_non_parallel_c = prmt.prompting_mistral(2,10,\"mistral-medium\",input_sentences,True,False,True)"
   ]
  },
  {
   "cell_type": "markdown",
   "id": "11de2dae-4f92-4e76-a387-9a5266271ba9",
   "metadata": {},
   "source": [
    "### GPT Parallel, Context"
   ]
  },
  {
   "cell_type": "code",
   "execution_count": null,
   "id": "d220e3aa-eec1-4aeb-94d5-0c49c895c137",
   "metadata": {},
   "outputs": [],
   "source": [
    "dict_gpt_3_5_turbo_3_shots_parallel_c = prmt.prompting_gpt(1,3,\"gpt-3.5-turbo-0125\",input_sentences,True,True,True)"
   ]
  },
  {
   "cell_type": "code",
   "execution_count": null,
   "id": "3aa7749b-a753-4a10-af51-fbec878193a0",
   "metadata": {},
   "outputs": [],
   "source": [
    "dict_gpt_3_5_turbo_5_shots_parallel_c = prmt.prompting_gpt(1,5,\"gpt-3.5-turbo-0125\",input_sentences,True,True,True)"
   ]
  },
  {
   "cell_type": "code",
   "execution_count": null,
   "id": "ef38b874-c8cd-48ce-93aa-0e77541fa60f",
   "metadata": {},
   "outputs": [],
   "source": [
    "dict_gpt_3_5_turbo_10_shots_parallel_c = prmt.prompting_gpt(1,10,\"gpt-3.5-turbo-0125\",input_sentences,True,True,True)"
   ]
  },
  {
   "cell_type": "code",
   "execution_count": null,
   "id": "34f2c494-dd3f-4f09-8134-e4858b0ca9e3",
   "metadata": {},
   "outputs": [],
   "source": [
    "dict_gpt_4_3_shots_parallel_c = prmt.prompting_gpt(1,3,\"gpt-4\",input_sentences,True,True,True)"
   ]
  },
  {
   "cell_type": "code",
   "execution_count": null,
   "id": "a2cf25ff-1c7e-4580-aa9c-f0539d044e86",
   "metadata": {},
   "outputs": [],
   "source": [
    "dict_gpt_4_5_shots_parallel_c = prmt.prompting_gpt(1,5,\"gpt-4\",input_sentences,True,True,True)"
   ]
  },
  {
   "cell_type": "code",
   "execution_count": null,
   "id": "86c234a8-6dc4-47e2-9b3d-192bc65d9a64",
   "metadata": {},
   "outputs": [],
   "source": [
    "dict_gpt_4_10_shots_parallel_c = prmt.prompting_gpt(1,10,\"gpt-4\",input_sentences,True,True,True)"
   ]
  },
  {
   "cell_type": "markdown",
   "id": "02c0df6c-d588-4906-a8fe-5d7925fe1ffb",
   "metadata": {},
   "source": [
    "### GPT Non-Parallel, Context"
   ]
  },
  {
   "cell_type": "code",
   "execution_count": null,
   "id": "7bd933a0-5ea5-467a-a34d-6b35f68f8d3c",
   "metadata": {},
   "outputs": [],
   "source": [
    "dict_gpt_3_5_turbo_3_shots_non_parallel_c = prmt.prompting_gpt(3,3,\"gpt-3.5-turbo-0125\",input_sentences,True,False,True)"
   ]
  },
  {
   "cell_type": "code",
   "execution_count": null,
   "id": "9f971f80-e9b0-47e9-ae5c-881847466ec4",
   "metadata": {},
   "outputs": [],
   "source": [
    "dict_gpt_3_5_turbo_5_shots_non_parallel_c = prmt.prompting_gpt(3,5,\"gpt-3.5-turbo-0125\",input_sentences,True,False,True)"
   ]
  },
  {
   "cell_type": "code",
   "execution_count": null,
   "id": "0d0809a0-9023-4332-97c9-037d7122bcc5",
   "metadata": {},
   "outputs": [],
   "source": [
    "dict_gpt_3_5_turbo_10_shots_non_parallel_c = prmt.prompting_gpt(3,10,\"gpt-3.5-turbo-0125\",input_sentences,True,False,True)"
   ]
  },
  {
   "cell_type": "code",
   "execution_count": null,
   "id": "5bb65416-b3b5-45be-8a94-d577fa17a219",
   "metadata": {},
   "outputs": [],
   "source": [
    "dict_gpt_4_3_shots_non_parallel_c = prmt.prompting_gpt(3,3,\"gpt-4\",input_sentences,True,False,True)"
   ]
  },
  {
   "cell_type": "code",
   "execution_count": null,
   "id": "cfe8c560-52ad-4ad4-8163-d5360e525f60",
   "metadata": {},
   "outputs": [],
   "source": [
    "dict_gpt_4_5_shots_non_parallel_c = prmt.prompting_gpt(3,5,\"gpt-4\",input_sentences,True,False,True)"
   ]
  },
  {
   "cell_type": "code",
   "execution_count": null,
   "id": "dce13e9c-b2b9-42ed-8e86-c1f82a968c7e",
   "metadata": {},
   "outputs": [],
   "source": [
    "dict_gpt_4_10_shots_non_parallel_c = prmt.prompting_gpt(3,10,\"gpt-4\",input_sentences,True,False,True)"
   ]
  },
  {
   "cell_type": "markdown",
   "id": "e20b64b9-975a-4fff-99b7-4a3decfddde6",
   "metadata": {},
   "source": [
    "### Fixing Json"
   ]
  },
  {
   "cell_type": "code",
   "execution_count": 404,
   "id": "522ae677-691d-49b9-9708-60f05264fa22",
   "metadata": {},
   "outputs": [],
   "source": [
    "output_folder = 'Prompts_Context/'"
   ]
  },
  {
   "cell_type": "code",
   "execution_count": 406,
   "id": "bdb0c0fb-0037-4533-bb1b-63f4c5f945a9",
   "metadata": {
    "scrolled": true
   },
   "outputs": [
    {
     "name": "stdout",
     "output_type": "stream",
     "text": [
      "262\n",
      "Null fields Mistral:  Prompts_Context/user_U6_C_promptID_2_model_mistral-small_shots_10_run_id_486825_output.csv \n",
      "\n",
      "Exception postprocess_rows_gpt: Extra data: line 3 column 1 (char 165)\n",
      "Null fields Mistral:  Prompts_Context/user_U1_C_promptID_2_model_mistral-small_shots_5_run_id_257304_output.csv \n",
      "\n",
      "Exception postprocess_rows_gpt: Extra data: line 3 column 1 (char 158)\n",
      "Exception postprocess_rows_gpt: Extra data: line 5 column 1 (char 423)\n",
      "Null fields Mistral:  Prompts_Context/user_U4_C_promptID_2_model_mistral-small_shots_3_run_id_903365_output.csv \n",
      "\n",
      "Exception postprocess_rows_gpt: Extra data: line 3 column 1 (char 170)\n",
      "Exception postprocess_rows_gpt: Extra data: line 1 column 183 (char 182)\n",
      "Null fields Mistral:  Prompts_Context/user_U6_C_promptID_2_model_mistral-small_shots_3_run_id_389115_output.csv \n",
      "\n",
      "Null fields Mistral:  Prompts_Context/user_U9_C_promptID_2_model_mistral-medium_shots_5_run_id_364777_output.csv \n",
      "\n",
      "Exception postprocess_rows_gpt: Expecting ',' delimiter: line 3 column 251 (char 448)\n",
      "Null fields Mistral:  Prompts_Context/user_U7_C_promptID_2_model_mistral-small_shots_5_run_id_130012_output.csv \n",
      "\n",
      "Exception postprocess_rows_gpt: Expecting ',' delimiter: line 1 column 575 (char 574)\n",
      "Null fields Mistral:  Prompts_Context/user_U3_C_promptID_2_model_mistral-medium_shots_3_run_id_853210_output.csv \n",
      "\n",
      "Exception postprocess_rows_gpt: Invalid control character at: line 3 column 128 (char 339)\n",
      "Exception postprocess_rows_gpt: Extra data: line 5 column 1 (char 323)\n",
      "Null fields Mistral:  Prompts_Context/user_U7_C_promptID_0_model_mistral-small_shots_10_run_id_134178_output.csv \n",
      "\n",
      "Exception postprocess_rows_gpt: Unterminated string starting at: line 2 column 23 (char 24)\n",
      "Exception postprocess_rows_gpt: Expecting ',' delimiter: line 3 column 216 (char 379)\n",
      "Null fields Mistral:  Prompts_Context/user_U0_C_promptID_2_model_mistral-small_shots_5_run_id_739313_output.csv \n",
      "\n",
      "Null fields Mistral:  Prompts_Context/user_U8_C_promptID_2_model_mistral-small_shots_3_run_id_568446_output.csv \n",
      "\n",
      "Null fields Mistral:  Prompts_Context/user_U8_C_promptID_2_model_mistral-small_shots_5_run_id_843613_output.csv \n",
      "\n",
      "Exception postprocess_rows_gpt: Extra data: line 1 column 189 (char 188)\n",
      "Null fields Mistral:  Prompts_Context/user_U0_C_promptID_2_model_mistral-small_shots_3_run_id_747439_output.csv \n",
      "\n",
      "Exception postprocess_rows_gpt: Extra data: line 6 column 1 (char 700)\n",
      "Null fields Mistral:  Prompts_Context/user_U3_C_promptID_2_model_mistral-small_shots_10_run_id_971174_output.csv \n",
      "\n",
      "Exception postprocess_rows_gpt: Extra data: line 1 column 181 (char 180)\n",
      "Exception postprocess_rows_gpt: Extra data: line 3 column 1 (char 194)\n",
      "Null fields Mistral:  Prompts_Context/user_U6_C_promptID_2_model_mistral-small_shots_5_run_id_877246_output.csv \n",
      "\n",
      "Exception postprocess_rows_gpt: Unterminated string starting at: line 1 column 193 (char 192)\n",
      "Null fields Mistral:  Prompts_Context/user_U0_C_promptID_2_model_mistral-small_shots_3_run_id_248903_output.csv \n",
      "\n",
      "Exception postprocess_rows_gpt: Expecting ',' delimiter: line 3 column 771 (char 934)\n"
     ]
    },
    {
     "name": "stderr",
     "output_type": "stream",
     "text": [
      "/Users/bojansimoski/dev/eur/llm-evaluate/prompting.py:477: SettingWithCopyWarning: \n",
      "A value is trying to be set on a copy of a slice from a DataFrame.\n",
      "Try using .loc[row_indexer,col_indexer] = value instead\n",
      "\n",
      "See the caveats in the documentation: https://pandas.pydata.org/pandas-docs/stable/user_guide/indexing.html#returning-a-view-versus-a-copy\n",
      "  df_file_temp[columns_to_update] = df_file_temp['output'].apply(postprocess_rows_mistral)\n",
      "/Users/bojansimoski/dev/eur/llm-evaluate/prompting.py:477: SettingWithCopyWarning: \n",
      "A value is trying to be set on a copy of a slice from a DataFrame.\n",
      "Try using .loc[row_indexer,col_indexer] = value instead\n",
      "\n",
      "See the caveats in the documentation: https://pandas.pydata.org/pandas-docs/stable/user_guide/indexing.html#returning-a-view-versus-a-copy\n",
      "  df_file_temp[columns_to_update] = df_file_temp['output'].apply(postprocess_rows_mistral)\n",
      "/Users/bojansimoski/dev/eur/llm-evaluate/prompting.py:446: SettingWithCopyWarning: \n",
      "A value is trying to be set on a copy of a slice from a DataFrame.\n",
      "Try using .loc[row_indexer,col_indexer] = value instead\n",
      "\n",
      "See the caveats in the documentation: https://pandas.pydata.org/pandas-docs/stable/user_guide/indexing.html#returning-a-view-versus-a-copy\n",
      "  df_file_temp[columns_to_update] = df_file_temp['output'].apply(postprocess_rows_gpt_3_5_second)\n",
      "/Users/bojansimoski/dev/eur/llm-evaluate/prompting.py:477: SettingWithCopyWarning: \n",
      "A value is trying to be set on a copy of a slice from a DataFrame.\n",
      "Try using .loc[row_indexer,col_indexer] = value instead\n",
      "\n",
      "See the caveats in the documentation: https://pandas.pydata.org/pandas-docs/stable/user_guide/indexing.html#returning-a-view-versus-a-copy\n",
      "  df_file_temp[columns_to_update] = df_file_temp['output'].apply(postprocess_rows_mistral)\n",
      "/Users/bojansimoski/dev/eur/llm-evaluate/prompting.py:477: SettingWithCopyWarning: \n",
      "A value is trying to be set on a copy of a slice from a DataFrame.\n",
      "Try using .loc[row_indexer,col_indexer] = value instead\n",
      "\n",
      "See the caveats in the documentation: https://pandas.pydata.org/pandas-docs/stable/user_guide/indexing.html#returning-a-view-versus-a-copy\n",
      "  df_file_temp[columns_to_update] = df_file_temp['output'].apply(postprocess_rows_mistral)\n",
      "/Users/bojansimoski/dev/eur/llm-evaluate/prompting.py:477: SettingWithCopyWarning: \n",
      "A value is trying to be set on a copy of a slice from a DataFrame.\n",
      "Try using .loc[row_indexer,col_indexer] = value instead\n",
      "\n",
      "See the caveats in the documentation: https://pandas.pydata.org/pandas-docs/stable/user_guide/indexing.html#returning-a-view-versus-a-copy\n",
      "  df_file_temp[columns_to_update] = df_file_temp['output'].apply(postprocess_rows_mistral)\n",
      "/Users/bojansimoski/dev/eur/llm-evaluate/prompting.py:477: SettingWithCopyWarning: \n",
      "A value is trying to be set on a copy of a slice from a DataFrame.\n",
      "Try using .loc[row_indexer,col_indexer] = value instead\n",
      "\n",
      "See the caveats in the documentation: https://pandas.pydata.org/pandas-docs/stable/user_guide/indexing.html#returning-a-view-versus-a-copy\n",
      "  df_file_temp[columns_to_update] = df_file_temp['output'].apply(postprocess_rows_mistral)\n",
      "/Users/bojansimoski/dev/eur/llm-evaluate/prompting.py:477: SettingWithCopyWarning: \n",
      "A value is trying to be set on a copy of a slice from a DataFrame.\n",
      "Try using .loc[row_indexer,col_indexer] = value instead\n",
      "\n",
      "See the caveats in the documentation: https://pandas.pydata.org/pandas-docs/stable/user_guide/indexing.html#returning-a-view-versus-a-copy\n",
      "  df_file_temp[columns_to_update] = df_file_temp['output'].apply(postprocess_rows_mistral)\n",
      "/Users/bojansimoski/dev/eur/llm-evaluate/prompting.py:446: SettingWithCopyWarning: \n",
      "A value is trying to be set on a copy of a slice from a DataFrame.\n",
      "Try using .loc[row_indexer,col_indexer] = value instead\n",
      "\n",
      "See the caveats in the documentation: https://pandas.pydata.org/pandas-docs/stable/user_guide/indexing.html#returning-a-view-versus-a-copy\n",
      "  df_file_temp[columns_to_update] = df_file_temp['output'].apply(postprocess_rows_gpt_3_5_second)\n",
      "/Users/bojansimoski/dev/eur/llm-evaluate/prompting.py:477: SettingWithCopyWarning: \n",
      "A value is trying to be set on a copy of a slice from a DataFrame.\n",
      "Try using .loc[row_indexer,col_indexer] = value instead\n",
      "\n",
      "See the caveats in the documentation: https://pandas.pydata.org/pandas-docs/stable/user_guide/indexing.html#returning-a-view-versus-a-copy\n",
      "  df_file_temp[columns_to_update] = df_file_temp['output'].apply(postprocess_rows_mistral)\n",
      "/Users/bojansimoski/dev/eur/llm-evaluate/prompting.py:477: SettingWithCopyWarning: \n",
      "A value is trying to be set on a copy of a slice from a DataFrame.\n",
      "Try using .loc[row_indexer,col_indexer] = value instead\n",
      "\n",
      "See the caveats in the documentation: https://pandas.pydata.org/pandas-docs/stable/user_guide/indexing.html#returning-a-view-versus-a-copy\n",
      "  df_file_temp[columns_to_update] = df_file_temp['output'].apply(postprocess_rows_mistral)\n",
      "/Users/bojansimoski/dev/eur/llm-evaluate/prompting.py:477: SettingWithCopyWarning: \n",
      "A value is trying to be set on a copy of a slice from a DataFrame.\n",
      "Try using .loc[row_indexer,col_indexer] = value instead\n",
      "\n",
      "See the caveats in the documentation: https://pandas.pydata.org/pandas-docs/stable/user_guide/indexing.html#returning-a-view-versus-a-copy\n",
      "  df_file_temp[columns_to_update] = df_file_temp['output'].apply(postprocess_rows_mistral)\n",
      "/Users/bojansimoski/dev/eur/llm-evaluate/prompting.py:477: SettingWithCopyWarning: \n",
      "A value is trying to be set on a copy of a slice from a DataFrame.\n",
      "Try using .loc[row_indexer,col_indexer] = value instead\n",
      "\n",
      "See the caveats in the documentation: https://pandas.pydata.org/pandas-docs/stable/user_guide/indexing.html#returning-a-view-versus-a-copy\n",
      "  df_file_temp[columns_to_update] = df_file_temp['output'].apply(postprocess_rows_mistral)\n",
      "/Users/bojansimoski/dev/eur/llm-evaluate/prompting.py:477: SettingWithCopyWarning: \n",
      "A value is trying to be set on a copy of a slice from a DataFrame.\n",
      "Try using .loc[row_indexer,col_indexer] = value instead\n",
      "\n",
      "See the caveats in the documentation: https://pandas.pydata.org/pandas-docs/stable/user_guide/indexing.html#returning-a-view-versus-a-copy\n",
      "  df_file_temp[columns_to_update] = df_file_temp['output'].apply(postprocess_rows_mistral)\n",
      "/Users/bojansimoski/dev/eur/llm-evaluate/prompting.py:477: SettingWithCopyWarning: \n",
      "A value is trying to be set on a copy of a slice from a DataFrame.\n",
      "Try using .loc[row_indexer,col_indexer] = value instead\n",
      "\n",
      "See the caveats in the documentation: https://pandas.pydata.org/pandas-docs/stable/user_guide/indexing.html#returning-a-view-versus-a-copy\n",
      "  df_file_temp[columns_to_update] = df_file_temp['output'].apply(postprocess_rows_mistral)\n",
      "/Users/bojansimoski/dev/eur/llm-evaluate/prompting.py:477: SettingWithCopyWarning: \n",
      "A value is trying to be set on a copy of a slice from a DataFrame.\n",
      "Try using .loc[row_indexer,col_indexer] = value instead\n",
      "\n",
      "See the caveats in the documentation: https://pandas.pydata.org/pandas-docs/stable/user_guide/indexing.html#returning-a-view-versus-a-copy\n",
      "  df_file_temp[columns_to_update] = df_file_temp['output'].apply(postprocess_rows_mistral)\n",
      "/Users/bojansimoski/dev/eur/llm-evaluate/prompting.py:477: SettingWithCopyWarning: \n",
      "A value is trying to be set on a copy of a slice from a DataFrame.\n",
      "Try using .loc[row_indexer,col_indexer] = value instead\n",
      "\n",
      "See the caveats in the documentation: https://pandas.pydata.org/pandas-docs/stable/user_guide/indexing.html#returning-a-view-versus-a-copy\n",
      "  df_file_temp[columns_to_update] = df_file_temp['output'].apply(postprocess_rows_mistral)\n",
      "/Users/bojansimoski/dev/eur/llm-evaluate/prompting.py:477: SettingWithCopyWarning: \n",
      "A value is trying to be set on a copy of a slice from a DataFrame.\n",
      "Try using .loc[row_indexer,col_indexer] = value instead\n",
      "\n",
      "See the caveats in the documentation: https://pandas.pydata.org/pandas-docs/stable/user_guide/indexing.html#returning-a-view-versus-a-copy\n",
      "  df_file_temp[columns_to_update] = df_file_temp['output'].apply(postprocess_rows_mistral)\n"
     ]
    },
    {
     "name": "stdout",
     "output_type": "stream",
     "text": [
      "Null fields Mistral:  Prompts_Context/user_U2_C_promptID_2_model_mistral-small_shots_10_run_id_291026_output.csv \n",
      "\n",
      "Null fields Mistral:  Prompts_Context/user_U8_C_promptID_2_model_mistral-small_shots_10_run_id_314961_output.csv \n",
      "\n",
      "Null fields Mistral:  Prompts_Context/user_U2_C_promptID_2_model_mistral-small_shots_3_run_id_513786_output.csv \n",
      "\n",
      "Null fields Mistral:  Prompts_Context/user_U4_C_promptID_2_model_mistral-small_shots_5_run_id_408222_output.csv \n",
      "\n",
      "Exception postprocess_rows_gpt: Invalid control character at: line 3 column 173 (char 355)\n",
      "Null fields Mistral:  Prompts_Context/user_U5_C_promptID_2_model_mistral-small_shots_5_run_id_758255_output.csv \n",
      "\n",
      "Exception postprocess_rows_gpt: Invalid control character at: line 2 column 106 (char 263)\n",
      "Exception postprocess_rows_gpt: Extra data: line 2 column 1 (char 153)\n",
      "Null fields Mistral:  Prompts_Context/user_U5_C_promptID_2_model_mistral-small_shots_3_run_id_175545_output.csv \n",
      "\n",
      "Exception postprocess_rows_gpt: Extra data: line 3 column 1 (char 146)\n",
      "Exception postprocess_rows_gpt: Extra data: line 1 column 4 (char 3)\n",
      "Null fields Mistral:  Prompts_Context/user_U6_C_promptID_0_model_mistral-small_shots_10_run_id_413693_output.csv \n",
      "\n",
      "Null fields Mistral:  Prompts_Context/user_U6_C_promptID_2_model_mistral-medium_shots_3_run_id_261694_output.csv \n",
      "\n",
      "Exception postprocess_rows_gpt: Extra data: line 6 column 1 (char 668)\n",
      "Null fields Mistral:  Prompts_Context/user_U4_C_promptID_2_model_mistral-medium_shots_10_run_id_922963_output.csv \n",
      "\n",
      "Exception postprocess_rows_gpt: Invalid control character at: line 3 column 174 (char 394)\n",
      "Null fields Mistral:  Prompts_Context/user_U3_C_promptID_2_model_mistral-small_shots_5_run_id_892355_output.csv \n",
      "\n",
      "Null fields Mistral:  Prompts_Context/user_U9_C_promptID_2_model_mistral-medium_shots_3_run_id_101011_output.csv \n",
      "\n",
      "Exception postprocess_rows_gpt: Expecting ',' delimiter: line 4 column 153 (char 335)\n",
      "Null fields Mistral:  Prompts_Context/user_U5_C_promptID_2_model_mistral-small_shots_5_run_id_669994_output.csv \n",
      "\n",
      "Exception postprocess_rows_gpt: Extra data: line 1 column 151 (char 150)\n",
      "Null fields Mistral:  Prompts_Context/user_U5_C_promptID_2_model_mistral-small_shots_10_run_id_580593_output.csv \n",
      "\n",
      "Exception postprocess_rows_gpt: Extra data: line 2 column 1 (char 131)\n",
      "Null fields Mistral:  Prompts_Context/user_U1_C_promptID_0_model_mistral-medium_shots_5_run_id_930449_output.csv \n",
      "\n",
      "Exception postprocess_rows_gpt: Extra data: line 4 column 1 (char 486)\n",
      "Null fields Mistral:  Prompts_Context/user_U7_C_promptID_2_model_mistral-small_shots_10_run_id_181470_output.csv \n",
      "\n",
      "Exception postprocess_rows_gpt: Extra data: line 3 column 1 (char 179)\n",
      "Exception postprocess_rows_gpt: Extra data: line 1 column 4 (char 3)\n",
      "Null fields Mistral:  Prompts_Context/user_U7_C_promptID_2_model_mistral-small_shots_3_run_id_752093_output.csv \n",
      "\n"
     ]
    },
    {
     "name": "stderr",
     "output_type": "stream",
     "text": [
      "/Users/bojansimoski/dev/eur/llm-evaluate/prompting.py:477: SettingWithCopyWarning: \n",
      "A value is trying to be set on a copy of a slice from a DataFrame.\n",
      "Try using .loc[row_indexer,col_indexer] = value instead\n",
      "\n",
      "See the caveats in the documentation: https://pandas.pydata.org/pandas-docs/stable/user_guide/indexing.html#returning-a-view-versus-a-copy\n",
      "  df_file_temp[columns_to_update] = df_file_temp['output'].apply(postprocess_rows_mistral)\n",
      "/Users/bojansimoski/dev/eur/llm-evaluate/prompting.py:477: SettingWithCopyWarning: \n",
      "A value is trying to be set on a copy of a slice from a DataFrame.\n",
      "Try using .loc[row_indexer,col_indexer] = value instead\n",
      "\n",
      "See the caveats in the documentation: https://pandas.pydata.org/pandas-docs/stable/user_guide/indexing.html#returning-a-view-versus-a-copy\n",
      "  df_file_temp[columns_to_update] = df_file_temp['output'].apply(postprocess_rows_mistral)\n",
      "/Users/bojansimoski/dev/eur/llm-evaluate/prompting.py:477: SettingWithCopyWarning: \n",
      "A value is trying to be set on a copy of a slice from a DataFrame.\n",
      "Try using .loc[row_indexer,col_indexer] = value instead\n",
      "\n",
      "See the caveats in the documentation: https://pandas.pydata.org/pandas-docs/stable/user_guide/indexing.html#returning-a-view-versus-a-copy\n",
      "  df_file_temp[columns_to_update] = df_file_temp['output'].apply(postprocess_rows_mistral)\n",
      "/Users/bojansimoski/dev/eur/llm-evaluate/prompting.py:477: SettingWithCopyWarning: \n",
      "A value is trying to be set on a copy of a slice from a DataFrame.\n",
      "Try using .loc[row_indexer,col_indexer] = value instead\n",
      "\n",
      "See the caveats in the documentation: https://pandas.pydata.org/pandas-docs/stable/user_guide/indexing.html#returning-a-view-versus-a-copy\n",
      "  df_file_temp[columns_to_update] = df_file_temp['output'].apply(postprocess_rows_mistral)\n",
      "/Users/bojansimoski/dev/eur/llm-evaluate/prompting.py:477: SettingWithCopyWarning: \n",
      "A value is trying to be set on a copy of a slice from a DataFrame.\n",
      "Try using .loc[row_indexer,col_indexer] = value instead\n",
      "\n",
      "See the caveats in the documentation: https://pandas.pydata.org/pandas-docs/stable/user_guide/indexing.html#returning-a-view-versus-a-copy\n",
      "  df_file_temp[columns_to_update] = df_file_temp['output'].apply(postprocess_rows_mistral)\n",
      "/Users/bojansimoski/dev/eur/llm-evaluate/prompting.py:477: SettingWithCopyWarning: \n",
      "A value is trying to be set on a copy of a slice from a DataFrame.\n",
      "Try using .loc[row_indexer,col_indexer] = value instead\n",
      "\n",
      "See the caveats in the documentation: https://pandas.pydata.org/pandas-docs/stable/user_guide/indexing.html#returning-a-view-versus-a-copy\n",
      "  df_file_temp[columns_to_update] = df_file_temp['output'].apply(postprocess_rows_mistral)\n",
      "/Users/bojansimoski/dev/eur/llm-evaluate/prompting.py:477: SettingWithCopyWarning: \n",
      "A value is trying to be set on a copy of a slice from a DataFrame.\n",
      "Try using .loc[row_indexer,col_indexer] = value instead\n",
      "\n",
      "See the caveats in the documentation: https://pandas.pydata.org/pandas-docs/stable/user_guide/indexing.html#returning-a-view-versus-a-copy\n",
      "  df_file_temp[columns_to_update] = df_file_temp['output'].apply(postprocess_rows_mistral)\n",
      "/Users/bojansimoski/dev/eur/llm-evaluate/prompting.py:477: SettingWithCopyWarning: \n",
      "A value is trying to be set on a copy of a slice from a DataFrame.\n",
      "Try using .loc[row_indexer,col_indexer] = value instead\n",
      "\n",
      "See the caveats in the documentation: https://pandas.pydata.org/pandas-docs/stable/user_guide/indexing.html#returning-a-view-versus-a-copy\n",
      "  df_file_temp[columns_to_update] = df_file_temp['output'].apply(postprocess_rows_mistral)\n",
      "/Users/bojansimoski/dev/eur/llm-evaluate/prompting.py:477: SettingWithCopyWarning: \n",
      "A value is trying to be set on a copy of a slice from a DataFrame.\n",
      "Try using .loc[row_indexer,col_indexer] = value instead\n",
      "\n",
      "See the caveats in the documentation: https://pandas.pydata.org/pandas-docs/stable/user_guide/indexing.html#returning-a-view-versus-a-copy\n",
      "  df_file_temp[columns_to_update] = df_file_temp['output'].apply(postprocess_rows_mistral)\n",
      "/Users/bojansimoski/dev/eur/llm-evaluate/prompting.py:477: SettingWithCopyWarning: \n",
      "A value is trying to be set on a copy of a slice from a DataFrame.\n",
      "Try using .loc[row_indexer,col_indexer] = value instead\n",
      "\n",
      "See the caveats in the documentation: https://pandas.pydata.org/pandas-docs/stable/user_guide/indexing.html#returning-a-view-versus-a-copy\n",
      "  df_file_temp[columns_to_update] = df_file_temp['output'].apply(postprocess_rows_mistral)\n",
      "/Users/bojansimoski/dev/eur/llm-evaluate/prompting.py:477: SettingWithCopyWarning: \n",
      "A value is trying to be set on a copy of a slice from a DataFrame.\n",
      "Try using .loc[row_indexer,col_indexer] = value instead\n",
      "\n",
      "See the caveats in the documentation: https://pandas.pydata.org/pandas-docs/stable/user_guide/indexing.html#returning-a-view-versus-a-copy\n",
      "  df_file_temp[columns_to_update] = df_file_temp['output'].apply(postprocess_rows_mistral)\n",
      "/Users/bojansimoski/dev/eur/llm-evaluate/prompting.py:477: SettingWithCopyWarning: \n",
      "A value is trying to be set on a copy of a slice from a DataFrame.\n",
      "Try using .loc[row_indexer,col_indexer] = value instead\n",
      "\n",
      "See the caveats in the documentation: https://pandas.pydata.org/pandas-docs/stable/user_guide/indexing.html#returning-a-view-versus-a-copy\n",
      "  df_file_temp[columns_to_update] = df_file_temp['output'].apply(postprocess_rows_mistral)\n",
      "/Users/bojansimoski/dev/eur/llm-evaluate/prompting.py:477: SettingWithCopyWarning: \n",
      "A value is trying to be set on a copy of a slice from a DataFrame.\n",
      "Try using .loc[row_indexer,col_indexer] = value instead\n",
      "\n",
      "See the caveats in the documentation: https://pandas.pydata.org/pandas-docs/stable/user_guide/indexing.html#returning-a-view-versus-a-copy\n",
      "  df_file_temp[columns_to_update] = df_file_temp['output'].apply(postprocess_rows_mistral)\n",
      "/Users/bojansimoski/dev/eur/llm-evaluate/prompting.py:477: SettingWithCopyWarning: \n",
      "A value is trying to be set on a copy of a slice from a DataFrame.\n",
      "Try using .loc[row_indexer,col_indexer] = value instead\n",
      "\n",
      "See the caveats in the documentation: https://pandas.pydata.org/pandas-docs/stable/user_guide/indexing.html#returning-a-view-versus-a-copy\n",
      "  df_file_temp[columns_to_update] = df_file_temp['output'].apply(postprocess_rows_mistral)\n",
      "/Users/bojansimoski/dev/eur/llm-evaluate/prompting.py:477: SettingWithCopyWarning: \n",
      "A value is trying to be set on a copy of a slice from a DataFrame.\n",
      "Try using .loc[row_indexer,col_indexer] = value instead\n",
      "\n",
      "See the caveats in the documentation: https://pandas.pydata.org/pandas-docs/stable/user_guide/indexing.html#returning-a-view-versus-a-copy\n",
      "  df_file_temp[columns_to_update] = df_file_temp['output'].apply(postprocess_rows_mistral)\n",
      "/Users/bojansimoski/dev/eur/llm-evaluate/prompting.py:477: SettingWithCopyWarning: \n",
      "A value is trying to be set on a copy of a slice from a DataFrame.\n",
      "Try using .loc[row_indexer,col_indexer] = value instead\n",
      "\n",
      "See the caveats in the documentation: https://pandas.pydata.org/pandas-docs/stable/user_guide/indexing.html#returning-a-view-versus-a-copy\n",
      "  df_file_temp[columns_to_update] = df_file_temp['output'].apply(postprocess_rows_mistral)\n"
     ]
    },
    {
     "name": "stdout",
     "output_type": "stream",
     "text": [
      "Null fields Mistral:  Prompts_Context/user_U3_C_promptID_0_model_mistral-medium_shots_3_run_id_920454_output.csv \n",
      "\n",
      "Exception postprocess_rows_gpt: Extra data: line 6 column 1 (char 651)\n",
      "Exception postprocess_rows_gpt: Extra data: line 6 column 1 (char 527)\n",
      "Null fields Mistral:  Prompts_Context/user_U8_C_promptID_0_model_mistral-medium_shots_10_run_id_602079_output.csv \n",
      "\n",
      "Exception postprocess_rows_gpt: Extra data: line 6 column 1 (char 609)\n",
      "Null fields Mistral:  Prompts_Context/user_U0_C_promptID_0_model_mistral-small_shots_10_run_id_296512_output.csv \n",
      "\n",
      "Exception postprocess_rows_gpt: Extra data: line 6 column 1 (char 840)\n",
      "Null fields Mistral:  Prompts_Context/user_U8_C_promptID_0_model_mistral-small_shots_3_run_id_273307_output.csv \n",
      "\n",
      "Exception postprocess_rows_gpt: Invalid control character at: line 2 column 142 (char 306)\n",
      "Null fields Mistral:  Prompts_Context/user_U1_C_promptID_0_model_mistral-small_shots_10_run_id_890095_output.csv \n",
      "\n",
      "Exception postprocess_rows_gpt: Extra data: line 5 column 1 (char 474)\n",
      "Exception postprocess_rows_gpt: Extra data: line 4 column 2 (char 488)\n",
      "Null fields Mistral:  Prompts_Context/user_U0_C_promptID_2_model_mistral-medium_shots_10_run_id_198536_output.csv \n",
      "\n",
      "Exception postprocess_rows_gpt: Invalid control character at: line 3 column 217 (char 439)\n",
      "Null fields Mistral:  Prompts_Context/user_U0_C_promptID_2_model_mistral-medium_shots_5_run_id_257716_output.csv \n",
      "\n",
      "Exception postprocess_rows_gpt: Expecting ',' delimiter: line 3 column 400 (char 628)\n",
      "Exception postprocess_rows_gpt: Extra data: line 1 column 3 (char 2)\n",
      "Null fields Mistral:  Prompts_Context/user_U4_C_promptID_0_model_mistral-medium_shots_5_run_id_345846_output.csv \n",
      "\n",
      "Exception postprocess_rows_gpt: Extra data: line 5 column 1 (char 523)\n",
      "Null fields Mistral:  Prompts_Context/user_U7_C_promptID_2_model_mistral-small_shots_3_run_id_221753_output.csv \n",
      "\n",
      "Exception postprocess_rows_gpt: Invalid control character at: line 1 column 331 (char 330)\n",
      "Null fields Mistral:  Prompts_Context/user_U3_C_promptID_2_model_mistral-medium_shots_5_run_id_542945_output.csv \n",
      "\n",
      "Exception postprocess_rows_gpt: Extra data: line 6 column 1 (char 877)\n",
      "Exception postprocess_rows_gpt: Expecting ',' delimiter: line 3 column 212 (char 382)\n",
      "Null fields Mistral:  Prompts_Context/user_U2_C_promptID_2_model_mistral-small_shots_5_run_id_680734_output.csv \n",
      "\n",
      "Exception postprocess_rows_gpt: Extra data: line 3 column 1 (char 155)\n",
      "Exception postprocess_rows_gpt: Extra data: line 3 column 1 (char 234)\n",
      "Exception postprocess_rows_gpt: Expecting ',' delimiter: line 1 column 642 (char 641)\n",
      "Null fields Mistral:  Prompts_Context/user_U3_C_promptID_2_model_mistral-small_shots_3_run_id_200395_output.csv \n",
      "\n",
      "Exception postprocess_rows_gpt: Extra data: line 3 column 1 (char 200)\n",
      "Null fields Mistral:  Prompts_Context/user_U2_C_promptID_0_model_mistral-medium_shots_5_run_id_704066_output.csv \n",
      "\n",
      "Exception postprocess_rows_gpt: Extra data: line 6 column 1 (char 684)\n",
      "Exception postprocess_rows_gpt: Extra data: line 6 column 1 (char 546)\n",
      "Null fields Mistral:  Prompts_Context/user_U2_C_promptID_2_model_mistral-small_shots_5_run_id_466125_output.csv \n",
      "\n",
      "Null fields Mistral:  Prompts_Context/user_U5_C_promptID_2_model_mistral-small_shots_10_run_id_569745_output.csv \n",
      "\n"
     ]
    },
    {
     "name": "stderr",
     "output_type": "stream",
     "text": [
      "/Users/bojansimoski/dev/eur/llm-evaluate/prompting.py:477: SettingWithCopyWarning: \n",
      "A value is trying to be set on a copy of a slice from a DataFrame.\n",
      "Try using .loc[row_indexer,col_indexer] = value instead\n",
      "\n",
      "See the caveats in the documentation: https://pandas.pydata.org/pandas-docs/stable/user_guide/indexing.html#returning-a-view-versus-a-copy\n",
      "  df_file_temp[columns_to_update] = df_file_temp['output'].apply(postprocess_rows_mistral)\n",
      "/Users/bojansimoski/dev/eur/llm-evaluate/prompting.py:477: SettingWithCopyWarning: \n",
      "A value is trying to be set on a copy of a slice from a DataFrame.\n",
      "Try using .loc[row_indexer,col_indexer] = value instead\n",
      "\n",
      "See the caveats in the documentation: https://pandas.pydata.org/pandas-docs/stable/user_guide/indexing.html#returning-a-view-versus-a-copy\n",
      "  df_file_temp[columns_to_update] = df_file_temp['output'].apply(postprocess_rows_mistral)\n",
      "/Users/bojansimoski/dev/eur/llm-evaluate/prompting.py:477: SettingWithCopyWarning: \n",
      "A value is trying to be set on a copy of a slice from a DataFrame.\n",
      "Try using .loc[row_indexer,col_indexer] = value instead\n",
      "\n",
      "See the caveats in the documentation: https://pandas.pydata.org/pandas-docs/stable/user_guide/indexing.html#returning-a-view-versus-a-copy\n",
      "  df_file_temp[columns_to_update] = df_file_temp['output'].apply(postprocess_rows_mistral)\n",
      "/Users/bojansimoski/dev/eur/llm-evaluate/prompting.py:477: SettingWithCopyWarning: \n",
      "A value is trying to be set on a copy of a slice from a DataFrame.\n",
      "Try using .loc[row_indexer,col_indexer] = value instead\n",
      "\n",
      "See the caveats in the documentation: https://pandas.pydata.org/pandas-docs/stable/user_guide/indexing.html#returning-a-view-versus-a-copy\n",
      "  df_file_temp[columns_to_update] = df_file_temp['output'].apply(postprocess_rows_mistral)\n",
      "/Users/bojansimoski/dev/eur/llm-evaluate/prompting.py:477: SettingWithCopyWarning: \n",
      "A value is trying to be set on a copy of a slice from a DataFrame.\n",
      "Try using .loc[row_indexer,col_indexer] = value instead\n",
      "\n",
      "See the caveats in the documentation: https://pandas.pydata.org/pandas-docs/stable/user_guide/indexing.html#returning-a-view-versus-a-copy\n",
      "  df_file_temp[columns_to_update] = df_file_temp['output'].apply(postprocess_rows_mistral)\n",
      "/Users/bojansimoski/dev/eur/llm-evaluate/prompting.py:477: SettingWithCopyWarning: \n",
      "A value is trying to be set on a copy of a slice from a DataFrame.\n",
      "Try using .loc[row_indexer,col_indexer] = value instead\n",
      "\n",
      "See the caveats in the documentation: https://pandas.pydata.org/pandas-docs/stable/user_guide/indexing.html#returning-a-view-versus-a-copy\n",
      "  df_file_temp[columns_to_update] = df_file_temp['output'].apply(postprocess_rows_mistral)\n",
      "/Users/bojansimoski/dev/eur/llm-evaluate/prompting.py:477: SettingWithCopyWarning: \n",
      "A value is trying to be set on a copy of a slice from a DataFrame.\n",
      "Try using .loc[row_indexer,col_indexer] = value instead\n",
      "\n",
      "See the caveats in the documentation: https://pandas.pydata.org/pandas-docs/stable/user_guide/indexing.html#returning-a-view-versus-a-copy\n",
      "  df_file_temp[columns_to_update] = df_file_temp['output'].apply(postprocess_rows_mistral)\n",
      "/Users/bojansimoski/dev/eur/llm-evaluate/prompting.py:446: SettingWithCopyWarning: \n",
      "A value is trying to be set on a copy of a slice from a DataFrame.\n",
      "Try using .loc[row_indexer,col_indexer] = value instead\n",
      "\n",
      "See the caveats in the documentation: https://pandas.pydata.org/pandas-docs/stable/user_guide/indexing.html#returning-a-view-versus-a-copy\n",
      "  df_file_temp[columns_to_update] = df_file_temp['output'].apply(postprocess_rows_gpt_3_5_second)\n",
      "/Users/bojansimoski/dev/eur/llm-evaluate/prompting.py:477: SettingWithCopyWarning: \n",
      "A value is trying to be set on a copy of a slice from a DataFrame.\n",
      "Try using .loc[row_indexer,col_indexer] = value instead\n",
      "\n",
      "See the caveats in the documentation: https://pandas.pydata.org/pandas-docs/stable/user_guide/indexing.html#returning-a-view-versus-a-copy\n",
      "  df_file_temp[columns_to_update] = df_file_temp['output'].apply(postprocess_rows_mistral)\n",
      "/Users/bojansimoski/dev/eur/llm-evaluate/prompting.py:477: SettingWithCopyWarning: \n",
      "A value is trying to be set on a copy of a slice from a DataFrame.\n",
      "Try using .loc[row_indexer,col_indexer] = value instead\n",
      "\n",
      "See the caveats in the documentation: https://pandas.pydata.org/pandas-docs/stable/user_guide/indexing.html#returning-a-view-versus-a-copy\n",
      "  df_file_temp[columns_to_update] = df_file_temp['output'].apply(postprocess_rows_mistral)\n",
      "/Users/bojansimoski/dev/eur/llm-evaluate/prompting.py:477: SettingWithCopyWarning: \n",
      "A value is trying to be set on a copy of a slice from a DataFrame.\n",
      "Try using .loc[row_indexer,col_indexer] = value instead\n",
      "\n",
      "See the caveats in the documentation: https://pandas.pydata.org/pandas-docs/stable/user_guide/indexing.html#returning-a-view-versus-a-copy\n",
      "  df_file_temp[columns_to_update] = df_file_temp['output'].apply(postprocess_rows_mistral)\n",
      "/Users/bojansimoski/dev/eur/llm-evaluate/prompting.py:477: SettingWithCopyWarning: \n",
      "A value is trying to be set on a copy of a slice from a DataFrame.\n",
      "Try using .loc[row_indexer,col_indexer] = value instead\n",
      "\n",
      "See the caveats in the documentation: https://pandas.pydata.org/pandas-docs/stable/user_guide/indexing.html#returning-a-view-versus-a-copy\n",
      "  df_file_temp[columns_to_update] = df_file_temp['output'].apply(postprocess_rows_mistral)\n",
      "/Users/bojansimoski/dev/eur/llm-evaluate/prompting.py:477: SettingWithCopyWarning: \n",
      "A value is trying to be set on a copy of a slice from a DataFrame.\n",
      "Try using .loc[row_indexer,col_indexer] = value instead\n",
      "\n",
      "See the caveats in the documentation: https://pandas.pydata.org/pandas-docs/stable/user_guide/indexing.html#returning-a-view-versus-a-copy\n",
      "  df_file_temp[columns_to_update] = df_file_temp['output'].apply(postprocess_rows_mistral)\n",
      "/Users/bojansimoski/dev/eur/llm-evaluate/prompting.py:477: SettingWithCopyWarning: \n",
      "A value is trying to be set on a copy of a slice from a DataFrame.\n",
      "Try using .loc[row_indexer,col_indexer] = value instead\n",
      "\n",
      "See the caveats in the documentation: https://pandas.pydata.org/pandas-docs/stable/user_guide/indexing.html#returning-a-view-versus-a-copy\n",
      "  df_file_temp[columns_to_update] = df_file_temp['output'].apply(postprocess_rows_mistral)\n",
      "/Users/bojansimoski/dev/eur/llm-evaluate/prompting.py:477: SettingWithCopyWarning: \n",
      "A value is trying to be set on a copy of a slice from a DataFrame.\n",
      "Try using .loc[row_indexer,col_indexer] = value instead\n",
      "\n",
      "See the caveats in the documentation: https://pandas.pydata.org/pandas-docs/stable/user_guide/indexing.html#returning-a-view-versus-a-copy\n",
      "  df_file_temp[columns_to_update] = df_file_temp['output'].apply(postprocess_rows_mistral)\n",
      "/Users/bojansimoski/dev/eur/llm-evaluate/prompting.py:477: SettingWithCopyWarning: \n",
      "A value is trying to be set on a copy of a slice from a DataFrame.\n",
      "Try using .loc[row_indexer,col_indexer] = value instead\n",
      "\n",
      "See the caveats in the documentation: https://pandas.pydata.org/pandas-docs/stable/user_guide/indexing.html#returning-a-view-versus-a-copy\n",
      "  df_file_temp[columns_to_update] = df_file_temp['output'].apply(postprocess_rows_mistral)\n",
      "/Users/bojansimoski/dev/eur/llm-evaluate/prompting.py:477: SettingWithCopyWarning: \n",
      "A value is trying to be set on a copy of a slice from a DataFrame.\n",
      "Try using .loc[row_indexer,col_indexer] = value instead\n",
      "\n",
      "See the caveats in the documentation: https://pandas.pydata.org/pandas-docs/stable/user_guide/indexing.html#returning-a-view-versus-a-copy\n",
      "  df_file_temp[columns_to_update] = df_file_temp['output'].apply(postprocess_rows_mistral)\n"
     ]
    },
    {
     "name": "stdout",
     "output_type": "stream",
     "text": [
      "Null fields Mistral:  Prompts_Context/user_U3_C_promptID_2_model_mistral-small_shots_3_run_id_437311_output.csv \n",
      "\n",
      "Exception postprocess_rows_gpt: Invalid control character at: line 1 column 312 (char 311)\n",
      "Exception postprocess_rows_gpt: Invalid control character at: line 1 column 306 (char 305)\n",
      "Null fields Mistral:  Prompts_Context/user_U2_C_promptID_2_model_mistral-small_shots_3_run_id_488029_output.csv \n",
      "\n",
      "Null fields Mistral:  Prompts_Context/user_U9_C_promptID_2_model_mistral-small_shots_10_run_id_173984_output.csv \n",
      "\n",
      "Null fields Mistral:  Prompts_Context/user_U1_C_promptID_2_model_mistral-medium_shots_3_run_id_612456_output.csv \n",
      "\n",
      "Exception postprocess_rows_gpt: Extra data: line 6 column 1 (char 634)\n",
      "Null fields Mistral:  Prompts_Context/user_U9_C_promptID_2_model_mistral-small_shots_3_run_id_169440_output.csv \n",
      "\n",
      "Exception postprocess_rows_gpt: Invalid control character at: line 1 column 345 (char 344)\n",
      "Null fields Mistral:  Prompts_Context/user_U5_C_promptID_0_model_mistral-small_shots_5_run_id_525169_output.csv \n",
      "\n",
      "Exception postprocess_rows_gpt: Invalid control character at: line 2 column 130 (char 300)\n",
      "Null fields Mistral:  Prompts_Context/user_U9_C_promptID_2_model_mistral-small_shots_3_run_id_548970_output.csv \n",
      "\n",
      "Exception postprocess_rows_gpt: Invalid control character at: line 1 column 372 (char 371)\n",
      "Null fields Mistral:  Prompts_Context/user_U5_C_promptID_2_model_mistral-small_shots_3_run_id_898562_output.csv \n",
      "\n",
      "Exception postprocess_rows_gpt: Invalid control character at: line 1 column 312 (char 311)\n",
      "Null fields Mistral:  Prompts_Context/user_U0_C_promptID_2_model_mistral-small_shots_10_run_id_379057_output.csv \n",
      "\n",
      "Null fields Mistral:  Prompts_Context/user_U7_C_promptID_0_model_mistral-medium_shots_3_run_id_928616_output.csv \n",
      "\n",
      "Exception postprocess_rows_gpt: Extra data: line 1 column 577 (char 576)\n",
      "Null fields Mistral:  Prompts_Context/user_U8_C_promptID_0_model_mistral-medium_shots_5_run_id_521494_output.csv \n",
      "\n",
      "Exception postprocess_rows_gpt: Extra data: line 6 column 1 (char 682)\n",
      "Null fields Mistral:  Prompts_Context/user_U9_C_promptID_0_model_mistral-small_shots_3_run_id_163442_output.csv \n",
      "\n",
      "Exception postprocess_rows_gpt: Invalid control character at: line 3 column 176 (char 341)\n",
      "Null fields Mistral:  Prompts_Context/user_U6_C_promptID_2_model_mistral-small_shots_3_run_id_465323_output.csv \n",
      "\n",
      "Exception postprocess_rows_gpt: Invalid control character at: line 1 column 307 (char 306)\n"
     ]
    },
    {
     "name": "stderr",
     "output_type": "stream",
     "text": [
      "/Users/bojansimoski/dev/eur/llm-evaluate/prompting.py:477: SettingWithCopyWarning: \n",
      "A value is trying to be set on a copy of a slice from a DataFrame.\n",
      "Try using .loc[row_indexer,col_indexer] = value instead\n",
      "\n",
      "See the caveats in the documentation: https://pandas.pydata.org/pandas-docs/stable/user_guide/indexing.html#returning-a-view-versus-a-copy\n",
      "  df_file_temp[columns_to_update] = df_file_temp['output'].apply(postprocess_rows_mistral)\n",
      "/Users/bojansimoski/dev/eur/llm-evaluate/prompting.py:477: SettingWithCopyWarning: \n",
      "A value is trying to be set on a copy of a slice from a DataFrame.\n",
      "Try using .loc[row_indexer,col_indexer] = value instead\n",
      "\n",
      "See the caveats in the documentation: https://pandas.pydata.org/pandas-docs/stable/user_guide/indexing.html#returning-a-view-versus-a-copy\n",
      "  df_file_temp[columns_to_update] = df_file_temp['output'].apply(postprocess_rows_mistral)\n",
      "/Users/bojansimoski/dev/eur/llm-evaluate/prompting.py:477: SettingWithCopyWarning: \n",
      "A value is trying to be set on a copy of a slice from a DataFrame.\n",
      "Try using .loc[row_indexer,col_indexer] = value instead\n",
      "\n",
      "See the caveats in the documentation: https://pandas.pydata.org/pandas-docs/stable/user_guide/indexing.html#returning-a-view-versus-a-copy\n",
      "  df_file_temp[columns_to_update] = df_file_temp['output'].apply(postprocess_rows_mistral)\n",
      "/Users/bojansimoski/dev/eur/llm-evaluate/prompting.py:477: SettingWithCopyWarning: \n",
      "A value is trying to be set on a copy of a slice from a DataFrame.\n",
      "Try using .loc[row_indexer,col_indexer] = value instead\n",
      "\n",
      "See the caveats in the documentation: https://pandas.pydata.org/pandas-docs/stable/user_guide/indexing.html#returning-a-view-versus-a-copy\n",
      "  df_file_temp[columns_to_update] = df_file_temp['output'].apply(postprocess_rows_mistral)\n",
      "/Users/bojansimoski/dev/eur/llm-evaluate/prompting.py:477: SettingWithCopyWarning: \n",
      "A value is trying to be set on a copy of a slice from a DataFrame.\n",
      "Try using .loc[row_indexer,col_indexer] = value instead\n",
      "\n",
      "See the caveats in the documentation: https://pandas.pydata.org/pandas-docs/stable/user_guide/indexing.html#returning-a-view-versus-a-copy\n",
      "  df_file_temp[columns_to_update] = df_file_temp['output'].apply(postprocess_rows_mistral)\n",
      "/Users/bojansimoski/dev/eur/llm-evaluate/prompting.py:477: SettingWithCopyWarning: \n",
      "A value is trying to be set on a copy of a slice from a DataFrame.\n",
      "Try using .loc[row_indexer,col_indexer] = value instead\n",
      "\n",
      "See the caveats in the documentation: https://pandas.pydata.org/pandas-docs/stable/user_guide/indexing.html#returning-a-view-versus-a-copy\n",
      "  df_file_temp[columns_to_update] = df_file_temp['output'].apply(postprocess_rows_mistral)\n",
      "/Users/bojansimoski/dev/eur/llm-evaluate/prompting.py:477: SettingWithCopyWarning: \n",
      "A value is trying to be set on a copy of a slice from a DataFrame.\n",
      "Try using .loc[row_indexer,col_indexer] = value instead\n",
      "\n",
      "See the caveats in the documentation: https://pandas.pydata.org/pandas-docs/stable/user_guide/indexing.html#returning-a-view-versus-a-copy\n",
      "  df_file_temp[columns_to_update] = df_file_temp['output'].apply(postprocess_rows_mistral)\n",
      "/Users/bojansimoski/dev/eur/llm-evaluate/prompting.py:446: SettingWithCopyWarning: \n",
      "A value is trying to be set on a copy of a slice from a DataFrame.\n",
      "Try using .loc[row_indexer,col_indexer] = value instead\n",
      "\n",
      "See the caveats in the documentation: https://pandas.pydata.org/pandas-docs/stable/user_guide/indexing.html#returning-a-view-versus-a-copy\n",
      "  df_file_temp[columns_to_update] = df_file_temp['output'].apply(postprocess_rows_gpt_3_5_second)\n",
      "/Users/bojansimoski/dev/eur/llm-evaluate/prompting.py:477: SettingWithCopyWarning: \n",
      "A value is trying to be set on a copy of a slice from a DataFrame.\n",
      "Try using .loc[row_indexer,col_indexer] = value instead\n",
      "\n",
      "See the caveats in the documentation: https://pandas.pydata.org/pandas-docs/stable/user_guide/indexing.html#returning-a-view-versus-a-copy\n",
      "  df_file_temp[columns_to_update] = df_file_temp['output'].apply(postprocess_rows_mistral)\n",
      "/Users/bojansimoski/dev/eur/llm-evaluate/prompting.py:477: SettingWithCopyWarning: \n",
      "A value is trying to be set on a copy of a slice from a DataFrame.\n",
      "Try using .loc[row_indexer,col_indexer] = value instead\n",
      "\n",
      "See the caveats in the documentation: https://pandas.pydata.org/pandas-docs/stable/user_guide/indexing.html#returning-a-view-versus-a-copy\n",
      "  df_file_temp[columns_to_update] = df_file_temp['output'].apply(postprocess_rows_mistral)\n",
      "/Users/bojansimoski/dev/eur/llm-evaluate/prompting.py:477: SettingWithCopyWarning: \n",
      "A value is trying to be set on a copy of a slice from a DataFrame.\n",
      "Try using .loc[row_indexer,col_indexer] = value instead\n",
      "\n",
      "See the caveats in the documentation: https://pandas.pydata.org/pandas-docs/stable/user_guide/indexing.html#returning-a-view-versus-a-copy\n",
      "  df_file_temp[columns_to_update] = df_file_temp['output'].apply(postprocess_rows_mistral)\n",
      "/Users/bojansimoski/dev/eur/llm-evaluate/prompting.py:477: SettingWithCopyWarning: \n",
      "A value is trying to be set on a copy of a slice from a DataFrame.\n",
      "Try using .loc[row_indexer,col_indexer] = value instead\n",
      "\n",
      "See the caveats in the documentation: https://pandas.pydata.org/pandas-docs/stable/user_guide/indexing.html#returning-a-view-versus-a-copy\n",
      "  df_file_temp[columns_to_update] = df_file_temp['output'].apply(postprocess_rows_mistral)\n",
      "/Users/bojansimoski/dev/eur/llm-evaluate/prompting.py:477: SettingWithCopyWarning: \n",
      "A value is trying to be set on a copy of a slice from a DataFrame.\n",
      "Try using .loc[row_indexer,col_indexer] = value instead\n",
      "\n",
      "See the caveats in the documentation: https://pandas.pydata.org/pandas-docs/stable/user_guide/indexing.html#returning-a-view-versus-a-copy\n",
      "  df_file_temp[columns_to_update] = df_file_temp['output'].apply(postprocess_rows_mistral)\n",
      "/Users/bojansimoski/dev/eur/llm-evaluate/prompting.py:477: SettingWithCopyWarning: \n",
      "A value is trying to be set on a copy of a slice from a DataFrame.\n",
      "Try using .loc[row_indexer,col_indexer] = value instead\n",
      "\n",
      "See the caveats in the documentation: https://pandas.pydata.org/pandas-docs/stable/user_guide/indexing.html#returning-a-view-versus-a-copy\n",
      "  df_file_temp[columns_to_update] = df_file_temp['output'].apply(postprocess_rows_mistral)\n"
     ]
    },
    {
     "name": "stdout",
     "output_type": "stream",
     "text": [
      "Null fields Mistral:  Prompts_Context/user_U1_C_promptID_2_model_mistral-small_shots_10_run_id_445607_output.csv \n",
      "\n",
      "Exception postprocess_rows_gpt: Extra data: line 3 column 1 (char 160)\n",
      "Exception postprocess_rows_gpt: Invalid control character at: line 1 column 276 (char 275)\n",
      "Null fields Mistral:  Prompts_Context/user_U6_C_promptID_2_model_mistral-small_shots_5_run_id_733275_output.csv \n",
      "\n",
      "Null fields Mistral:  Prompts_Context/user_U4_C_promptID_2_model_mistral-small_shots_3_run_id_940231_output.csv \n",
      "\n",
      "Null fields Mistral:  Prompts_Context/user_U9_C_promptID_0_model_mistral-medium_shots_3_run_id_583508_output.csv \n",
      "\n",
      "Exception postprocess_rows_gpt: Extra data: line 6 column 1 (char 587)\n",
      "Exception postprocess_rows_gpt: Extra data: line 6 column 1 (char 701)\n",
      "Null fields Mistral:  Prompts_Context/user_U1_C_promptID_2_model_mistral-small_shots_3_run_id_413730_output.csv \n",
      "\n",
      "Exception postprocess_rows_gpt: Extra data: line 3 column 1 (char 205)\n",
      "Null fields Mistral:  Prompts_Context/user_U3_C_promptID_0_model_mistral-medium_shots_5_run_id_548991_output.csv \n",
      "\n",
      "Exception postprocess_rows_gpt: Expecting ',' delimiter: line 2 column 52 (char 53)\n",
      "Null fields Mistral:  Prompts_Context/user_U0_C_promptID_0_model_mistral-medium_shots_10_run_id_367558_output.csv \n",
      "\n",
      "Exception postprocess_rows_gpt: Extra data: line 5 column 1 (char 622)\n",
      "Null fields Mistral:  Prompts_Context/user_U4_C_promptID_2_model_mistral-small_shots_10_run_id_288028_output.csv \n",
      "\n",
      "Exception postprocess_rows_gpt: Expecting ',' delimiter: line 1 column 189 (char 188)\n",
      "Exception postprocess_rows_gpt: Extra data: line 3 column 1 (char 139)\n",
      "Null fields Mistral:  Prompts_Context/user_U6_C_promptID_0_model_mistral-medium_shots_3_run_id_908670_output.csv \n",
      "\n",
      "Exception postprocess_rows_gpt: Extra data: line 4 column 1 (char 641)\n",
      "Exception postprocess_rows_gpt: Expecting ',' delimiter: line 3 column 242 (char 443)\n",
      "Null fields Mistral:  Prompts_Context/user_U4_C_promptID_0_model_mistral-small_shots_3_run_id_449640_output.csv \n",
      "\n",
      "Exception postprocess_rows_gpt: Invalid control character at: line 3 column 118 (char 290)\n",
      "Null fields Mistral:  Prompts_Context/user_U1_C_promptID_2_model_mistral-small_shots_5_run_id_605302_output.csv \n",
      "\n",
      "Exception postprocess_rows_gpt: Extra data: line 3 column 1 (char 163)\n"
     ]
    },
    {
     "name": "stderr",
     "output_type": "stream",
     "text": [
      "/Users/bojansimoski/dev/eur/llm-evaluate/prompting.py:477: SettingWithCopyWarning: \n",
      "A value is trying to be set on a copy of a slice from a DataFrame.\n",
      "Try using .loc[row_indexer,col_indexer] = value instead\n",
      "\n",
      "See the caveats in the documentation: https://pandas.pydata.org/pandas-docs/stable/user_guide/indexing.html#returning-a-view-versus-a-copy\n",
      "  df_file_temp[columns_to_update] = df_file_temp['output'].apply(postprocess_rows_mistral)\n",
      "/Users/bojansimoski/dev/eur/llm-evaluate/prompting.py:477: SettingWithCopyWarning: \n",
      "A value is trying to be set on a copy of a slice from a DataFrame.\n",
      "Try using .loc[row_indexer,col_indexer] = value instead\n",
      "\n",
      "See the caveats in the documentation: https://pandas.pydata.org/pandas-docs/stable/user_guide/indexing.html#returning-a-view-versus-a-copy\n",
      "  df_file_temp[columns_to_update] = df_file_temp['output'].apply(postprocess_rows_mistral)\n",
      "/Users/bojansimoski/dev/eur/llm-evaluate/prompting.py:477: SettingWithCopyWarning: \n",
      "A value is trying to be set on a copy of a slice from a DataFrame.\n",
      "Try using .loc[row_indexer,col_indexer] = value instead\n",
      "\n",
      "See the caveats in the documentation: https://pandas.pydata.org/pandas-docs/stable/user_guide/indexing.html#returning-a-view-versus-a-copy\n",
      "  df_file_temp[columns_to_update] = df_file_temp['output'].apply(postprocess_rows_mistral)\n",
      "/Users/bojansimoski/dev/eur/llm-evaluate/prompting.py:477: SettingWithCopyWarning: \n",
      "A value is trying to be set on a copy of a slice from a DataFrame.\n",
      "Try using .loc[row_indexer,col_indexer] = value instead\n",
      "\n",
      "See the caveats in the documentation: https://pandas.pydata.org/pandas-docs/stable/user_guide/indexing.html#returning-a-view-versus-a-copy\n",
      "  df_file_temp[columns_to_update] = df_file_temp['output'].apply(postprocess_rows_mistral)\n",
      "/Users/bojansimoski/dev/eur/llm-evaluate/prompting.py:477: SettingWithCopyWarning: \n",
      "A value is trying to be set on a copy of a slice from a DataFrame.\n",
      "Try using .loc[row_indexer,col_indexer] = value instead\n",
      "\n",
      "See the caveats in the documentation: https://pandas.pydata.org/pandas-docs/stable/user_guide/indexing.html#returning-a-view-versus-a-copy\n",
      "  df_file_temp[columns_to_update] = df_file_temp['output'].apply(postprocess_rows_mistral)\n",
      "/Users/bojansimoski/dev/eur/llm-evaluate/prompting.py:477: SettingWithCopyWarning: \n",
      "A value is trying to be set on a copy of a slice from a DataFrame.\n",
      "Try using .loc[row_indexer,col_indexer] = value instead\n",
      "\n",
      "See the caveats in the documentation: https://pandas.pydata.org/pandas-docs/stable/user_guide/indexing.html#returning-a-view-versus-a-copy\n",
      "  df_file_temp[columns_to_update] = df_file_temp['output'].apply(postprocess_rows_mistral)\n",
      "/Users/bojansimoski/dev/eur/llm-evaluate/prompting.py:477: SettingWithCopyWarning: \n",
      "A value is trying to be set on a copy of a slice from a DataFrame.\n",
      "Try using .loc[row_indexer,col_indexer] = value instead\n",
      "\n",
      "See the caveats in the documentation: https://pandas.pydata.org/pandas-docs/stable/user_guide/indexing.html#returning-a-view-versus-a-copy\n",
      "  df_file_temp[columns_to_update] = df_file_temp['output'].apply(postprocess_rows_mistral)\n",
      "/Users/bojansimoski/dev/eur/llm-evaluate/prompting.py:477: SettingWithCopyWarning: \n",
      "A value is trying to be set on a copy of a slice from a DataFrame.\n",
      "Try using .loc[row_indexer,col_indexer] = value instead\n",
      "\n",
      "See the caveats in the documentation: https://pandas.pydata.org/pandas-docs/stable/user_guide/indexing.html#returning-a-view-versus-a-copy\n",
      "  df_file_temp[columns_to_update] = df_file_temp['output'].apply(postprocess_rows_mistral)\n",
      "/Users/bojansimoski/dev/eur/llm-evaluate/prompting.py:477: SettingWithCopyWarning: \n",
      "A value is trying to be set on a copy of a slice from a DataFrame.\n",
      "Try using .loc[row_indexer,col_indexer] = value instead\n",
      "\n",
      "See the caveats in the documentation: https://pandas.pydata.org/pandas-docs/stable/user_guide/indexing.html#returning-a-view-versus-a-copy\n",
      "  df_file_temp[columns_to_update] = df_file_temp['output'].apply(postprocess_rows_mistral)\n"
     ]
    }
   ],
   "source": [
    "prmt.process_json(output_folder)"
   ]
  },
  {
   "cell_type": "code",
   "execution_count": 374,
   "id": "eb6464df-d877-4a2c-8186-ff71452f7ffd",
   "metadata": {},
   "outputs": [],
   "source": [
    "# REMOVE EXTRA SENTENCE LOGIC\n",
    "\n",
    "# output_llm_folder_path = 'Prompts_NoContext_Fixed_Ten_Sentences/'\n",
    "\n",
    "# # file_finder = “user_” + username + “_promptID_” + prompt_id + ‘_model_‘+ gpt_m + ‘_shots_’ + str(df_shots.shape[0])\n",
    "# files_affected = 0\n",
    "# for filename in os.listdir(output_llm_folder_path):\n",
    "#     if filename.endswith(\".csv\"):\n",
    "#         files_affected = files_affected + 1\n",
    "#         # File matches the pattern, open it as a DataFrame\n",
    "#         file_path = os.path.join(output_llm_folder_path, filename)\n",
    "#         df = pd.read_csv(file_path)        \n",
    "#         # Drop the last row\n",
    "#         if(df.shape[0]>10):\n",
    "#             df = df.drop(df.index[-1])\n",
    "        \n",
    "#         df.to_csv(output_llm_folder_path+filename, index=False)\n",
    "#         print('Updated: ',filename)\n",
    "# print('Files affected: ',files_affected)"
   ]
  },
  {
   "cell_type": "code",
   "execution_count": null,
   "id": "6bbbbe4e-4c92-4438-9a6d-56ee2682ee42",
   "metadata": {},
   "outputs": [],
   "source": []
  }
 ],
 "metadata": {
  "kernelspec": {
   "display_name": "Python (llm-evaluate)",
   "language": "python",
   "name": "llm-evaluate"
  },
  "language_info": {
   "codemirror_mode": {
    "name": "ipython",
    "version": 3
   },
   "file_extension": ".py",
   "mimetype": "text/x-python",
   "name": "python",
   "nbconvert_exporter": "python",
   "pygments_lexer": "ipython3",
   "version": "3.11.7"
  }
 },
 "nbformat": 4,
 "nbformat_minor": 5
}
