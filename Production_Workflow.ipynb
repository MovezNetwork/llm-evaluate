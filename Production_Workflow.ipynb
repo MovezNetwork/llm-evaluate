{
 "cells": [
  {
   "cell_type": "code",
   "execution_count": 8,
   "metadata": {},
   "outputs": [],
   "source": [
    "import production as p\n",
    "import os\n",
    "import inspect\n",
    "import sys\n",
    "import pandas as pd\n",
    "\n",
    "# access parent directory from notebooks directory\n",
    "currentdir = os.path.dirname(os.path.abspath(inspect.getfile(inspect.currentframe())))\n",
    "parentdir = os.path.dirname(currentdir)\n",
    "sys.path.insert(0, parentdir)\n",
    "%load_ext autoreload\n",
    "%autoreload 2\n",
    "%reload_ext autoreload"
   ]
  },
  {
   "cell_type": "markdown",
   "metadata": {},
   "source": [
    "### Step1: Read the LLM-ready data"
   ]
  },
  {
   "cell_type": "code",
   "execution_count": 36,
   "metadata": {},
   "outputs": [],
   "source": [
    "df_user_data,neutral_sentences = p.read_input_data()"
   ]
  },
  {
   "cell_type": "code",
   "execution_count": 37,
   "metadata": {},
   "outputs": [
    {
     "data": {
      "text/html": [
       "<div>\n",
       "<style scoped>\n",
       "    .dataframe tbody tr th:only-of-type {\n",
       "        vertical-align: middle;\n",
       "    }\n",
       "\n",
       "    .dataframe tbody tr th {\n",
       "        vertical-align: top;\n",
       "    }\n",
       "\n",
       "    .dataframe thead th {\n",
       "        text-align: right;\n",
       "    }\n",
       "</style>\n",
       "<table border=\"1\" class=\"dataframe\">\n",
       "  <thead>\n",
       "    <tr style=\"text-align: right;\">\n",
       "      <th></th>\n",
       "      <th>username</th>\n",
       "      <th>messageID</th>\n",
       "      <th>original</th>\n",
       "    </tr>\n",
       "  </thead>\n",
       "  <tbody>\n",
       "    <tr>\n",
       "      <th>49</th>\n",
       "      <td>U0</td>\n",
       "      <td>29</td>\n",
       "      <td>I have a younger sister, 22 now, and a mother ...</td>\n",
       "    </tr>\n",
       "    <tr>\n",
       "      <th>47</th>\n",
       "      <td>U0</td>\n",
       "      <td>20</td>\n",
       "      <td>I am gonna sound very young when I tell you ab...</td>\n",
       "    </tr>\n",
       "    <tr>\n",
       "      <th>46</th>\n",
       "      <td>U0</td>\n",
       "      <td>2</td>\n",
       "      <td>So there is one that we have in common and tha...</td>\n",
       "    </tr>\n",
       "  </tbody>\n",
       "</table>\n",
       "</div>"
      ],
      "text/plain": [
       "   username  messageID                                           original\n",
       "49       U0         29  I have a younger sister, 22 now, and a mother ...\n",
       "47       U0         20  I am gonna sound very young when I tell you ab...\n",
       "46       U0          2  So there is one that we have in common and tha..."
      ]
     },
     "execution_count": 37,
     "metadata": {},
     "output_type": "execute_result"
    }
   ],
   "source": [
    "df_user_data.head(3)"
   ]
  },
  {
   "cell_type": "code",
   "execution_count": 38,
   "metadata": {},
   "outputs": [
    {
     "data": {
      "text/html": [
       "<div>\n",
       "<style scoped>\n",
       "    .dataframe tbody tr th:only-of-type {\n",
       "        vertical-align: middle;\n",
       "    }\n",
       "\n",
       "    .dataframe tbody tr th {\n",
       "        vertical-align: top;\n",
       "    }\n",
       "\n",
       "    .dataframe thead th {\n",
       "        text-align: right;\n",
       "    }\n",
       "</style>\n",
       "<table border=\"1\" class=\"dataframe\">\n",
       "  <thead>\n",
       "    <tr style=\"text-align: right;\">\n",
       "      <th></th>\n",
       "      <th>idSentence</th>\n",
       "      <th>sentences</th>\n",
       "    </tr>\n",
       "  </thead>\n",
       "  <tbody>\n",
       "    <tr>\n",
       "      <th>0</th>\n",
       "      <td>0</td>\n",
       "      <td>I’m all about that food. I usually kick off th...</td>\n",
       "    </tr>\n",
       "    <tr>\n",
       "      <th>1</th>\n",
       "      <td>1</td>\n",
       "      <td>Just getting my vitamins in at the school cant...</td>\n",
       "    </tr>\n",
       "    <tr>\n",
       "      <th>2</th>\n",
       "      <td>2</td>\n",
       "      <td>De Pizzabakkers sell this vegan pizza with che...</td>\n",
       "    </tr>\n",
       "    <tr>\n",
       "      <th>3</th>\n",
       "      <td>3</td>\n",
       "      <td>I entered the world of vegan foods lately. Nex...</td>\n",
       "    </tr>\n",
       "    <tr>\n",
       "      <th>4</th>\n",
       "      <td>4</td>\n",
       "      <td>This vegan fried chicken from KFC is on the sp...</td>\n",
       "    </tr>\n",
       "    <tr>\n",
       "      <th>5</th>\n",
       "      <td>5</td>\n",
       "      <td>Just having this vegan hotdog from the school ...</td>\n",
       "    </tr>\n",
       "    <tr>\n",
       "      <th>6</th>\n",
       "      <td>6</td>\n",
       "      <td>Just had my first vegan cake at \"groene bakker...</td>\n",
       "    </tr>\n",
       "    <tr>\n",
       "      <th>7</th>\n",
       "      <td>7</td>\n",
       "      <td>This vegan chocolate is on point. Its with oat...</td>\n",
       "    </tr>\n",
       "    <tr>\n",
       "      <th>8</th>\n",
       "      <td>8</td>\n",
       "      <td>I'm all about fast food. I'm having some fries...</td>\n",
       "    </tr>\n",
       "    <tr>\n",
       "      <th>9</th>\n",
       "      <td>9</td>\n",
       "      <td>I went to the \"Groene Burger\" fast food restau...</td>\n",
       "    </tr>\n",
       "  </tbody>\n",
       "</table>\n",
       "</div>"
      ],
      "text/plain": [
       "  idSentence                                          sentences\n",
       "0          0  I’m all about that food. I usually kick off th...\n",
       "1          1  Just getting my vitamins in at the school cant...\n",
       "2          2  De Pizzabakkers sell this vegan pizza with che...\n",
       "3          3  I entered the world of vegan foods lately. Nex...\n",
       "4          4  This vegan fried chicken from KFC is on the sp...\n",
       "5          5  Just having this vegan hotdog from the school ...\n",
       "6          6  Just had my first vegan cake at \"groene bakker...\n",
       "7          7  This vegan chocolate is on point. Its with oat...\n",
       "8          8  I'm all about fast food. I'm having some fries...\n",
       "9          9  I went to the \"Groene Burger\" fast food restau..."
      ]
     },
     "execution_count": 38,
     "metadata": {},
     "output_type": "execute_result"
    }
   ],
   "source": [
    "neutral_sentences"
   ]
  },
  {
   "cell_type": "markdown",
   "metadata": {},
   "source": [
    "### Step 2 LLM TST"
   ]
  },
  {
   "cell_type": "code",
   "execution_count": 101,
   "metadata": {},
   "outputs": [],
   "source": [
    "# This calls Mistral API\n",
    "df_llm_tst = p.llm_tst(df_user_data,neutral_sentences[0:2])\n",
    "df_llm_tst_final = p.postprocess_llm_tst(df_llm_tst)\n",
    "df_llm_tst_final.head(3)"
   ]
  },
  {
   "cell_type": "code",
   "execution_count": 25,
   "metadata": {},
   "outputs": [
    {
     "name": "stdout",
     "output_type": "stream",
     "text": [
      "May 20 12:02:53 May 24 19:05:49\n"
     ]
    }
   ],
   "source": [
    "# This gets the LLM TST data already generated\n",
    "df_llm_tst_final = p.read_and_postprocess_llm_tst()\n",
    "\n",
    "from datetime import datetime\n",
    "smallest_timestamp = datetime.strptime(str(df_llm_tst_final['timestamp'].min()), \"%Y%m%d%H%M%S\").strftime(\"%B %d %H:%M:%S\")\n",
    "\n",
    "largest_timestamp = datetime.strptime(str(df_llm_tst_final['timestamp'].max()), \"%Y%m%d%H%M%S\").strftime(\"%B %d %H:%M:%S\")\n",
    "print(smallest_timestamp,largest_timestamp)"
   ]
  },
  {
   "cell_type": "code",
   "execution_count": 26,
   "metadata": {},
   "outputs": [
    {
     "data": {
      "text/plain": [
       "Index(['username', 'id_neutral_sentence', 'neutral_sentence', 'tst_id',\n",
       "       'tst_sentence', 'explanation', 'llm_tst', 'query', 'model',\n",
       "       'prompt_tokens', 'completion_tokens', 'object', 'promptID',\n",
       "       'timestamp'],\n",
       "      dtype='object')"
      ]
     },
     "execution_count": 26,
     "metadata": {},
     "output_type": "execute_result"
    }
   ],
   "source": [
    "df_llm_tst_final.columns"
   ]
  },
  {
   "cell_type": "markdown",
   "metadata": {},
   "source": [
    "### Step 3 LLM Evaluate"
   ]
  },
  {
   "cell_type": "code",
   "execution_count": 167,
   "metadata": {},
   "outputs": [],
   "source": [
    "df_eval = p.llm_evl(df_llm_tst_final)"
   ]
  },
  {
   "cell_type": "markdown",
   "metadata": {},
   "source": [
    "##### This gets the LLM EVL data already generated"
   ]
  },
  {
   "cell_type": "code",
   "execution_count": 9,
   "metadata": {},
   "outputs": [],
   "source": [
    "df_eval = pd.read_csv('f8_llm_evaluation_data/eval_20240520173356.csv')"
   ]
  },
  {
   "cell_type": "code",
   "execution_count": 10,
   "metadata": {},
   "outputs": [
    {
     "data": {
      "text/html": [
       "<div>\n",
       "<style scoped>\n",
       "    .dataframe tbody tr th:only-of-type {\n",
       "        vertical-align: middle;\n",
       "    }\n",
       "\n",
       "    .dataframe tbody tr th {\n",
       "        vertical-align: top;\n",
       "    }\n",
       "\n",
       "    .dataframe thead th {\n",
       "        text-align: right;\n",
       "    }\n",
       "</style>\n",
       "<table border=\"1\" class=\"dataframe\">\n",
       "  <thead>\n",
       "    <tr style=\"text-align: right;\">\n",
       "      <th></th>\n",
       "      <th>tst_id</th>\n",
       "      <th>tst_sentence</th>\n",
       "      <th>eval_id</th>\n",
       "      <th>llm_eval</th>\n",
       "      <th>query</th>\n",
       "      <th>model</th>\n",
       "      <th>prompt_tokens</th>\n",
       "      <th>completion_tokens</th>\n",
       "      <th>object</th>\n",
       "      <th>eval_promptID</th>\n",
       "      <th>eval_timestamp</th>\n",
       "    </tr>\n",
       "  </thead>\n",
       "  <tbody>\n",
       "    <tr>\n",
       "      <th>0</th>\n",
       "      <td>U020240520120253</td>\n",
       "      <td>I'm totally into food, you know? I start my we...</td>\n",
       "      <td>U020240520173219</td>\n",
       "      <td>score_formality=1\\nexplanation=The text contai...</td>\n",
       "      <td>You are a lingustics expert.Your goal is to as...</td>\n",
       "      <td>mistral-small</td>\n",
       "      <td>238</td>\n",
       "      <td>66</td>\n",
       "      <td>chat.completion</td>\n",
       "      <td>0</td>\n",
       "      <td>20240520173219</td>\n",
       "    </tr>\n",
       "    <tr>\n",
       "      <th>1</th>\n",
       "      <td>U020240520120253</td>\n",
       "      <td>I'm totally into food, you know? I start my we...</td>\n",
       "      <td>U020240520173221</td>\n",
       "      <td>score_descriptiveness=2\\nexplanation=The text ...</td>\n",
       "      <td>You are a lingustics expert.Your goal is to as...</td>\n",
       "      <td>mistral-small</td>\n",
       "      <td>267</td>\n",
       "      <td>128</td>\n",
       "      <td>chat.completion</td>\n",
       "      <td>1</td>\n",
       "      <td>20240520173221</td>\n",
       "    </tr>\n",
       "    <tr>\n",
       "      <th>2</th>\n",
       "      <td>U020240520120253</td>\n",
       "      <td>I'm totally into food, you know? I start my we...</td>\n",
       "      <td>U020240520173221</td>\n",
       "      <td>score\\_emotionality=3\\nexplanation=The text is...</td>\n",
       "      <td>You are a lingustics expert.Your goal is to as...</td>\n",
       "      <td>mistral-small</td>\n",
       "      <td>245</td>\n",
       "      <td>69</td>\n",
       "      <td>chat.completion</td>\n",
       "      <td>2</td>\n",
       "      <td>20240520173221</td>\n",
       "    </tr>\n",
       "  </tbody>\n",
       "</table>\n",
       "</div>"
      ],
      "text/plain": [
       "             tst_id                                       tst_sentence  \\\n",
       "0  U020240520120253  I'm totally into food, you know? I start my we...   \n",
       "1  U020240520120253  I'm totally into food, you know? I start my we...   \n",
       "2  U020240520120253  I'm totally into food, you know? I start my we...   \n",
       "\n",
       "            eval_id                                           llm_eval  \\\n",
       "0  U020240520173219  score_formality=1\\nexplanation=The text contai...   \n",
       "1  U020240520173221  score_descriptiveness=2\\nexplanation=The text ...   \n",
       "2  U020240520173221  score\\_emotionality=3\\nexplanation=The text is...   \n",
       "\n",
       "                                               query          model  \\\n",
       "0  You are a lingustics expert.Your goal is to as...  mistral-small   \n",
       "1  You are a lingustics expert.Your goal is to as...  mistral-small   \n",
       "2  You are a lingustics expert.Your goal is to as...  mistral-small   \n",
       "\n",
       "   prompt_tokens  completion_tokens           object  eval_promptID  \\\n",
       "0            238                 66  chat.completion              0   \n",
       "1            267                128  chat.completion              1   \n",
       "2            245                 69  chat.completion              2   \n",
       "\n",
       "   eval_timestamp  \n",
       "0  20240520173219  \n",
       "1  20240520173221  \n",
       "2  20240520173221  "
      ]
     },
     "execution_count": 10,
     "metadata": {},
     "output_type": "execute_result"
    }
   ],
   "source": [
    "df_eval.head(3)"
   ]
  },
  {
   "cell_type": "code",
   "execution_count": 11,
   "metadata": {},
   "outputs": [
    {
     "name": "stdout",
     "output_type": "stream",
     "text": [
      "Exception at index: 16  \n",
      " with value: Score: 2_somewhat concise/descriptive\n",
      "\n",
      "Explanation: The text provides some descriptive elements, such as the mention of specific food items (quinoa, chickpeas, soy chicken) and the positive attitude towards the upcoming math exam. However, it is still concise and lacks detailed descriptions that could create a vivid image or evoke stronger emotions.\n"
     ]
    }
   ],
   "source": [
    "df_eval_final = p.postprocess_llm_evl(df_eval)"
   ]
  },
  {
   "cell_type": "code",
   "execution_count": null,
   "metadata": {},
   "outputs": [],
   "source": []
  }
 ],
 "metadata": {
  "kernelspec": {
   "display_name": "llm-evaluate",
   "language": "python",
   "name": "python3"
  },
  "language_info": {
   "codemirror_mode": {
    "name": "ipython",
    "version": 3
   },
   "file_extension": ".py",
   "mimetype": "text/x-python",
   "name": "python",
   "nbconvert_exporter": "python",
   "pygments_lexer": "ipython3",
   "version": "3.11.7"
  }
 },
 "nbformat": 4,
 "nbformat_minor": 2
}
