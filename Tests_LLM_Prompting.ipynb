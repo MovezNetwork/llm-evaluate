{
 "cells": [
  {
   "cell_type": "code",
   "execution_count": 2,
   "id": "41124f80-dc0c-472a-b22f-93fd4ba3c302",
   "metadata": {},
   "outputs": [],
   "source": [
    "import mlflow\n",
    "import pandas as pd\n",
    "from openai import OpenAI\n",
    "import os\n",
    "import configparser\n",
    "from mistralai.client import MistralClient\n",
    "from mistralai.models.chat_completion import ChatMessage"
   ]
  },
  {
   "cell_type": "markdown",
   "id": "b9c36935-ab6c-4160-a08c-9bff4d07bb5a",
   "metadata": {},
   "source": [
    "### Notebook for testing LLM prompts, no results are logged here (either as csv or in Weights & Biases)"
   ]
  },
  {
   "cell_type": "markdown",
   "id": "e49e58c3-d88c-4db5-b7fc-a4d6a8e95025",
   "metadata": {},
   "source": [
    "### Config Parameters"
   ]
  },
  {
   "cell_type": "code",
   "execution_count": 3,
   "id": "ce318fbc-ed1c-4187-a95c-6f106ccc8a39",
   "metadata": {},
   "outputs": [],
   "source": [
    "config = configparser.ConfigParser()\n",
    "# Read the configuration file\n",
    "config.read('config.ini')\n",
    "api_key_openai = config.get('credentials', 'api_key_openai')\n",
    "api_key_mistral = config.get('credentials', 'api_key_mistral')\n",
    "surfdrive_url_input_sentences = config.get('credentials', 'surfdrive_url_input_sentences')\n",
    "surfdrive_url_prompts = config.get('credentials', 'surfdrive_url_prompts')\n",
    "output_chat_data_folder_path = 'output_llm_data/'"
   ]
  },
  {
   "cell_type": "markdown",
   "id": "2eab578b-9109-4828-a0b3-a68074de152b",
   "metadata": {},
   "source": [
    "### Input & Prompts"
   ]
  },
  {
   "cell_type": "code",
   "execution_count": 9,
   "id": "9a2ee405-fccc-4d10-9915-284ad7e533ba",
   "metadata": {},
   "outputs": [
    {
     "data": {
      "text/plain": [
       "0    I’m all about that food. I usually kick off th...\n",
       "1    Just getting my vitamins in at the school cant...\n",
       "2    De Pizzabakkers sell this vegan pizza with che...\n",
       "3    I entered the world of vegan foods lately. Nex...\n",
       "4    This vegan fried chicken from KFC is on the sp...\n",
       "Name: sentences, dtype: object"
      ]
     },
     "execution_count": 9,
     "metadata": {},
     "output_type": "execute_result"
    }
   ],
   "source": [
    "# get a smaller subset of input sentences for these tests\n",
    "neutral_sentences = pd.read_csv(surfdrive_url_input_sentences,sep=';')['sentences']\n",
    "neutral_sentences = neutral_sentences[0:5]\n",
    "neutral_sentences"
   ]
  },
  {
   "cell_type": "code",
   "execution_count": 6,
   "id": "b52029d8-6ff0-4771-b455-a454d741d64f",
   "metadata": {},
   "outputs": [
    {
     "data": {
      "text/html": [
       "<div>\n",
       "<style scoped>\n",
       "    .dataframe tbody tr th:only-of-type {\n",
       "        vertical-align: middle;\n",
       "    }\n",
       "\n",
       "    .dataframe tbody tr th {\n",
       "        vertical-align: top;\n",
       "    }\n",
       "\n",
       "    .dataframe thead th {\n",
       "        text-align: right;\n",
       "    }\n",
       "</style>\n",
       "<table border=\"1\" class=\"dataframe\">\n",
       "  <thead>\n",
       "    <tr style=\"text-align: right;\">\n",
       "      <th></th>\n",
       "      <th>index</th>\n",
       "      <th>promptID</th>\n",
       "      <th>promptContent</th>\n",
       "    </tr>\n",
       "  </thead>\n",
       "  <tbody>\n",
       "    <tr>\n",
       "      <th>0</th>\n",
       "      <td>0</td>\n",
       "      <td>0</td>\n",
       "      <td>Here is some text {}. Here is a rewrite of the...</td>\n",
       "    </tr>\n",
       "  </tbody>\n",
       "</table>\n",
       "</div>"
      ],
      "text/plain": [
       "   index  promptID                                      promptContent\n",
       "0      0         0  Here is some text {}. Here is a rewrite of the..."
      ]
     },
     "execution_count": 6,
     "metadata": {},
     "output_type": "execute_result"
    }
   ],
   "source": [
    "df_prompts = pd.read_csv(surfdrive_url_prompts,sep=';').reset_index()\n",
    "df_prompts"
   ]
  },
  {
   "cell_type": "markdown",
   "id": "890dc501-f304-4077-a8b8-7482134e9573",
   "metadata": {},
   "source": [
    "### Prompt making"
   ]
  },
  {
   "cell_type": "code",
   "execution_count": 7,
   "id": "c678d450-4e52-4bef-b2cf-196353a10f92",
   "metadata": {},
   "outputs": [],
   "source": [
    "# getting the relevant prompts\n",
    "prompt_content = df_prompts['promptContent'][0]\n",
    "prompt_id = str(df_prompts['promptID'][0])"
   ]
  },
  {
   "cell_type": "markdown",
   "id": "cfe18922-5ba1-465d-a674-b0ae98faf3a3",
   "metadata": {},
   "source": [
    "### Single Model Runs"
   ]
  },
  {
   "cell_type": "code",
   "execution_count": 10,
   "id": "bcedf9dc-ae65-483e-8522-dd09a5feebf9",
   "metadata": {},
   "outputs": [
    {
     "name": "stdout",
     "output_type": "stream",
     "text": [
      "run-promptID_0_model_mistral-tiny\n"
     ]
    },
    {
     "data": {
      "text/html": [
       "<div>\n",
       "<style scoped>\n",
       "    .dataframe tbody tr th:only-of-type {\n",
       "        vertical-align: middle;\n",
       "    }\n",
       "\n",
       "    .dataframe tbody tr th {\n",
       "        vertical-align: top;\n",
       "    }\n",
       "\n",
       "    .dataframe thead th {\n",
       "        text-align: right;\n",
       "    }\n",
       "</style>\n",
       "<table border=\"1\" class=\"dataframe\">\n",
       "  <thead>\n",
       "    <tr style=\"text-align: right;\">\n",
       "      <th></th>\n",
       "      <th>original</th>\n",
       "      <th>output</th>\n",
       "      <th>model</th>\n",
       "      <th>prompt_tokens</th>\n",
       "      <th>completion_tokens</th>\n",
       "      <th>object</th>\n",
       "      <th>promptID</th>\n",
       "    </tr>\n",
       "  </thead>\n",
       "  <tbody>\n",
       "    <tr>\n",
       "      <th>0</th>\n",
       "      <td>I’m all about that food. I usually kick off th...</td>\n",
       "      <td>I'm excited about today's delicious meal! I al...</td>\n",
       "      <td>mistral-tiny</td>\n",
       "      <td>63</td>\n",
       "      <td>42</td>\n",
       "      <td>chat.completion</td>\n",
       "      <td>0</td>\n",
       "    </tr>\n",
       "    <tr>\n",
       "      <th>1</th>\n",
       "      <td>Just getting my vitamins in at the school cant...</td>\n",
       "      <td>Preparing for my math exam with a nutritious a...</td>\n",
       "      <td>mistral-tiny</td>\n",
       "      <td>67</td>\n",
       "      <td>57</td>\n",
       "      <td>chat.completion</td>\n",
       "      <td>0</td>\n",
       "    </tr>\n",
       "    <tr>\n",
       "      <th>2</th>\n",
       "      <td>De Pizzabakkers sell this vegan pizza with che...</td>\n",
       "      <td>The Pizzabakkers offer a delicious vegan pizza...</td>\n",
       "      <td>mistral-tiny</td>\n",
       "      <td>65</td>\n",
       "      <td>36</td>\n",
       "      <td>chat.completion</td>\n",
       "      <td>0</td>\n",
       "    </tr>\n",
       "    <tr>\n",
       "      <th>3</th>\n",
       "      <td>I entered the world of vegan foods lately. Nex...</td>\n",
       "      <td>I'm excited to explore the world of vegan food...</td>\n",
       "      <td>mistral-tiny</td>\n",
       "      <td>63</td>\n",
       "      <td>58</td>\n",
       "      <td>chat.completion</td>\n",
       "      <td>0</td>\n",
       "    </tr>\n",
       "  </tbody>\n",
       "</table>\n",
       "</div>"
      ],
      "text/plain": [
       "                                            original  \\\n",
       "0  I’m all about that food. I usually kick off th...   \n",
       "1  Just getting my vitamins in at the school cant...   \n",
       "2  De Pizzabakkers sell this vegan pizza with che...   \n",
       "3  I entered the world of vegan foods lately. Nex...   \n",
       "\n",
       "                                              output         model  \\\n",
       "0  I'm excited about today's delicious meal! I al...  mistral-tiny   \n",
       "1  Preparing for my math exam with a nutritious a...  mistral-tiny   \n",
       "2  The Pizzabakkers offer a delicious vegan pizza...  mistral-tiny   \n",
       "3  I'm excited to explore the world of vegan food...  mistral-tiny   \n",
       "\n",
       "   prompt_tokens  completion_tokens           object promptID  \n",
       "0             63                 42  chat.completion        0  \n",
       "1             67                 57  chat.completion        0  \n",
       "2             65                 36  chat.completion        0  \n",
       "3             63                 58  chat.completion        0  "
      ]
     },
     "execution_count": 10,
     "metadata": {},
     "output_type": "execute_result"
    }
   ],
   "source": [
    "# \"mistral-tiny\", \"mistral-small\", \"mistral-medium\"\n",
    "mistral_m = \"mistral-tiny\"\n",
    "mistral_client = MistralClient(api_key = api_key_mistral)\n",
    "\n",
    "print(\"run-\" + \"promptID_\" + prompt_id + '_model_'+ mistral_m)\n",
    "\n",
    "final_output = []\n",
    "\n",
    "for i in range(0,len(neutral_sentences)-1):   \n",
    "    original = neutral_sentences[i]\n",
    "    query = f\"{prompt_content.replace('{}', f'{{{original}}}')}\"\n",
    "    \n",
    "    messages = [ ChatMessage(role = \"user\", content = query) ]\n",
    "    \n",
    "    # No streaming\n",
    "    chat_response = mistral_client.chat(\n",
    "        model = mistral_m,\n",
    "        messages = messages,\n",
    "    )\n",
    "    \n",
    "    final_output.append({'original': original,'output': chat_response.choices[0].message.content,\"model\": chat_response.model, \"prompt_tokens\" : chat_response.usage.prompt_tokens,\"completion_tokens\" : chat_response.usage.completion_tokens,\"object\" : chat_response.object, \"promptID\" : prompt_id})\n",
    "\n",
    "df_mistral_output = pd.DataFrame(final_output)\n",
    "df_mistral_output"
   ]
  },
  {
   "cell_type": "code",
   "execution_count": 11,
   "id": "2fc3a493-425b-4e46-bd62-189fda41825c",
   "metadata": {},
   "outputs": [
    {
     "name": "stdout",
     "output_type": "stream",
     "text": [
      "run-promptID_0_model_gpt-3.5-turbo\n"
     ]
    },
    {
     "data": {
      "text/html": [
       "<div>\n",
       "<style scoped>\n",
       "    .dataframe tbody tr th:only-of-type {\n",
       "        vertical-align: middle;\n",
       "    }\n",
       "\n",
       "    .dataframe tbody tr th {\n",
       "        vertical-align: top;\n",
       "    }\n",
       "\n",
       "    .dataframe thead th {\n",
       "        text-align: right;\n",
       "    }\n",
       "</style>\n",
       "<table border=\"1\" class=\"dataframe\">\n",
       "  <thead>\n",
       "    <tr style=\"text-align: right;\">\n",
       "      <th></th>\n",
       "      <th>original</th>\n",
       "      <th>output</th>\n",
       "      <th>model</th>\n",
       "      <th>prompt_tokens</th>\n",
       "      <th>completion_tokens</th>\n",
       "      <th>object</th>\n",
       "      <th>promptID</th>\n",
       "      <th>temperature</th>\n",
       "    </tr>\n",
       "  </thead>\n",
       "  <tbody>\n",
       "    <tr>\n",
       "      <th>0</th>\n",
       "      <td>I’m all about that food. I usually kick off th...</td>\n",
       "      <td>I absolutely adore food! Every week, I start m...</td>\n",
       "      <td>gpt-3.5-turbo-0613</td>\n",
       "      <td>71</td>\n",
       "      <td>38</td>\n",
       "      <td>chat.completion</td>\n",
       "      <td>0</td>\n",
       "      <td>0.2</td>\n",
       "    </tr>\n",
       "    <tr>\n",
       "      <th>1</th>\n",
       "      <td>Just getting my vitamins in at the school cant...</td>\n",
       "      <td>Just fueling up on nutrients at the school can...</td>\n",
       "      <td>gpt-3.5-turbo-0613</td>\n",
       "      <td>76</td>\n",
       "      <td>49</td>\n",
       "      <td>chat.completion</td>\n",
       "      <td>0</td>\n",
       "      <td>0.2</td>\n",
       "    </tr>\n",
       "    <tr>\n",
       "      <th>2</th>\n",
       "      <td>De Pizzabakkers sell this vegan pizza with che...</td>\n",
       "      <td>De Pizzabakkers offer an incredible vegan pizz...</td>\n",
       "      <td>gpt-3.5-turbo-0613</td>\n",
       "      <td>73</td>\n",
       "      <td>36</td>\n",
       "      <td>chat.completion</td>\n",
       "      <td>0</td>\n",
       "      <td>0.2</td>\n",
       "    </tr>\n",
       "    <tr>\n",
       "      <th>3</th>\n",
       "      <td>I entered the world of vegan foods lately. Nex...</td>\n",
       "      <td>I've recently embraced the world of vegan food...</td>\n",
       "      <td>gpt-3.5-turbo-0613</td>\n",
       "      <td>72</td>\n",
       "      <td>57</td>\n",
       "      <td>chat.completion</td>\n",
       "      <td>0</td>\n",
       "      <td>0.2</td>\n",
       "    </tr>\n",
       "  </tbody>\n",
       "</table>\n",
       "</div>"
      ],
      "text/plain": [
       "                                            original  \\\n",
       "0  I’m all about that food. I usually kick off th...   \n",
       "1  Just getting my vitamins in at the school cant...   \n",
       "2  De Pizzabakkers sell this vegan pizza with che...   \n",
       "3  I entered the world of vegan foods lately. Nex...   \n",
       "\n",
       "                                              output               model  \\\n",
       "0  I absolutely adore food! Every week, I start m...  gpt-3.5-turbo-0613   \n",
       "1  Just fueling up on nutrients at the school can...  gpt-3.5-turbo-0613   \n",
       "2  De Pizzabakkers offer an incredible vegan pizz...  gpt-3.5-turbo-0613   \n",
       "3  I've recently embraced the world of vegan food...  gpt-3.5-turbo-0613   \n",
       "\n",
       "   prompt_tokens  completion_tokens           object promptID  temperature  \n",
       "0             71                 38  chat.completion        0          0.2  \n",
       "1             76                 49  chat.completion        0          0.2  \n",
       "2             73                 36  chat.completion        0          0.2  \n",
       "3             72                 57  chat.completion        0          0.2  "
      ]
     },
     "execution_count": 11,
     "metadata": {},
     "output_type": "execute_result"
    }
   ],
   "source": [
    "# GPT pre-setup\n",
    "gtp_client = OpenAI(api_key = api_key_openai)\n",
    "# \"gpt-3.5-turbo\", \"gpt-4\"\n",
    "gpt_m = \"gpt-3.5-turbo\"\n",
    "gpt_system_msg = \"You are an expert in text style transfer.\"\n",
    "gpt_temperature = 0.2\n",
    "gpt_max_tokens = 256\n",
    "gpt_frequency_penalty = 0.0\n",
    "\n",
    "print(\"run-\" + \"promptID_\" + prompt_id + '_model_'+ gpt_m)\n",
    "final_output = []\n",
    "for i in range(0,len(neutral_sentences)-1):          \n",
    "    original = neutral_sentences[i]\n",
    "    query = f\"{prompt_content.replace('{}', f'{{{original}}}')}\"\n",
    "    \n",
    "    message=[{\"role\": \"system\", \"content\": gpt_system_msg}, {\"role\": \"user\", \"content\":query}]\n",
    "    \n",
    "    chat_response = gtp_client.chat.completions.create(\n",
    "        model = gpt_m,\n",
    "        messages = message,\n",
    "        temperature = gpt_temperature,\n",
    "        max_tokens = gpt_max_tokens,\n",
    "        frequency_penalty = gpt_frequency_penalty\n",
    "    )\n",
    "    final_output.append({'original': original,'output': chat_response.choices[0].message.content,\"model\": chat_response.model, \"prompt_tokens\" : chat_response.usage.prompt_tokens,\"completion_tokens\" : chat_response.usage.completion_tokens,\"object\" : chat_response.object, \"promptID\" : prompt_id, \"temperature\": gpt_temperature})\n",
    "    \n",
    "df_gpt_output = pd.DataFrame(final_output)\n",
    "df_gpt_output"
   ]
  },
  {
   "cell_type": "code",
   "execution_count": null,
   "id": "67c4d8f4-3bd3-45a8-8530-7959e3dc82a7",
   "metadata": {},
   "outputs": [],
   "source": []
  }
 ],
 "metadata": {
  "kernelspec": {
   "display_name": "Python (llm-evaluate)",
   "language": "python",
   "name": "llm-evaluate"
  },
  "language_info": {
   "codemirror_mode": {
    "name": "ipython",
    "version": 3
   },
   "file_extension": ".py",
   "mimetype": "text/x-python",
   "name": "python",
   "nbconvert_exporter": "python",
   "pygments_lexer": "ipython3",
   "version": "3.11.7"
  }
 },
 "nbformat": 4,
 "nbformat_minor": 5
}
