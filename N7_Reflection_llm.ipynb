{
 "cells": [
  {
   "cell_type": "code",
   "execution_count": 6,
   "id": "4967e338-26e7-4be2-a4fe-eefa19cad483",
   "metadata": {},
   "outputs": [
    {
     "name": "stdout",
     "output_type": "stream",
     "text": [
      "The autoreload extension is already loaded. To reload it, use:\n",
      "  %reload_ext autoreload\n"
     ]
    }
   ],
   "source": [
    "import pandas as pd\n",
    "import sys\n",
    "import os\n",
    "import inspect\n",
    "import s5_postprocess_evaluation as pe\n",
    "import s6_display_results as dr\n",
    "import s4_evaluation as evl\n",
    "import warnings\n",
    "from tqdm import tqdm\n",
    "\n",
    "# Ignore all warnings\n",
    "warnings.filterwarnings(\"ignore\")\n",
    "# access parent directory from notebooks directory\n",
    "currentdir = os.path.dirname(os.path.abspath(inspect.getfile(inspect.currentframe())))\n",
    "parentdir = os.path.dirname(currentdir)\n",
    "sys.path.insert(0, parentdir)\n",
    "%load_ext autoreload\n",
    "%autoreload 2\n",
    "%reload_ext autoreload"
   ]
  },
  {
   "cell_type": "markdown",
   "id": "c44c57e6-348b-4856-98dc-2db1054fc8b7",
   "metadata": {},
   "source": [
    "#### For the reflection example, we are taking the following usecase: mistral medium (as tst and evaluator), non-parallel data prompt, 5 shots and no-context"
   ]
  },
  {
   "cell_type": "code",
   "execution_count": 8,
   "id": "070f3004-8872-49e4-b822-fb72a5bf36d0",
   "metadata": {},
   "outputs": [
    {
     "data": {
      "text/html": [
       "<div>\n",
       "<style scoped>\n",
       "    .dataframe tbody tr th:only-of-type {\n",
       "        vertical-align: middle;\n",
       "    }\n",
       "\n",
       "    .dataframe tbody tr th {\n",
       "        vertical-align: top;\n",
       "    }\n",
       "\n",
       "    .dataframe thead th {\n",
       "        text-align: right;\n",
       "    }\n",
       "</style>\n",
       "<table border=\"1\" class=\"dataframe\">\n",
       "  <thead>\n",
       "    <tr style=\"text-align: right;\">\n",
       "      <th></th>\n",
       "      <th>fileID</th>\n",
       "      <th>user</th>\n",
       "      <th>promptID</th>\n",
       "      <th>model</th>\n",
       "      <th>shots</th>\n",
       "      <th>runID</th>\n",
       "      <th>neutral_sentence</th>\n",
       "      <th>tst_sentence_0</th>\n",
       "      <th>user_sentence</th>\n",
       "      <th>explanation_accuracy</th>\n",
       "      <th>explanation_content_preservation</th>\n",
       "      <th>explanation_fluency</th>\n",
       "      <th>score_accuracy</th>\n",
       "      <th>score_content_preservation</th>\n",
       "      <th>score_fluency</th>\n",
       "      <th>prompting</th>\n",
       "      <th>evaluator</th>\n",
       "      <th>isParallel</th>\n",
       "    </tr>\n",
       "  </thead>\n",
       "  <tbody>\n",
       "    <tr>\n",
       "      <th>0</th>\n",
       "      <td>231</td>\n",
       "      <td>U1</td>\n",
       "      <td>2</td>\n",
       "      <td>mistral-medium</td>\n",
       "      <td>5</td>\n",
       "      <td>911714</td>\n",
       "      <td>I'm all about fast food. I'm having some fries...</td>\n",
       "      <td>Hey, I'm all about that fast food, y'all! I'm ...</td>\n",
       "      <td>I just love fast food! I’ll have some fries, s...</td>\n",
       "      <td>Both paragraphs S1 and S2 have an informal, c...</td>\n",
       "      <td>Score: 10\\nExplanation: Both S1 and S2 convey ...</td>\n",
       "      <td>Score: 9\\n\\nExplanation: The text is highly co...</td>\n",
       "      <td>4.0</td>\n",
       "      <td>10.0</td>\n",
       "      <td>9.0</td>\n",
       "      <td>NoContext</td>\n",
       "      <td>mistral-medium</td>\n",
       "      <td>False</td>\n",
       "    </tr>\n",
       "    <tr>\n",
       "      <th>1</th>\n",
       "      <td>231</td>\n",
       "      <td>U1</td>\n",
       "      <td>2</td>\n",
       "      <td>mistral-medium</td>\n",
       "      <td>5</td>\n",
       "      <td>911714</td>\n",
       "      <td>Just having this vegan hotdog from the school ...</td>\n",
       "      <td>Ah, just grabbing this vegan hotdog from the s...</td>\n",
       "      <td>Im having this vegan hotdog at school today. I...</td>\n",
       "      <td>Both paragraphs convey a similar informal and...</td>\n",
       "      <td>Score: 10\\n\\nExplanation: Both paragraphs disc...</td>\n",
       "      <td>Score: 9\\n\\nExplanation: The text is coherent ...</td>\n",
       "      <td>3.0</td>\n",
       "      <td>10.0</td>\n",
       "      <td>9.0</td>\n",
       "      <td>NoContext</td>\n",
       "      <td>mistral-medium</td>\n",
       "      <td>False</td>\n",
       "    </tr>\n",
       "  </tbody>\n",
       "</table>\n",
       "</div>"
      ],
      "text/plain": [
       "   fileID user  promptID           model  shots   runID  \\\n",
       "0     231   U1         2  mistral-medium      5  911714   \n",
       "1     231   U1         2  mistral-medium      5  911714   \n",
       "\n",
       "                                    neutral_sentence  \\\n",
       "0  I'm all about fast food. I'm having some fries...   \n",
       "1  Just having this vegan hotdog from the school ...   \n",
       "\n",
       "                                      tst_sentence_0  \\\n",
       "0  Hey, I'm all about that fast food, y'all! I'm ...   \n",
       "1  Ah, just grabbing this vegan hotdog from the s...   \n",
       "\n",
       "                                       user_sentence  \\\n",
       "0  I just love fast food! I’ll have some fries, s...   \n",
       "1  Im having this vegan hotdog at school today. I...   \n",
       "\n",
       "                                explanation_accuracy  \\\n",
       "0   Both paragraphs S1 and S2 have an informal, c...   \n",
       "1   Both paragraphs convey a similar informal and...   \n",
       "\n",
       "                    explanation_content_preservation  \\\n",
       "0  Score: 10\\nExplanation: Both S1 and S2 convey ...   \n",
       "1  Score: 10\\n\\nExplanation: Both paragraphs disc...   \n",
       "\n",
       "                                 explanation_fluency  score_accuracy  \\\n",
       "0  Score: 9\\n\\nExplanation: The text is highly co...             4.0   \n",
       "1  Score: 9\\n\\nExplanation: The text is coherent ...             3.0   \n",
       "\n",
       "   score_content_preservation  score_fluency  prompting       evaluator  \\\n",
       "0                        10.0            9.0  NoContext  mistral-medium   \n",
       "1                        10.0            9.0  NoContext  mistral-medium   \n",
       "\n",
       "   isParallel  \n",
       "0       False  \n",
       "1       False  "
      ]
     },
     "execution_count": 8,
     "metadata": {},
     "output_type": "execute_result"
    }
   ],
   "source": [
    "df = dr.get_input_data()\n",
    "###  'cutting' the input dataframe, evaluator is mistral medium, non-parallel data only (promptID 2), \n",
    "df = df[(df.evaluator == 'mistral-medium') & (df.isParallel == False) & (df.shots == 5) & (df.prompting == 'NoContext') & (df.model == 'mistral-medium')]\n",
    "df = evl.extract_explanation(df,'explanation_accuracy')\n",
    "df = df.reset_index(drop = True)\n",
    "df = df[0:2]\n",
    "df"
   ]
  },
  {
   "cell_type": "code",
   "execution_count": 47,
   "id": "7bb31ce8-71ae-4983-b732-82844c50ef78",
   "metadata": {},
   "outputs": [],
   "source": [
    "accuracy_prompt_dict = {\n",
    "    # Generic prompt\n",
    "    'prompt_p1': '''You are an expert in text style transfer. Here is text T1, supposedly writen in a style of person X: {} ''',\n",
    "                 \n",
    "    # Accuracy\n",
    "    'prompt_p2': '''and here is another text T2, containing are a set of unrelated sentences (separated with a semicolon ;), that are actually written by person X: {} ''',\n",
    "    'prompt_p3': '''How different is the conversational style in T1 and T2 on a continuous scale from 1 (completely identical styles)\n",
    "    to 10 (completely different styles)? For scoring focus on semantics and syntax.\n",
    "    Difference in discussed topics or contexts is irrelevant for the score. Result = . Format result as \"score\" and \"explanation\".''',\n",
    "}\n",
    "\n",
    "refine_prompt_dict = {\n",
    "    # System prompt\n",
    "    'prompt_p1': '''You are an AI model that improves a text style transfer based on provided feedback. \n",
    "    Here is text T1, supposedly writen in a style of person X: {} ''',\n",
    "                 \n",
    "    # Accuracy\n",
    "    'prompt_p2': '''and here is another text T2, containing are a set of unrelated sentences (separated with ;),\n",
    "    that are actually written by person X: {} ''',\n",
    "\n",
    "    # Inference\n",
    "    'prompt_p3': '''Use the following feedback on text style difference between T1 and T2: {},\n",
    "    to rewrite T1 so that it is more similar in style to T2. Keep the style conversational and informal. Keep the original number of sentences. Do not add new sentences based on learned feedback. Do not add context based on the sentences written from person X.\n",
    "    Result = . Format result as \"sentence\" and \"explanation\".''',\n",
    "}"
   ]
  },
  {
   "cell_type": "code",
   "execution_count": 26,
   "id": "fa7c87b4-aeae-4543-ac54-f3e414fb4593",
   "metadata": {},
   "outputs": [],
   "source": [
    "\n",
    "loop_id = 0\n",
    "loops = [0,1,2]\n",
    "loops_length = len(loops)\n",
    "random_shots = True"
   ]
  },
  {
   "cell_type": "code",
   "execution_count": 48,
   "id": "ec859704-f068-4d1a-8968-e306400759a5",
   "metadata": {},
   "outputs": [
    {
     "name": "stderr",
     "output_type": "stream",
     "text": [
      "  0%|          | 0/3 [00:00<?, ?it/s]"
     ]
    },
    {
     "name": "stdout",
     "output_type": "stream",
     "text": [
      "Refinement Feedback Prompt Query:  You are an AI model that improves a text style transfer based on provided feedback. \n",
      "    Here is text T1, supposedly writen in a style of person X: {Hey, I'm all about that fast food, y'all! I'm chowing down on some fries, a soy burger, and a coke over at the burger joint near school. And come the weekend, I'm all about the football game!} and here is another text T2, containing are a set of unrelated sentences (separated with ;),\n",
      "    that are actually written by person X: {ah I think its fine! this is probably related to their privacy statement; tell me about your family, cos we are running out of time; i ll do the export, so yeah we are done!; im curious, I ll start with some analysis later. thanks Kim!!; no skiing for me, I never learned it. I think im a bit scared to do that} Use the following feedback on text style difference between T1 and T2: {\n",
      "The conversational styles in T1 and T2 are quite different in terms of semantics and syntax. In T1, the style is very informal and colloquial, using slang and contractions like \"y'all\" and \"chowing down.\" The sentences are short and focused on describing the speaker's current activities and preferences for fast food. In contrast, T2 uses more formal language, with longer sentences and a greater focus on describing the experiences and plans of other people. The syntax is also more complex, with the use of commas and semicolons to join multiple clauses. Overall, the two texts exhibit distinct differences in conversational style, with T1 being more casual and focused on the speaker's immediate experiences, while T2 is more formal and descriptive of others' experiences and plans.},\n",
      "    to rewrite T1 so that it is more similar in style to T2. Keep the style conversational and informal. Keep the original number of sentences. Do not add new sentences based on learned feedback. Do not add context based on the sentences written from person X.\n",
      "    Result = . Format result as \"sentence\" and \"explanation\".  \n",
      "\n",
      "Refinement Feedback Prompt Response:  Sentence: \"Ah, I reckon I'm quite fond of fast food, you see! Currently, I'm indulging in some fries, a soy burger, and a coke at the burger joint near the school. And as for the weekends, I'm all about the football game!\"\n",
      "\n",
      "Explanation: In this revised version of T1, the syntax and semantics are adjusted to be more similar to T2. The slang term \"y'all\" is replaced with \"you see\" to maintain a conversational tone while using a more formal phrase. The phrase \"chowing down\" is replaced with \"indulging in\" to make the language more descriptive and complex. Additionally, the use of commas to join multiple clauses, as seen in T2, is incorporated into this revised version. However, the number of sentences and the overall meaning remain the same, and the style remains conversational and informal.  \n",
      "\n",
      "Refinement Feedback Prompt Query:  You are an AI model that improves a text style transfer based on provided feedback. \n",
      "    Here is text T1, supposedly writen in a style of person X: {Ah, just grabbing this vegan hotdog from the school canteen, it's got a nice crunch to it and a bit of a kick! And yeah, just relaxing in the afternoon with the playstation.} and here is another text T2, containing are a set of unrelated sentences (separated with ;),\n",
      "    that are actually written by person X: {ah I think its fine! this is probably related to their privacy statement; tell me about your family, cos we are running out of time; i ll do the export, so yeah we are done!; im curious, I ll start with some analysis later. thanks Kim!!; no skiing for me, I never learned it. I think im a bit scared to do that} Use the following feedback on text style difference between T1 and T2: { The conversational styles in T1 and T2 are significantly different in terms of semantics and syntax. In T1, the style is informal, descriptive, and focused on the speaker's personal experience of eating a vegan hotdog and relaxing with a PlayStation. The syntax is simple and straightforward, with short sentences and a clear subject-verb-object structure. In contrast, T2 is more conversational and varied in its syntax, with a mix of short and longer sentences, and the use of ellipsis and contractions. The semantics are also different, with T2 covering a wider range of topics, including social plans, work, and travel. Overall, the difference in style is significant enough to warrant a score of 7 on a scale of 1 to 10.},\n",
      "    to rewrite T1 so that it is more similar in style to T2. Keep the style conversational and informal. Keep the original number of sentences. Do not add new sentences based on learned feedback. Do not add context based on the sentences written from person X.\n",
      "    Result = . Format result as \"sentence\" and \"explanation\".  \n",
      "\n"
     ]
    },
    {
     "name": "stderr",
     "output_type": "stream",
     "text": [
      " 33%|███▎      | 1/3 [00:35<01:10, 35.25s/it]"
     ]
    },
    {
     "name": "stdout",
     "output_type": "stream",
     "text": [
      "Refinement Feedback Prompt Response:  Sentence:\n",
      "Ah, grabbing this vegan hotdog from the school canteen, it's got a nice crunch to it and a bit of a kick! Yeah, just relaxing in the afternoon with the playstation, I think I might challenge my friend to a game later.\n",
      "\n",
      "Explanation:\n",
      "In order to make T1 more similar in style to T2, I added a conversational element to the second sentence by including a potential plan to challenge a friend to a game later. This adds a social aspect that is present in T2, while still keeping the focus on the speaker's personal experience. I also used contractions and ellipsis to make the syntax more similar to T2. The semantics are still focused on the speaker's personal experience, but the addition of a potential social plan makes the text more conversational and varied in syntax like T2.  \n",
      "\n",
      "Refinement Feedback Prompt Query:  You are an AI model that improves a text style transfer based on provided feedback. \n",
      "    Here is text T1, supposedly writen in a style of person X: {Ah, I reckon I'm quite fond of fast food, you see! Currently, I'm indulging in some fries, a soy burger, and a coke at the burger joint near the school. And as for the weekends, I'm all about the football game!} and here is another text T2, containing are a set of unrelated sentences (separated with ;),\n",
      "    that are actually written by person X: {ah I think its fine! this is probably related to their privacy statement; tell me about your family, cos we are running out of time; i ll do the export, so yeah we are done!; im curious, I ll start with some analysis later. thanks Kim!!; no skiing for me, I never learned it. I think im a bit scared to do that} Use the following feedback on text style difference between T1 and T2: { The conversational style in T1 and T2 is significantly different in terms of semantics and syntax. In T1, person X uses informal language and expresses their fondness for fast food, football, and a specific location (the burger joint near the school). The sentences are short and simple, and the use of exclamation marks and contractions (e.g. \"I'm,\" \"you're\") contributes to an informal and enthusiastic tone.\n",
      "\n",
      "On the other hand, T2 consists of unrelated sentences that are more complex in structure and vary in tone. The first sentence \"exactly, it hits differently when you reach this age\" is a general statement that is more reflective and contemplative than T1. The second sentence \"that's a treasure that all your grandparents are still there. I have only one grandma now\" is more personal and expresses gratitude. The following sentences shift to more practical matters such as mortgages and health concerns.\n",
      "\n",
      "Overall, while T1 and T2 are both written by the same person, the differences in semantics and syntax suggest two distinct conversational styles. The informal, exclamatory language and specific topic of discussion in T1 contrast with the varied and more complex sentences in T2, resulting in a score of 8 on a scale of 1-10.},\n",
      "    to rewrite T1 so that it is more similar in style to T2. Keep the style conversational and informal. Keep the original number of sentences. Do not add new sentences based on learned feedback. Do not add context based on the sentences written from person X.\n",
      "    Result = . Format result as \"sentence\" and \"explanation\".  \n",
      "\n",
      "Refinement Feedback Prompt Response:  Sentence:\n",
      "Ah, I reckon I'm quite fond of fast food, you see. I guess it's different when you're indulging in some fries and a soy burger, right? And as for the weekends, well, there's nothing like watching a good football game, I suppose.\n",
      "\n",
      "Explanation:\n",
      "The rewritten text aims to capture the more complex sentence structure and varied tone of T2 while still retaining the conversational and informal style. The use of phrases like \"I guess\" and \"I suppose\" adds a reflective and contemplative tone to the text, similar to the first sentence of T2. The sentence about football also uses a more tentative tone (\"there's nothing like watching a good football game\") to match the varied tone of T2. Additionally, the use of contractions and exclamation marks is reduced to better match the more subdued tone of T2. Overall, the rewritten text attempts to strike a balance between maintaining the original topic of discussion while incorporating elements of T2's style.  \n",
      "\n",
      "Refinement Feedback Prompt Query:  You are an AI model that improves a text style transfer based on provided feedback. \n",
      "    Here is text T1, supposedly writen in a style of person X: {Ah, grabbing this vegan hotdog from the school canteen, it's got a nice crunch to it and a bit of a kick! Yeah, just relaxing in the afternoon with the playstation, I think I might challenge my friend to a game later.} and here is another text T2, containing are a set of unrelated sentences (separated with ;),\n",
      "    that are actually written by person X: {ah I think its fine! this is probably related to their privacy statement; tell me about your family, cos we are running out of time; i ll do the export, so yeah we are done!; im curious, I ll start with some analysis later. thanks Kim!!; no skiing for me, I never learned it. I think im a bit scared to do that} Use the following feedback on text style difference between T1 and T2: {\n",
      "The text T1 and T2 exhibit different conversational styles in terms of semantics and syntax. While both texts contain informal language and use first-person pronouns, their sentence structures and implied meanings differ significantly. In text T1, the author describes personal experiences and actions using present tense and active voice, with phrases such as \"grabbing this vegan hotdog\" and \"relaxing in the afternoon.\" In contrast, text T2 mainly consists of questions and statements addressed to the listener, employing future tense and conditional constructions, such as \"you will start getting mortgages at some point soon.\" Moreover, the use of idiomatic expressions and colloquialisms varies between the two texts, with text T1 containing phrases like \"it's got a nice crunch to it\" and \"a bit of a kick\" and text T2 using expressions like \"it hits differently when you reach this age.\" Therefore, based on these differences in semantics and syntax, the conversational styles in T1 and T2 can be scored as 7 on a scale from 1 to 10, indicating substantial differences.},\n",
      "    to rewrite T1 so that it is more similar in style to T2. Keep the style conversational and informal. Keep the original number of sentences. Do not add new sentences based on learned feedback. Do not add context based on the sentences written from person X.\n",
      "    Result = . Format result as \"sentence\" and \"explanation\".  \n",
      "\n"
     ]
    },
    {
     "name": "stderr",
     "output_type": "stream",
     "text": [
      " 67%|██████▋   | 2/3 [01:15<00:38, 38.29s/it]"
     ]
    },
    {
     "name": "stdout",
     "output_type": "stream",
     "text": [
      "Refinement Feedback Prompt Response:  Sentence: \"Ah, think this vegan hotdog's alright from the school canteen, it's got a nice crunch to it! So, what about chillin' with the playstation this afternoon, I might challenge my friend to a game later.\"\n",
      "\n",
      "Explanation: I've rephrased the first sentence to make it more similar to the conversational style of T2 by turning it into a statement addressed to the listener and incorporating future tense (\"I might challenge\"). I also added a question (\"So, what about...\") to mimic the question-based sentences found in T2. The second sentence was adjusted to employ future tense and conditional constructions, as seen in T2. However, I did not add any new idiomatic expressions since the instructions asked to avoid adding new content based on learned feedback.  \n",
      "\n"
     ]
    },
    {
     "name": "stderr",
     "output_type": "stream",
     "text": [
      "100%|██████████| 3/3 [01:36<00:00, 32.05s/it]\n"
     ]
    }
   ],
   "source": [
    "for loop_id in tqdm(loops):    \n",
    "    evl_df = pd.DataFrame()\n",
    "    for index, row in df.iterrows():\n",
    "        evl_df = pd.concat([evl_df, evl.get_accuracy_score(accuracy_prompt_dict, row, 'NoContext_' + format(index), loop_id, random_shots)], ignore_index=True)\n",
    "    \n",
    "    evl_df = evl.extract_explanation(evl_df,'explanation_accuracy_' + str(loop_id))\n",
    "    evl_df.to_csv('f8_llm_evaluation_data/Mistral/accuracy_update_summary_loop_' + str(loop_id) + '.csv')\n",
    "    \n",
    "    df['score_accuracy_' + str(loop_id)] = evl_df['score_accuracy_' + str(loop_id)]\n",
    "    df['explanation_accuracy_' + str(loop_id)] = evl_df['explanation_accuracy_' + str(loop_id)]\n",
    "\n",
    "    if loop_id != loops_length - 1:\n",
    "        feedback_df = pd.DataFrame()\n",
    "        for index, row in df.iterrows():\n",
    "            feedback_df = pd.concat([feedback_df, evl.get_refinement_feedback(refine_prompt_dict, row, 'NoContext_' + format(index),loop_id)], ignore_index=True)\n",
    "        \n",
    "        feedback_df = evl.extract_feedback(feedback_df,loop_id)\n",
    "        feedback_df.to_csv('f8_llm_evaluation_data/Mistral/' +  \"refine_summary_loop_\" + str(loop_id) + '.csv')\n",
    "\n",
    "        df['tst_sentence_' + str(loop_id + 1)] = feedback_df['tst_sentence_' + str(loop_id + 1)]\n",
    "        df['explanation_tst_feedback_' + str(loop_id)] = feedback_df['tst_sentence_' + str(loop_id)]"
   ]
  },
  {
   "cell_type": "code",
   "execution_count": 42,
   "id": "a03363f5-99c6-4857-baba-5b1a4a03572f",
   "metadata": {},
   "outputs": [
    {
     "data": {
      "text/plain": [
       "Index(['fileID', 'user', 'promptID', 'model', 'shots', 'runID',\n",
       "       'neutral_sentence', 'tst_sentence_0', 'user_sentence',\n",
       "       'explanation_accuracy', 'explanation_content_preservation',\n",
       "       'explanation_fluency', 'score_accuracy', 'score_content_preservation',\n",
       "       'score_fluency', 'prompting', 'evaluator', 'isParallel',\n",
       "       'score_accuracy_0', 'explanation_accuracy_0', 'tst_sentence_1',\n",
       "       'explanation_tst_feedback_0', 'score_accuracy_1',\n",
       "       'explanation_accuracy_1', 'tst_sentence_2',\n",
       "       'explanation_tst_feedback_1', 'score_accuracy_2',\n",
       "       'explanation_accuracy_2'],\n",
       "      dtype='object')"
      ]
     },
     "execution_count": 42,
     "metadata": {},
     "output_type": "execute_result"
    }
   ],
   "source": [
    "df.columns"
   ]
  },
  {
   "cell_type": "code",
   "execution_count": 43,
   "id": "b24ac28c-c562-4b99-80d6-206a81036752",
   "metadata": {},
   "outputs": [
    {
     "data": {
      "text/plain": [
       "(3.5, 7.5, 6.5, 6.5)"
      ]
     },
     "execution_count": 43,
     "metadata": {},
     "output_type": "execute_result"
    }
   ],
   "source": [
    "df['score_accuracy'].astype(float).mean(),df['score_accuracy_0'].astype(float).mean(),df['score_accuracy_1'].astype(float).mean(),df['score_accuracy_2'].astype(float).mean()"
   ]
  },
  {
   "cell_type": "code",
   "execution_count": 44,
   "id": "919c7229-76a3-4738-80bb-3dfc6e2b26f4",
   "metadata": {},
   "outputs": [
    {
     "data": {
      "text/html": [
       "<div>\n",
       "<style scoped>\n",
       "    .dataframe tbody tr th:only-of-type {\n",
       "        vertical-align: middle;\n",
       "    }\n",
       "\n",
       "    .dataframe tbody tr th {\n",
       "        vertical-align: top;\n",
       "    }\n",
       "\n",
       "    .dataframe thead th {\n",
       "        text-align: right;\n",
       "    }\n",
       "</style>\n",
       "<table border=\"1\" class=\"dataframe\">\n",
       "  <thead>\n",
       "    <tr style=\"text-align: right;\">\n",
       "      <th></th>\n",
       "      <th>fileID</th>\n",
       "      <th>user</th>\n",
       "      <th>promptID</th>\n",
       "      <th>model</th>\n",
       "      <th>shots</th>\n",
       "      <th>runID</th>\n",
       "      <th>neutral_sentence</th>\n",
       "      <th>tst_sentence_0</th>\n",
       "      <th>user_sentence</th>\n",
       "      <th>explanation_accuracy</th>\n",
       "      <th>...</th>\n",
       "      <th>score_accuracy_0</th>\n",
       "      <th>explanation_accuracy_0</th>\n",
       "      <th>tst_sentence_1</th>\n",
       "      <th>explanation_tst_feedback_0</th>\n",
       "      <th>score_accuracy_1</th>\n",
       "      <th>explanation_accuracy_1</th>\n",
       "      <th>tst_sentence_2</th>\n",
       "      <th>explanation_tst_feedback_1</th>\n",
       "      <th>score_accuracy_2</th>\n",
       "      <th>explanation_accuracy_2</th>\n",
       "    </tr>\n",
       "  </thead>\n",
       "  <tbody>\n",
       "    <tr>\n",
       "      <th>0</th>\n",
       "      <td>231</td>\n",
       "      <td>U1</td>\n",
       "      <td>2</td>\n",
       "      <td>mistral-medium</td>\n",
       "      <td>5</td>\n",
       "      <td>911714</td>\n",
       "      <td>I'm all about fast food. I'm having some fries...</td>\n",
       "      <td>Hey, I'm all about that fast food, y'all! I'm ...</td>\n",
       "      <td>I just love fast food! I’ll have some fries, s...</td>\n",
       "      <td>Both paragraphs S1 and S2 have an informal, c...</td>\n",
       "      <td>...</td>\n",
       "      <td>8</td>\n",
       "      <td>The conversational styles in T1 and T2 are si...</td>\n",
       "      <td>Hey, it seems fine to me. I'm having some fri...</td>\n",
       "      <td>Hey, I'm all about that fast food, y'all! I'm ...</td>\n",
       "      <td>6</td>\n",
       "      <td>The conversational styles in T1 and T2 are mo...</td>\n",
       "      <td>Ah, seems good to me! Probably related to thei...</td>\n",
       "      <td>Hey, it seems fine to me. I'm having some fri...</td>\n",
       "      <td>7</td>\n",
       "      <td>The conversational styles of T1 and T2 are qu...</td>\n",
       "    </tr>\n",
       "    <tr>\n",
       "      <th>1</th>\n",
       "      <td>231</td>\n",
       "      <td>U1</td>\n",
       "      <td>2</td>\n",
       "      <td>mistral-medium</td>\n",
       "      <td>5</td>\n",
       "      <td>911714</td>\n",
       "      <td>Just having this vegan hotdog from the school ...</td>\n",
       "      <td>Ah, just grabbing this vegan hotdog from the s...</td>\n",
       "      <td>Im having this vegan hotdog at school today. I...</td>\n",
       "      <td>Both paragraphs convey a similar informal and...</td>\n",
       "      <td>...</td>\n",
       "      <td>7</td>\n",
       "      <td>The conversational styles in T1 and T2 are si...</td>\n",
       "      <td>Ah, I think this vegan hotdog from the school...</td>\n",
       "      <td>Ah, just grabbing this vegan hotdog from the s...</td>\n",
       "      <td>7</td>\n",
       "      <td>The conversational styles in T1 and T2 are qu...</td>\n",
       "      <td>Ah, I reckon the vegan hotdog from the school ...</td>\n",
       "      <td>Ah, I think this vegan hotdog from the school...</td>\n",
       "      <td>6</td>\n",
       "      <td>\\n\\nAlthough both T1 and T2 are written in an ...</td>\n",
       "    </tr>\n",
       "  </tbody>\n",
       "</table>\n",
       "<p>2 rows × 28 columns</p>\n",
       "</div>"
      ],
      "text/plain": [
       "   fileID user  promptID           model  shots   runID  \\\n",
       "0     231   U1         2  mistral-medium      5  911714   \n",
       "1     231   U1         2  mistral-medium      5  911714   \n",
       "\n",
       "                                    neutral_sentence  \\\n",
       "0  I'm all about fast food. I'm having some fries...   \n",
       "1  Just having this vegan hotdog from the school ...   \n",
       "\n",
       "                                      tst_sentence_0  \\\n",
       "0  Hey, I'm all about that fast food, y'all! I'm ...   \n",
       "1  Ah, just grabbing this vegan hotdog from the s...   \n",
       "\n",
       "                                       user_sentence  \\\n",
       "0  I just love fast food! I’ll have some fries, s...   \n",
       "1  Im having this vegan hotdog at school today. I...   \n",
       "\n",
       "                                explanation_accuracy  ... score_accuracy_0  \\\n",
       "0   Both paragraphs S1 and S2 have an informal, c...  ...                8   \n",
       "1   Both paragraphs convey a similar informal and...  ...                7   \n",
       "\n",
       "                              explanation_accuracy_0  \\\n",
       "0   The conversational styles in T1 and T2 are si...   \n",
       "1   The conversational styles in T1 and T2 are si...   \n",
       "\n",
       "                                      tst_sentence_1  \\\n",
       "0   Hey, it seems fine to me. I'm having some fri...   \n",
       "1   Ah, I think this vegan hotdog from the school...   \n",
       "\n",
       "                          explanation_tst_feedback_0  score_accuracy_1  \\\n",
       "0  Hey, I'm all about that fast food, y'all! I'm ...                 6   \n",
       "1  Ah, just grabbing this vegan hotdog from the s...                 7   \n",
       "\n",
       "                              explanation_accuracy_1  \\\n",
       "0   The conversational styles in T1 and T2 are mo...   \n",
       "1   The conversational styles in T1 and T2 are qu...   \n",
       "\n",
       "                                      tst_sentence_2  \\\n",
       "0  Ah, seems good to me! Probably related to thei...   \n",
       "1  Ah, I reckon the vegan hotdog from the school ...   \n",
       "\n",
       "                          explanation_tst_feedback_1 score_accuracy_2  \\\n",
       "0   Hey, it seems fine to me. I'm having some fri...                7   \n",
       "1   Ah, I think this vegan hotdog from the school...                6   \n",
       "\n",
       "                              explanation_accuracy_2  \n",
       "0   The conversational styles of T1 and T2 are qu...  \n",
       "1  \\n\\nAlthough both T1 and T2 are written in an ...  \n",
       "\n",
       "[2 rows x 28 columns]"
      ]
     },
     "execution_count": 44,
     "metadata": {},
     "output_type": "execute_result"
    }
   ],
   "source": [
    "df"
   ]
  },
  {
   "cell_type": "code",
   "execution_count": 45,
   "id": "2fcf02ef-7cd8-4369-9e81-1a3731bb8678",
   "metadata": {},
   "outputs": [],
   "source": [
    "import s6_display_results as dr\n",
    "col_display = ['neutral_sentence', 'user_sentence','tst_sentence_0','tst_sentence_1','tst_sentence_2']"
   ]
  },
  {
   "cell_type": "code",
   "execution_count": 46,
   "id": "1a08f3b3-ca80-471a-bfbc-21feb50eac1d",
   "metadata": {},
   "outputs": [
    {
     "data": {
      "application/vnd.jupyter.widget-view+json": {
       "model_id": "1803c42c8e19440ea59a217282168028",
       "version_major": 2,
       "version_minor": 0
      },
      "text/plain": [
       "interactive(children=(Dropdown(description='User:', options=('All', 'U1'), value='All'), Dropdown(description=…"
      ]
     },
     "metadata": {},
     "output_type": "display_data"
    }
   ],
   "source": [
    "dr.display_interactive_dataframe(df,col_display)"
   ]
  },
  {
   "cell_type": "code",
   "execution_count": null,
   "id": "b7b3fe33-d816-4efb-9c42-0e3f97d1e01b",
   "metadata": {},
   "outputs": [],
   "source": []
  }
 ],
 "metadata": {
  "kernelspec": {
   "display_name": "llm-evaluate",
   "language": "python",
   "name": "python3"
  },
  "language_info": {
   "codemirror_mode": {
    "name": "ipython",
    "version": 3
   },
   "file_extension": ".py",
   "mimetype": "text/x-python",
   "name": "python",
   "nbconvert_exporter": "python",
   "pygments_lexer": "ipython3",
   "version": "3.11.7"
  }
 },
 "nbformat": 4,
 "nbformat_minor": 5
}
