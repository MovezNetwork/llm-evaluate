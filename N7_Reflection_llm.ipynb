{
 "cells": [
  {
   "cell_type": "code",
   "execution_count": 92,
   "id": "4967e338-26e7-4be2-a4fe-eefa19cad483",
   "metadata": {},
   "outputs": [
    {
     "name": "stdout",
     "output_type": "stream",
     "text": [
      "The autoreload extension is already loaded. To reload it, use:\n",
      "  %reload_ext autoreload\n"
     ]
    }
   ],
   "source": [
    "import pandas as pd\n",
    "import sys\n",
    "import os\n",
    "import inspect\n",
    "import s5_postprocess_evaluation as pe\n",
    "import configparser\n",
    "import s6_display_results as dr\n",
    "import s4_evaluation as evl\n",
    "import warnings\n",
    "# Ignore all warnings\n",
    "warnings.filterwarnings(\"ignore\")\n",
    "# access parent directory from notebooks directory\n",
    "currentdir = os.path.dirname(os.path.abspath(inspect.getfile(inspect.currentframe())))\n",
    "parentdir = os.path.dirname(currentdir)\n",
    "sys.path.insert(0, parentdir)\n",
    "%load_ext autoreload\n",
    "%autoreload 2\n",
    "%reload_ext autoreload"
   ]
  },
  {
   "cell_type": "markdown",
   "id": "c44c57e6-348b-4856-98dc-2db1054fc8b7",
   "metadata": {},
   "source": [
    "#### For the reflection example, we are taking the following usecase: mistral medium (as tst and evaluator), non-parallel data prompt, 5 shots and no-context"
   ]
  },
  {
   "cell_type": "code",
   "execution_count": 93,
   "id": "070f3004-8872-49e4-b822-fb72a5bf36d0",
   "metadata": {},
   "outputs": [
    {
     "data": {
      "text/html": [
       "<div>\n",
       "<style scoped>\n",
       "    .dataframe tbody tr th:only-of-type {\n",
       "        vertical-align: middle;\n",
       "    }\n",
       "\n",
       "    .dataframe tbody tr th {\n",
       "        vertical-align: top;\n",
       "    }\n",
       "\n",
       "    .dataframe thead th {\n",
       "        text-align: right;\n",
       "    }\n",
       "</style>\n",
       "<table border=\"1\" class=\"dataframe\">\n",
       "  <thead>\n",
       "    <tr style=\"text-align: right;\">\n",
       "      <th></th>\n",
       "      <th>fileID</th>\n",
       "      <th>user</th>\n",
       "      <th>promptID</th>\n",
       "      <th>model</th>\n",
       "      <th>shots</th>\n",
       "      <th>runID</th>\n",
       "      <th>neutral_sentence</th>\n",
       "      <th>tst_sentence_0</th>\n",
       "      <th>user_sentence</th>\n",
       "      <th>explanation_accuracy</th>\n",
       "      <th>explanation_content_preservation</th>\n",
       "      <th>explanation_fluency</th>\n",
       "      <th>score_accuracy</th>\n",
       "      <th>score_content_preservation</th>\n",
       "      <th>score_fluency</th>\n",
       "      <th>prompting</th>\n",
       "      <th>evaluator</th>\n",
       "      <th>isParallel</th>\n",
       "    </tr>\n",
       "  </thead>\n",
       "  <tbody>\n",
       "    <tr>\n",
       "      <th>4</th>\n",
       "      <td>231</td>\n",
       "      <td>U1</td>\n",
       "      <td>2</td>\n",
       "      <td>mistral-medium</td>\n",
       "      <td>5</td>\n",
       "      <td>911714</td>\n",
       "      <td>I'm all about fast food. I'm having some fries...</td>\n",
       "      <td>Hey, I'm all about that fast food, y'all! I'm ...</td>\n",
       "      <td>I just love fast food! I’ll have some fries, s...</td>\n",
       "      <td>Both paragraphs S1 and S2 have an informal, c...</td>\n",
       "      <td>Score: 10\\nExplanation: Both S1 and S2 convey ...</td>\n",
       "      <td>Score: 9\\n\\nExplanation: The text is highly co...</td>\n",
       "      <td>4.0</td>\n",
       "      <td>10.0</td>\n",
       "      <td>9.0</td>\n",
       "      <td>NoContext</td>\n",
       "      <td>mistral-medium</td>\n",
       "      <td>False</td>\n",
       "    </tr>\n",
       "    <tr>\n",
       "      <th>24</th>\n",
       "      <td>231</td>\n",
       "      <td>U1</td>\n",
       "      <td>2</td>\n",
       "      <td>mistral-medium</td>\n",
       "      <td>5</td>\n",
       "      <td>911714</td>\n",
       "      <td>Just having this vegan hotdog from the school ...</td>\n",
       "      <td>Ah, just grabbing this vegan hotdog from the s...</td>\n",
       "      <td>Im having this vegan hotdog at school today. I...</td>\n",
       "      <td>Both paragraphs convey a similar informal and...</td>\n",
       "      <td>Score: 10\\n\\nExplanation: Both paragraphs disc...</td>\n",
       "      <td>Score: 9\\n\\nExplanation: The text is coherent ...</td>\n",
       "      <td>3.0</td>\n",
       "      <td>10.0</td>\n",
       "      <td>9.0</td>\n",
       "      <td>NoContext</td>\n",
       "      <td>mistral-medium</td>\n",
       "      <td>False</td>\n",
       "    </tr>\n",
       "    <tr>\n",
       "      <th>118</th>\n",
       "      <td>202</td>\n",
       "      <td>U6</td>\n",
       "      <td>2</td>\n",
       "      <td>mistral-medium</td>\n",
       "      <td>5</td>\n",
       "      <td>209327</td>\n",
       "      <td>I went to the \"Groene Burger\" fast food restau...</td>\n",
       "      <td>So, I just popped by the 'Groene Burger' fast ...</td>\n",
       "      <td>I went to the “Groene Burger” fast food joint....</td>\n",
       "      <td>Paragraph S1 has a more casual, conversationa...</td>\n",
       "      <td>Score: 10\\n\\nExplanation: Both S1 and S2 conve...</td>\n",
       "      <td>Score: 10\\nExplanation: The text is highly coh...</td>\n",
       "      <td>8.0</td>\n",
       "      <td>10.0</td>\n",
       "      <td>10.0</td>\n",
       "      <td>NoContext</td>\n",
       "      <td>mistral-medium</td>\n",
       "      <td>False</td>\n",
       "    </tr>\n",
       "  </tbody>\n",
       "</table>\n",
       "</div>"
      ],
      "text/plain": [
       "     fileID user  promptID           model  shots   runID  \\\n",
       "4       231   U1         2  mistral-medium      5  911714   \n",
       "24      231   U1         2  mistral-medium      5  911714   \n",
       "118     202   U6         2  mistral-medium      5  209327   \n",
       "\n",
       "                                      neutral_sentence  \\\n",
       "4    I'm all about fast food. I'm having some fries...   \n",
       "24   Just having this vegan hotdog from the school ...   \n",
       "118  I went to the \"Groene Burger\" fast food restau...   \n",
       "\n",
       "                                        tst_sentence_0  \\\n",
       "4    Hey, I'm all about that fast food, y'all! I'm ...   \n",
       "24   Ah, just grabbing this vegan hotdog from the s...   \n",
       "118  So, I just popped by the 'Groene Burger' fast ...   \n",
       "\n",
       "                                         user_sentence  \\\n",
       "4    I just love fast food! I’ll have some fries, s...   \n",
       "24   Im having this vegan hotdog at school today. I...   \n",
       "118  I went to the “Groene Burger” fast food joint....   \n",
       "\n",
       "                                  explanation_accuracy  \\\n",
       "4     Both paragraphs S1 and S2 have an informal, c...   \n",
       "24    Both paragraphs convey a similar informal and...   \n",
       "118   Paragraph S1 has a more casual, conversationa...   \n",
       "\n",
       "                      explanation_content_preservation  \\\n",
       "4    Score: 10\\nExplanation: Both S1 and S2 convey ...   \n",
       "24   Score: 10\\n\\nExplanation: Both paragraphs disc...   \n",
       "118  Score: 10\\n\\nExplanation: Both S1 and S2 conve...   \n",
       "\n",
       "                                   explanation_fluency  score_accuracy  \\\n",
       "4    Score: 9\\n\\nExplanation: The text is highly co...             4.0   \n",
       "24   Score: 9\\n\\nExplanation: The text is coherent ...             3.0   \n",
       "118  Score: 10\\nExplanation: The text is highly coh...             8.0   \n",
       "\n",
       "     score_content_preservation  score_fluency  prompting       evaluator  \\\n",
       "4                          10.0            9.0  NoContext  mistral-medium   \n",
       "24                         10.0            9.0  NoContext  mistral-medium   \n",
       "118                        10.0           10.0  NoContext  mistral-medium   \n",
       "\n",
       "     isParallel  \n",
       "4         False  \n",
       "24        False  \n",
       "118       False  "
      ]
     },
     "execution_count": 93,
     "metadata": {},
     "output_type": "execute_result"
    }
   ],
   "source": [
    "df = dr.get_input_data()\n",
    "###  'cutting' the input dataframe, evaluator is mistral medium, non-parallel data only (promptID 2), \n",
    "df = df[(df.evaluator == 'mistral-medium') & (df.isParallel == False) & (df.shots == 5) & (df.prompting == 'NoContext') & (df.model == 'mistral-medium')]\n",
    "df = evl.extract_explanation(df,'explanation_accuracy')\n",
    "df.head(3)"
   ]
  },
  {
   "cell_type": "code",
   "execution_count": 94,
   "id": "fa7c87b4-aeae-4543-ac54-f3e414fb4593",
   "metadata": {},
   "outputs": [],
   "source": [
    "prompts_dict_new_accuracy = {\n",
    "    # Generic prompt\n",
    "    'prompt_p1': 'You are an expert in text style transfer. Here is text T1, supposedly writen in a style of person X: {} ',\n",
    "                 \n",
    "    # Accuracy\n",
    "    'prompt_p2': 'and here is another text T2, containing are a set of unrelated sentences (separated with ;), that are actually written by person X: {} ',\n",
    "    'prompt_p3': 'How different is the conversational style in T1 and T2 on a continuous scale from 1 (completely identical styles) to 10 (completely different styles)? For scoring focus on semantics and syntax. Difference in discussed topics or contexts is irrelevant for the score. Result = . Format result as \"score\" and \"explanation\".',\n",
    "}"
   ]
  },
  {
   "cell_type": "code",
   "execution_count": 72,
   "id": "e4cc8daa-a94a-4ed6-9044-6374d53131fa",
   "metadata": {},
   "outputs": [],
   "source": [
    "## GET UPDATED ACCURACIES - MISTRAL CALLS\n",
    "# evl_df = pd.DataFrame()\n",
    "# for index, row in df.iterrows():\n",
    "#     evl_df = pd.concat([evl_df, evl.get_accuracy_score(prompts_dict_new_accuracy, row, 'NoContext_' + format(index), 0)], ignore_index=True)\n",
    "# evl_df.to_csv('f8_llm_evaluation_data/Mistral/0_loop_updated_accuracy_evaluation_summary.csv')"
   ]
  },
  {
   "cell_type": "code",
   "execution_count": 96,
   "id": "059c37e7-b8a5-45c4-a471-ed900fcfc7bd",
   "metadata": {},
   "outputs": [],
   "source": [
    "evl_df = pd.read_csv('f8_llm_evaluation_data/Mistral/0_updated_accuracy_evaluation_summary.csv')\n",
    "evl_df = evl.extract_explanation(evl_df,'explanation_accuracy')\n",
    "df['score_accuracy_0'] = evl_df['score_accuracy_0']\n",
    "df['explanation_accuracy_0'] = evl_df['explanation_accuracy_0']"
   ]
  },
  {
   "cell_type": "code",
   "execution_count": 97,
   "id": "b24ac28c-c562-4b99-80d6-206a81036752",
   "metadata": {},
   "outputs": [
    {
     "data": {
      "text/plain": [
       "(4.895833333333333, 7.0)"
      ]
     },
     "execution_count": 97,
     "metadata": {},
     "output_type": "execute_result"
    }
   ],
   "source": [
    "df['score_accuracy'].astype(float).mean(),df['t0_score_accuracy'].astype(float).mean()"
   ]
  },
  {
   "cell_type": "code",
   "execution_count": 98,
   "id": "a2f9d62b-38ef-4838-b800-2666f0205569",
   "metadata": {},
   "outputs": [
    {
     "data": {
      "text/plain": [
       "((96, 20),\n",
       " Index(['fileID', 'user', 'promptID', 'model', 'shots', 'runID',\n",
       "        'neutral_sentence', 'tst_sentence_0', 'user_sentence',\n",
       "        'explanation_accuracy', 'explanation_content_preservation',\n",
       "        'explanation_fluency', 'score_accuracy', 'score_content_preservation',\n",
       "        'score_fluency', 'prompting', 'evaluator', 'isParallel',\n",
       "        't0_score_accuracy', 't0_explanation_accuracy'],\n",
       "       dtype='object'))"
      ]
     },
     "execution_count": 98,
     "metadata": {},
     "output_type": "execute_result"
    }
   ],
   "source": [
    "df.shape,df.columns"
   ]
  },
  {
   "cell_type": "markdown",
   "id": "69429eda-3166-4e3b-82ca-a0e8d75829c4",
   "metadata": {},
   "source": [
    "### Refining t0_score_accuracy "
   ]
  },
  {
   "cell_type": "code",
   "execution_count": 88,
   "id": "359cb94e-2bde-43c3-aeb9-e21bd7faaf65",
   "metadata": {},
   "outputs": [],
   "source": [
    "refine_prompt_dict = {\n",
    "    # System prompt\n",
    "    'prompt_p1': '''You are an AI model that improves a text style transfer based on provided feedback. \n",
    "    Here is text T1, supposedly writen in a style of person X: {} ''',\n",
    "                 \n",
    "    # Accuracy\n",
    "    'prompt_p2': '''and here is another text T2, containing are a set of unrelated sentences (separated with ;),\n",
    "    that are actually written by person X: {} ''',\n",
    "\n",
    "    # Inference\n",
    "    'prompt_p3': '''Use the following feedback on text style difference between T1 and T2: {},\n",
    "    to rewrite T1 so that it is more similar in style to T2. Keep the style conversational and informal.\n",
    "    Result = . Format result as \"sentence\" and \"explanation\".''',\n",
    "}"
   ]
  },
  {
   "cell_type": "code",
   "execution_count": 89,
   "id": "b432330d-92fd-4ba6-b45f-0442af37d60c",
   "metadata": {},
   "outputs": [
    {
     "data": {
      "text/plain": [
       "{'prompt_llm': 'You are an AI model that improves a text style transfer based on provided feedback. \\n    Here is text T1, supposedly writen in a style of person X: {} ',\n",
       " 'prompt_s2': 'and here is another text T2, containing are a set of unrelated sentences (separated with ;),\\n    that are actually written by person X: {} ',\n",
       " 'prompt_inference': 'Use the following feedback on text style difference between T1 and T2: {},\\n    to rewrite T1 so that it is more similar in style to T2. Keep the style conversational and informal.\\n    Result = . Format result as \"sentence\" and \"explanation\".'}"
      ]
     },
     "execution_count": 89,
     "metadata": {},
     "output_type": "execute_result"
    }
   ],
   "source": [
    "refine_prompt_dict"
   ]
  },
  {
   "cell_type": "code",
   "execution_count": 158,
   "id": "e74952ec-da4d-4b7a-b663-e3d3bc7367fd",
   "metadata": {},
   "outputs": [],
   "source": [
    "feedback_df = pd.DataFrame()\n",
    "for index, row in df.iterrows():\n",
    "    feedback_df = pd.concat([feedback_df, evl.get_updated_evaluation_mistral(prompts_dict_feedback, row, 'NoContext_' + format(index),'feedback_generation')], ignore_index=True)\n",
    "feedback_df.to_csv('f8_llm_evaluation_data/Mistral/0_loop_updated_feedback_summary.csv')"
   ]
  },
  {
   "cell_type": "code",
   "execution_count": 91,
   "id": "28e26dc7-89f7-4f5a-8991-976ddfb6a9e4",
   "metadata": {},
   "outputs": [
    {
     "data": {
      "text/html": [
       "<div>\n",
       "<style scoped>\n",
       "    .dataframe tbody tr th:only-of-type {\n",
       "        vertical-align: middle;\n",
       "    }\n",
       "\n",
       "    .dataframe tbody tr th {\n",
       "        vertical-align: top;\n",
       "    }\n",
       "\n",
       "    .dataframe thead th {\n",
       "        text-align: right;\n",
       "    }\n",
       "</style>\n",
       "<table border=\"1\" class=\"dataframe\">\n",
       "  <thead>\n",
       "    <tr style=\"text-align: right;\">\n",
       "      <th></th>\n",
       "      <th>Unnamed: 0</th>\n",
       "      <th>index</th>\n",
       "      <th>fileID</th>\n",
       "      <th>user</th>\n",
       "      <th>promptID</th>\n",
       "      <th>model</th>\n",
       "      <th>shots</th>\n",
       "      <th>runID</th>\n",
       "      <th>original</th>\n",
       "      <th>rewritten_sentence</th>\n",
       "      <th>...</th>\n",
       "      <th>score_accuracy</th>\n",
       "      <th>score_content_preservation</th>\n",
       "      <th>score_fluency</th>\n",
       "      <th>prompting</th>\n",
       "      <th>evaluator</th>\n",
       "      <th>isParallel</th>\n",
       "      <th>new_score_accuracy</th>\n",
       "      <th>new_explanation_accuracy</th>\n",
       "      <th>tst_feedback</th>\n",
       "      <th>explanation_feedback</th>\n",
       "    </tr>\n",
       "  </thead>\n",
       "  <tbody>\n",
       "    <tr>\n",
       "      <th>0</th>\n",
       "      <td>0</td>\n",
       "      <td>4</td>\n",
       "      <td>231</td>\n",
       "      <td>U1</td>\n",
       "      <td>2</td>\n",
       "      <td>mistral-medium</td>\n",
       "      <td>5</td>\n",
       "      <td>911714</td>\n",
       "      <td>I'm all about fast food. I'm having some fries...</td>\n",
       "      <td>Hey, I'm all about that fast food, y'all! I'm ...</td>\n",
       "      <td>...</td>\n",
       "      <td>4.0</td>\n",
       "      <td>10.0</td>\n",
       "      <td>9.0</td>\n",
       "      <td>NoContext</td>\n",
       "      <td>mistral-medium</td>\n",
       "      <td>False</td>\n",
       "      <td>7.0</td>\n",
       "      <td>The conversational styles in T1 and T2 are si...</td>\n",
       "      <td>I reckon fast food suits my taste just fine, c...</td>\n",
       "      <td>Sentence: \"I reckon fast food suits my taste j...</td>\n",
       "    </tr>\n",
       "    <tr>\n",
       "      <th>1</th>\n",
       "      <td>1</td>\n",
       "      <td>24</td>\n",
       "      <td>231</td>\n",
       "      <td>U1</td>\n",
       "      <td>2</td>\n",
       "      <td>mistral-medium</td>\n",
       "      <td>5</td>\n",
       "      <td>911714</td>\n",
       "      <td>Just having this vegan hotdog from the school ...</td>\n",
       "      <td>Ah, just grabbing this vegan hotdog from the s...</td>\n",
       "      <td>...</td>\n",
       "      <td>3.0</td>\n",
       "      <td>10.0</td>\n",
       "      <td>9.0</td>\n",
       "      <td>NoContext</td>\n",
       "      <td>mistral-medium</td>\n",
       "      <td>False</td>\n",
       "      <td>7.0</td>\n",
       "      <td>The conversational styles in T1 and T2 exhibi...</td>\n",
       "      <td>Just tried this vegan hotdog from the canteen...</td>\n",
       "      <td>Sentence: Just tried this vegan hotdog from th...</td>\n",
       "    </tr>\n",
       "    <tr>\n",
       "      <th>2</th>\n",
       "      <td>2</td>\n",
       "      <td>118</td>\n",
       "      <td>202</td>\n",
       "      <td>U6</td>\n",
       "      <td>2</td>\n",
       "      <td>mistral-medium</td>\n",
       "      <td>5</td>\n",
       "      <td>209327</td>\n",
       "      <td>I went to the \"Groene Burger\" fast food restau...</td>\n",
       "      <td>So, I just popped by the 'Groene Burger' fast ...</td>\n",
       "      <td>...</td>\n",
       "      <td>8.0</td>\n",
       "      <td>10.0</td>\n",
       "      <td>10.0</td>\n",
       "      <td>NoContext</td>\n",
       "      <td>mistral-medium</td>\n",
       "      <td>False</td>\n",
       "      <td>NaN</td>\n",
       "      <td>Although both texts are written in an informa...</td>\n",
       "      <td>So, I decided to pop by this \"Groene Burger\" ...</td>\n",
       "      <td>Sentence: So, I decided to pop by this \"Groene...</td>\n",
       "    </tr>\n",
       "    <tr>\n",
       "      <th>3</th>\n",
       "      <td>3</td>\n",
       "      <td>147</td>\n",
       "      <td>202</td>\n",
       "      <td>U6</td>\n",
       "      <td>2</td>\n",
       "      <td>mistral-medium</td>\n",
       "      <td>5</td>\n",
       "      <td>209327</td>\n",
       "      <td>This vegan fried chicken from KFC is on the sp...</td>\n",
       "      <td>So, you know that vegan fried chicken from KFC...</td>\n",
       "      <td>...</td>\n",
       "      <td>7.0</td>\n",
       "      <td>10.0</td>\n",
       "      <td>9.0</td>\n",
       "      <td>NoContext</td>\n",
       "      <td>mistral-medium</td>\n",
       "      <td>False</td>\n",
       "      <td>NaN</td>\n",
       "      <td>\\n\\nAlthough both texts are written in an info...</td>\n",
       "      <td>So, I've given that vegan fried chicken from ...</td>\n",
       "      <td>Sentence: So, I've given that vegan fried chic...</td>\n",
       "    </tr>\n",
       "    <tr>\n",
       "      <th>4</th>\n",
       "      <td>4</td>\n",
       "      <td>155</td>\n",
       "      <td>201</td>\n",
       "      <td>U0</td>\n",
       "      <td>2</td>\n",
       "      <td>mistral-medium</td>\n",
       "      <td>5</td>\n",
       "      <td>379944</td>\n",
       "      <td>I went to the \"Groene Burger\" fast food restau...</td>\n",
       "      <td>So you know what, I just went to this 'Groene ...</td>\n",
       "      <td>...</td>\n",
       "      <td>3.0</td>\n",
       "      <td>10.0</td>\n",
       "      <td>10.0</td>\n",
       "      <td>NoContext</td>\n",
       "      <td>mistral-medium</td>\n",
       "      <td>False</td>\n",
       "      <td>NaN</td>\n",
       "      <td>Although both texts are written in an informa...</td>\n",
       "      <td>You should try \"Groene Burger\" for fast food,...</td>\n",
       "      <td>Sentence: You should try \"Groene Burger\" for f...</td>\n",
       "    </tr>\n",
       "    <tr>\n",
       "      <th>...</th>\n",
       "      <td>...</td>\n",
       "      <td>...</td>\n",
       "      <td>...</td>\n",
       "      <td>...</td>\n",
       "      <td>...</td>\n",
       "      <td>...</td>\n",
       "      <td>...</td>\n",
       "      <td>...</td>\n",
       "      <td>...</td>\n",
       "      <td>...</td>\n",
       "      <td>...</td>\n",
       "      <td>...</td>\n",
       "      <td>...</td>\n",
       "      <td>...</td>\n",
       "      <td>...</td>\n",
       "      <td>...</td>\n",
       "      <td>...</td>\n",
       "      <td>...</td>\n",
       "      <td>...</td>\n",
       "      <td>...</td>\n",
       "      <td>...</td>\n",
       "    </tr>\n",
       "    <tr>\n",
       "      <th>91</th>\n",
       "      <td>91</td>\n",
       "      <td>2266</td>\n",
       "      <td>82</td>\n",
       "      <td>U5</td>\n",
       "      <td>2</td>\n",
       "      <td>mistral-medium</td>\n",
       "      <td>5</td>\n",
       "      <td>556987</td>\n",
       "      <td>Just had my first vegan cake at \"groene bakker...</td>\n",
       "      <td>Hey, just had my first vegan cake at 'groene b...</td>\n",
       "      <td>...</td>\n",
       "      <td>7.0</td>\n",
       "      <td>10.0</td>\n",
       "      <td>10.0</td>\n",
       "      <td>NoContext</td>\n",
       "      <td>mistral-medium</td>\n",
       "      <td>False</td>\n",
       "      <td>NaN</td>\n",
       "      <td>The conversational style in T1 and T2 is sign...</td>\n",
       "      <td>He looks like he enjoyed his first vegan cake...</td>\n",
       "      <td>Sentence: He looks like he enjoyed his first v...</td>\n",
       "    </tr>\n",
       "    <tr>\n",
       "      <th>92</th>\n",
       "      <td>92</td>\n",
       "      <td>2285</td>\n",
       "      <td>220</td>\n",
       "      <td>U8</td>\n",
       "      <td>2</td>\n",
       "      <td>mistral-medium</td>\n",
       "      <td>5</td>\n",
       "      <td>386065</td>\n",
       "      <td>Just getting my vitamins in at the school cant...</td>\n",
       "      <td>Sure thing, getting my daily dose of vitamins ...</td>\n",
       "      <td>...</td>\n",
       "      <td>4.0</td>\n",
       "      <td>10.0</td>\n",
       "      <td>10.0</td>\n",
       "      <td>NoContext</td>\n",
       "      <td>mistral-medium</td>\n",
       "      <td>False</td>\n",
       "      <td>NaN</td>\n",
       "      <td>The syntax and semantics of the sentences in ...</td>\n",
       "      <td>I'm absolutely loving this Quinoa and chickpe...</td>\n",
       "      <td>Sentence: I'm absolutely loving this Quinoa an...</td>\n",
       "    </tr>\n",
       "    <tr>\n",
       "      <th>93</th>\n",
       "      <td>93</td>\n",
       "      <td>2296</td>\n",
       "      <td>201</td>\n",
       "      <td>U0</td>\n",
       "      <td>2</td>\n",
       "      <td>mistral-medium</td>\n",
       "      <td>5</td>\n",
       "      <td>379944</td>\n",
       "      <td>I'm all about fast food. I'm having some fries...</td>\n",
       "      <td>So, you know what, I'm totally into fast food....</td>\n",
       "      <td>...</td>\n",
       "      <td>4.0</td>\n",
       "      <td>10.0</td>\n",
       "      <td>10.0</td>\n",
       "      <td>NoContext</td>\n",
       "      <td>mistral-medium</td>\n",
       "      <td>False</td>\n",
       "      <td>NaN</td>\n",
       "      <td>\\n\\nAlthough the texts T1 and T2 are written b...</td>\n",
       "      <td>You should give fast food a try, it's my go-t...</td>\n",
       "      <td>Sentence: You should give fast food a try, it'...</td>\n",
       "    </tr>\n",
       "    <tr>\n",
       "      <th>94</th>\n",
       "      <td>94</td>\n",
       "      <td>2320</td>\n",
       "      <td>201</td>\n",
       "      <td>U0</td>\n",
       "      <td>2</td>\n",
       "      <td>mistral-medium</td>\n",
       "      <td>5</td>\n",
       "      <td>379944</td>\n",
       "      <td>Just having this vegan hotdog from the school ...</td>\n",
       "      <td>You know what, I'm just vibing with this vegan...</td>\n",
       "      <td>...</td>\n",
       "      <td>4.0</td>\n",
       "      <td>9.0</td>\n",
       "      <td>10.0</td>\n",
       "      <td>NoContext</td>\n",
       "      <td>mistral-medium</td>\n",
       "      <td>False</td>\n",
       "      <td>NaN</td>\n",
       "      <td>The conversational style in T1 and T2 differ ...</td>\n",
       "      <td>Vegan hotdog for lunch, it's crispy and spicy;...</td>\n",
       "      <td>Sentence: \"Vegan hotdog for lunch, it's crispy...</td>\n",
       "    </tr>\n",
       "    <tr>\n",
       "      <th>95</th>\n",
       "      <td>95</td>\n",
       "      <td>2336</td>\n",
       "      <td>27</td>\n",
       "      <td>U3</td>\n",
       "      <td>2</td>\n",
       "      <td>mistral-medium</td>\n",
       "      <td>5</td>\n",
       "      <td>711149</td>\n",
       "      <td>Just having this vegan hotdog from the school ...</td>\n",
       "      <td>Hmm, just had this vegan hotdog from the schoo...</td>\n",
       "      <td>...</td>\n",
       "      <td>4.0</td>\n",
       "      <td>9.0</td>\n",
       "      <td>9.0</td>\n",
       "      <td>NoContext</td>\n",
       "      <td>mistral-medium</td>\n",
       "      <td>False</td>\n",
       "      <td>NaN</td>\n",
       "      <td>The conversational style in T1 and T2 differs...</td>\n",
       "      <td>So, I just tried this vegan hotdog from the ca...</td>\n",
       "      <td>Sentence: \"So, I just tried this vegan hotdog ...</td>\n",
       "    </tr>\n",
       "  </tbody>\n",
       "</table>\n",
       "<p>96 rows × 24 columns</p>\n",
       "</div>"
      ],
      "text/plain": [
       "    Unnamed: 0  index  fileID user  promptID           model  shots   runID  \\\n",
       "0            0      4     231   U1         2  mistral-medium      5  911714   \n",
       "1            1     24     231   U1         2  mistral-medium      5  911714   \n",
       "2            2    118     202   U6         2  mistral-medium      5  209327   \n",
       "3            3    147     202   U6         2  mistral-medium      5  209327   \n",
       "4            4    155     201   U0         2  mistral-medium      5  379944   \n",
       "..         ...    ...     ...  ...       ...             ...    ...     ...   \n",
       "91          91   2266      82   U5         2  mistral-medium      5  556987   \n",
       "92          92   2285     220   U8         2  mistral-medium      5  386065   \n",
       "93          93   2296     201   U0         2  mistral-medium      5  379944   \n",
       "94          94   2320     201   U0         2  mistral-medium      5  379944   \n",
       "95          95   2336      27   U3         2  mistral-medium      5  711149   \n",
       "\n",
       "                                             original  \\\n",
       "0   I'm all about fast food. I'm having some fries...   \n",
       "1   Just having this vegan hotdog from the school ...   \n",
       "2   I went to the \"Groene Burger\" fast food restau...   \n",
       "3   This vegan fried chicken from KFC is on the sp...   \n",
       "4   I went to the \"Groene Burger\" fast food restau...   \n",
       "..                                                ...   \n",
       "91  Just had my first vegan cake at \"groene bakker...   \n",
       "92  Just getting my vitamins in at the school cant...   \n",
       "93  I'm all about fast food. I'm having some fries...   \n",
       "94  Just having this vegan hotdog from the school ...   \n",
       "95  Just having this vegan hotdog from the school ...   \n",
       "\n",
       "                                   rewritten_sentence  ... score_accuracy  \\\n",
       "0   Hey, I'm all about that fast food, y'all! I'm ...  ...            4.0   \n",
       "1   Ah, just grabbing this vegan hotdog from the s...  ...            3.0   \n",
       "2   So, I just popped by the 'Groene Burger' fast ...  ...            8.0   \n",
       "3   So, you know that vegan fried chicken from KFC...  ...            7.0   \n",
       "4   So you know what, I just went to this 'Groene ...  ...            3.0   \n",
       "..                                                ...  ...            ...   \n",
       "91  Hey, just had my first vegan cake at 'groene b...  ...            7.0   \n",
       "92  Sure thing, getting my daily dose of vitamins ...  ...            4.0   \n",
       "93  So, you know what, I'm totally into fast food....  ...            4.0   \n",
       "94  You know what, I'm just vibing with this vegan...  ...            4.0   \n",
       "95  Hmm, just had this vegan hotdog from the schoo...  ...            4.0   \n",
       "\n",
       "   score_content_preservation score_fluency  prompting       evaluator  \\\n",
       "0                        10.0           9.0  NoContext  mistral-medium   \n",
       "1                        10.0           9.0  NoContext  mistral-medium   \n",
       "2                        10.0          10.0  NoContext  mistral-medium   \n",
       "3                        10.0           9.0  NoContext  mistral-medium   \n",
       "4                        10.0          10.0  NoContext  mistral-medium   \n",
       "..                        ...           ...        ...             ...   \n",
       "91                       10.0          10.0  NoContext  mistral-medium   \n",
       "92                       10.0          10.0  NoContext  mistral-medium   \n",
       "93                       10.0          10.0  NoContext  mistral-medium   \n",
       "94                        9.0          10.0  NoContext  mistral-medium   \n",
       "95                        9.0           9.0  NoContext  mistral-medium   \n",
       "\n",
       "    isParallel  new_score_accuracy  \\\n",
       "0        False                 7.0   \n",
       "1        False                 7.0   \n",
       "2        False                 NaN   \n",
       "3        False                 NaN   \n",
       "4        False                 NaN   \n",
       "..         ...                 ...   \n",
       "91       False                 NaN   \n",
       "92       False                 NaN   \n",
       "93       False                 NaN   \n",
       "94       False                 NaN   \n",
       "95       False                 NaN   \n",
       "\n",
       "                             new_explanation_accuracy  \\\n",
       "0    The conversational styles in T1 and T2 are si...   \n",
       "1    The conversational styles in T1 and T2 exhibi...   \n",
       "2    Although both texts are written in an informa...   \n",
       "3   \\n\\nAlthough both texts are written in an info...   \n",
       "4    Although both texts are written in an informa...   \n",
       "..                                                ...   \n",
       "91   The conversational style in T1 and T2 is sign...   \n",
       "92   The syntax and semantics of the sentences in ...   \n",
       "93  \\n\\nAlthough the texts T1 and T2 are written b...   \n",
       "94   The conversational style in T1 and T2 differ ...   \n",
       "95   The conversational style in T1 and T2 differs...   \n",
       "\n",
       "                                         tst_feedback  \\\n",
       "0   I reckon fast food suits my taste just fine, c...   \n",
       "1    Just tried this vegan hotdog from the canteen...   \n",
       "2    So, I decided to pop by this \"Groene Burger\" ...   \n",
       "3    So, I've given that vegan fried chicken from ...   \n",
       "4    You should try \"Groene Burger\" for fast food,...   \n",
       "..                                                ...   \n",
       "91   He looks like he enjoyed his first vegan cake...   \n",
       "92   I'm absolutely loving this Quinoa and chickpe...   \n",
       "93   You should give fast food a try, it's my go-t...   \n",
       "94  Vegan hotdog for lunch, it's crispy and spicy;...   \n",
       "95  So, I just tried this vegan hotdog from the ca...   \n",
       "\n",
       "                                 explanation_feedback  \n",
       "0   Sentence: \"I reckon fast food suits my taste j...  \n",
       "1   Sentence: Just tried this vegan hotdog from th...  \n",
       "2   Sentence: So, I decided to pop by this \"Groene...  \n",
       "3   Sentence: So, I've given that vegan fried chic...  \n",
       "4   Sentence: You should try \"Groene Burger\" for f...  \n",
       "..                                                ...  \n",
       "91  Sentence: He looks like he enjoyed his first v...  \n",
       "92  Sentence: I'm absolutely loving this Quinoa an...  \n",
       "93  Sentence: You should give fast food a try, it'...  \n",
       "94  Sentence: \"Vegan hotdog for lunch, it's crispy...  \n",
       "95  Sentence: \"So, I just tried this vegan hotdog ...  \n",
       "\n",
       "[96 rows x 24 columns]"
      ]
     },
     "execution_count": 91,
     "metadata": {},
     "output_type": "execute_result"
    }
   ],
   "source": [
    "feedback_df  = pd.read_csv('f8_llm_evaluation_data/Mistral/0_loop_updated_feedback_summary.csv')\n",
    "feedback_df"
   ]
  },
  {
   "cell_type": "code",
   "execution_count": 200,
   "id": "0aeb399e-a317-459b-8f81-bbf302044e33",
   "metadata": {},
   "outputs": [],
   "source": [
    "def remove_quotes(s):\n",
    "    if s.startswith(' \"'):\n",
    "        s = s[2:]\n",
    "    if s.endswith('\"'):\n",
    "        s = s[:-1]\n",
    "    return s"
   ]
  },
  {
   "cell_type": "code",
   "execution_count": 215,
   "id": "46c7e6f8-3b56-42f2-960d-bd0ea4a0909d",
   "metadata": {},
   "outputs": [],
   "source": [
    "for i,r in feedback_df.iterrows():\n",
    "    s = remove_quotes(r['explanation_feedback'].split(':')[1].split('\\n')[0])\n",
    "    if s:\n",
    "        feedback_df['tst_feedback'].iloc[i] = s \n",
    "    else:\n",
    "        # some sentences are messed up, as Sentence: is followed with new line, so they require different handling \n",
    "        feedback_df['tst_feedback'].iloc[i] = r['explanation_feedback'].split(':')[1].strip().split('\\n')[0]"
   ]
  },
  {
   "cell_type": "markdown",
   "id": "417b9230-52ec-47c2-be4b-d0f431494f7c",
   "metadata": {},
   "source": [
    "### Evaluate the feedback - regenerate accuracy"
   ]
  },
  {
   "cell_type": "code",
   "execution_count": 221,
   "id": "b0108218-39cb-4651-82c6-452b05833675",
   "metadata": {},
   "outputs": [],
   "source": [
    "prompts_dict_new_accuracy = {\n",
    "    # Generic prompt\n",
    "    'prompt_p1': 'You are an expert in text style transfer. Here is text T1, supposedly writen in a style of person X: {} ',\n",
    "                 \n",
    "    # Accuracy\n",
    "    'prompt_p2': 'and here is another text T2, containing are a set of unrelated sentences (separated with ;), that are actually written by person X: {} ',\n",
    "    'prompt_p3': 'How different is the conversational style in T1 and T2 on a continuous scale from 1 (completely identical styles) to 10 (completely different styles)? For scoring focus on semantics and syntax. Difference in discussed topics or contexts is irrelevant for the score. Result = . Format result as \"score\" and \"explanation\".',\n",
    "}"
   ]
  },
  {
   "cell_type": "code",
   "execution_count": 224,
   "id": "0c5c1897-2af8-4a43-9117-a2c1cf734b64",
   "metadata": {},
   "outputs": [],
   "source": [
    "feedback_tst_evl_df = pd.DataFrame()\n",
    "for index, row in feedback_df.iterrows():\n",
    "    feedback_tst_evl_df = pd.concat([feedback_tst_evl_df, evl.get_updated_evaluation_mistral(prompts_dict_new_accuracy, row, 'NoContext_' + format(index),'feedback_evaluation')], ignore_index=True)\n"
   ]
  },
  {
   "cell_type": "code",
   "execution_count": 229,
   "id": "4d73822d-2b41-4eaa-9a3e-d4ca115f56c8",
   "metadata": {},
   "outputs": [],
   "source": [
    "feedback_tst_evl_df.to_csv('f8_llm_evaluation_data/Mistral/0_loop_accuracy_feedback_summary.csv')"
   ]
  },
  {
   "cell_type": "code",
   "execution_count": 232,
   "id": "3180ba04-52a0-4cf3-a14e-8cbf4556e767",
   "metadata": {},
   "outputs": [
    {
     "data": {
      "text/plain": [
       "Index(['index', 'fileID', 'user', 'promptID', 'model', 'shots', 'runID',\n",
       "       'original', 'rewritten_sentence', 'your_text', 'explanation_accuracy',\n",
       "       'explanation_content_preservation', 'explanation_fluency',\n",
       "       'score_accuracy', 'score_content_preservation', 'score_fluency',\n",
       "       'prompting', 'evaluator', 'isParallel', 'new_score_accuracy',\n",
       "       'new_explanation_accuracy', 'tst_feedback', 'explanation_feedback',\n",
       "       'accuracy_feedback', 'explanation_feedback_evaluation'],\n",
       "      dtype='object')"
      ]
     },
     "execution_count": 232,
     "metadata": {},
     "output_type": "execute_result"
    }
   ],
   "source": [
    "feedback_tst_evl_df.columns"
   ]
  },
  {
   "cell_type": "code",
   "execution_count": 240,
   "id": "c6f035d9-bdc3-402c-9899-defc49090ffa",
   "metadata": {},
   "outputs": [
    {
     "data": {
      "text/plain": [
       "\"I reckon fast food suits my taste just fine, currently munching on some fries, a soy burger, and sipping on a coke at the local burger joint near school. And looking forward to catching a football game this weekend. Just tried this vegan hotdog from the canteen, it's got a nice crunch to it and a bit of a kick! Gonna chill with the playstation this afternoon.\""
      ]
     },
     "execution_count": 240,
     "metadata": {},
     "output_type": "execute_result"
    }
   ],
   "source": [
    "''.join(feedback_tst_evl_df['tst_feedback'][0:2])"
   ]
  },
  {
   "cell_type": "code",
   "execution_count": 228,
   "id": "d37ca34c-8eca-434c-bf61-bcd463016fb8",
   "metadata": {},
   "outputs": [
    {
     "data": {
      "text/plain": [
       "(4.895833333333333, 7.0, 5.6875)"
      ]
     },
     "execution_count": 228,
     "metadata": {},
     "output_type": "execute_result"
    }
   ],
   "source": [
    "df['score_accuracy'].astype(float).mean(),df['new_score_accuracy'].astype(float).mean(),feedback_tst_evl_df['accuracy_feedback'].astype(float).mean()"
   ]
  },
  {
   "cell_type": "markdown",
   "id": "f5e25b67-18e5-4e39-afa5-98892517455d",
   "metadata": {},
   "source": [
    "# Second loop"
   ]
  },
  {
   "cell_type": "code",
   "execution_count": 242,
   "id": "f2cb0fc1-66e6-4afa-891a-7fa4b0215dd1",
   "metadata": {},
   "outputs": [],
   "source": [
    "feedback_df_2 = pd.DataFrame()\n",
    "for index, row in feedback_tst_evl_df.iterrows():\n",
    "    feedback_df_2 = pd.concat([feedback_df_2, evl.get_updated_evaluation_mistral(prompts_dict_feedback, row, 'NoContext_' + format(index),'feedback_generation')], ignore_index=True)\n"
   ]
  },
  {
   "cell_type": "code",
   "execution_count": 244,
   "id": "5d231296-c970-416d-858a-017a475f2272",
   "metadata": {},
   "outputs": [],
   "source": [
    "feedback_df_2.to_csv('f8_llm_evaluation_data/Mistral/1_loop_updated_feedback_summary.csv')"
   ]
  },
  {
   "cell_type": "code",
   "execution_count": 245,
   "id": "116aed32-f285-40f6-8f02-55fd322017c3",
   "metadata": {},
   "outputs": [
    {
     "data": {
      "text/plain": [
       "Index(['index', 'fileID', 'user', 'promptID', 'model', 'shots', 'runID',\n",
       "       'original', 'rewritten_sentence', 'your_text', 'explanation_accuracy',\n",
       "       'explanation_content_preservation', 'explanation_fluency',\n",
       "       'score_accuracy', 'score_content_preservation', 'score_fluency',\n",
       "       'prompting', 'evaluator', 'isParallel', 'new_score_accuracy',\n",
       "       'new_explanation_accuracy', 'tst_feedback', 'explanation_feedback',\n",
       "       'accuracy_feedback', 'explanation_feedback_evaluation',\n",
       "       'tst_feedback_2', 'explanation_feedback_generation_2'],\n",
       "      dtype='object')"
      ]
     },
     "execution_count": 245,
     "metadata": {},
     "output_type": "execute_result"
    }
   ],
   "source": [
    "feedback_df_2.columns"
   ]
  },
  {
   "cell_type": "code",
   "execution_count": 254,
   "id": "31d0f374-677f-45de-9f22-df02293f82fb",
   "metadata": {},
   "outputs": [],
   "source": [
    "for i,r in feedback_df_2.iterrows():\n",
    "    s = remove_quotes(r['explanation_feedback_generation_2'].split(':')[1].split('\\n')[0])\n",
    "    if s:\n",
    "        feedback_df_2['tst_feedback_2'].iloc[i] = s \n",
    "    else:\n",
    "        # some sentences are messed up, as Sentence: is followed with new line, so they require different handling \n",
    "        feedback_df_2['tst_feedback_2'].iloc[i] = r['explanation_feedback_generation_2'].split(':')[1].strip().split('\\n')[0]"
   ]
  },
  {
   "cell_type": "code",
   "execution_count": 255,
   "id": "1de698d6-7cfd-47a0-83b2-26a52a12591a",
   "metadata": {},
   "outputs": [
    {
     "data": {
      "text/html": [
       "<div>\n",
       "<style scoped>\n",
       "    .dataframe tbody tr th:only-of-type {\n",
       "        vertical-align: middle;\n",
       "    }\n",
       "\n",
       "    .dataframe tbody tr th {\n",
       "        vertical-align: top;\n",
       "    }\n",
       "\n",
       "    .dataframe thead th {\n",
       "        text-align: right;\n",
       "    }\n",
       "</style>\n",
       "<table border=\"1\" class=\"dataframe\">\n",
       "  <thead>\n",
       "    <tr style=\"text-align: right;\">\n",
       "      <th></th>\n",
       "      <th>original</th>\n",
       "      <th>rewritten_sentence</th>\n",
       "      <th>tst_feedback</th>\n",
       "      <th>tst_feedback_2</th>\n",
       "    </tr>\n",
       "  </thead>\n",
       "  <tbody>\n",
       "    <tr>\n",
       "      <th>0</th>\n",
       "      <td>I'm all about fast food. I'm having some fries...</td>\n",
       "      <td>Hey, I'm all about that fast food, y'all! I'm ...</td>\n",
       "      <td>I reckon fast food suits my taste just fine, c...</td>\n",
       "      <td>Hey, I'm good with fast food, currently chompi...</td>\n",
       "    </tr>\n",
       "    <tr>\n",
       "      <th>1</th>\n",
       "      <td>Just having this vegan hotdog from the school ...</td>\n",
       "      <td>Ah, just grabbing this vegan hotdog from the s...</td>\n",
       "      <td>Just tried this vegan hotdog from the canteen...</td>\n",
       "      <td>Just gave that vegan hotdog a go from the cant...</td>\n",
       "    </tr>\n",
       "    <tr>\n",
       "      <th>2</th>\n",
       "      <td>I went to the \"Groene Burger\" fast food restau...</td>\n",
       "      <td>So, I just popped by the 'Groene Burger' fast ...</td>\n",
       "      <td>So, I decided to pop by this \"Groene Burger\" ...</td>\n",
       "      <td>So, I decided to check out this \"Groene Burger...</td>\n",
       "    </tr>\n",
       "    <tr>\n",
       "      <th>3</th>\n",
       "      <td>This vegan fried chicken from KFC is on the sp...</td>\n",
       "      <td>So, you know that vegan fried chicken from KFC...</td>\n",
       "      <td>So, I've given that vegan fried chicken from ...</td>\n",
       "      <td>So, I finally gave that vegan fried chicken f...</td>\n",
       "    </tr>\n",
       "    <tr>\n",
       "      <th>4</th>\n",
       "      <td>I went to the \"Groene Burger\" fast food restau...</td>\n",
       "      <td>So you know what, I just went to this 'Groene ...</td>\n",
       "      <td>You should try \"Groene Burger\" for fast food,...</td>\n",
       "      <td>You should totally check out \"Groene Burger\" ...</td>\n",
       "    </tr>\n",
       "    <tr>\n",
       "      <th>...</th>\n",
       "      <td>...</td>\n",
       "      <td>...</td>\n",
       "      <td>...</td>\n",
       "      <td>...</td>\n",
       "    </tr>\n",
       "    <tr>\n",
       "      <th>91</th>\n",
       "      <td>Just had my first vegan cake at \"groene bakker...</td>\n",
       "      <td>Hey, just had my first vegan cake at 'groene b...</td>\n",
       "      <td>He looks like he enjoyed his first vegan cake...</td>\n",
       "      <td>Dude, he totally loved that vegan cake at \"gr...</td>\n",
       "    </tr>\n",
       "    <tr>\n",
       "      <th>92</th>\n",
       "      <td>Just getting my vitamins in at the school cant...</td>\n",
       "      <td>Sure thing, getting my daily dose of vitamins ...</td>\n",
       "      <td>I'm absolutely loving this Quinoa and chickpe...</td>\n",
       "      <td>I've been really enjoying this Quinoa and chi...</td>\n",
       "    </tr>\n",
       "    <tr>\n",
       "      <th>93</th>\n",
       "      <td>I'm all about fast food. I'm having some fries...</td>\n",
       "      <td>So, you know what, I'm totally into fast food....</td>\n",
       "      <td>You should give fast food a try, it's my go-t...</td>\n",
       "      <td>You should really consider giving fast food a...</td>\n",
       "    </tr>\n",
       "    <tr>\n",
       "      <th>94</th>\n",
       "      <td>Just having this vegan hotdog from the school ...</td>\n",
       "      <td>You know what, I'm just vibing with this vegan...</td>\n",
       "      <td>Vegan hotdog for lunch, it's crispy and spicy;...</td>\n",
       "      <td>Thinking about grabbing a vegan hotdog for lun...</td>\n",
       "    </tr>\n",
       "    <tr>\n",
       "      <th>95</th>\n",
       "      <td>Just having this vegan hotdog from the school ...</td>\n",
       "      <td>Hmm, just had this vegan hotdog from the schoo...</td>\n",
       "      <td>So, I just tried this vegan hotdog from the ca...</td>\n",
       "      <td>So, it took me around half an hour to try tha...</td>\n",
       "    </tr>\n",
       "  </tbody>\n",
       "</table>\n",
       "<p>96 rows × 4 columns</p>\n",
       "</div>"
      ],
      "text/plain": [
       "                                             original  \\\n",
       "0   I'm all about fast food. I'm having some fries...   \n",
       "1   Just having this vegan hotdog from the school ...   \n",
       "2   I went to the \"Groene Burger\" fast food restau...   \n",
       "3   This vegan fried chicken from KFC is on the sp...   \n",
       "4   I went to the \"Groene Burger\" fast food restau...   \n",
       "..                                                ...   \n",
       "91  Just had my first vegan cake at \"groene bakker...   \n",
       "92  Just getting my vitamins in at the school cant...   \n",
       "93  I'm all about fast food. I'm having some fries...   \n",
       "94  Just having this vegan hotdog from the school ...   \n",
       "95  Just having this vegan hotdog from the school ...   \n",
       "\n",
       "                                   rewritten_sentence  \\\n",
       "0   Hey, I'm all about that fast food, y'all! I'm ...   \n",
       "1   Ah, just grabbing this vegan hotdog from the s...   \n",
       "2   So, I just popped by the 'Groene Burger' fast ...   \n",
       "3   So, you know that vegan fried chicken from KFC...   \n",
       "4   So you know what, I just went to this 'Groene ...   \n",
       "..                                                ...   \n",
       "91  Hey, just had my first vegan cake at 'groene b...   \n",
       "92  Sure thing, getting my daily dose of vitamins ...   \n",
       "93  So, you know what, I'm totally into fast food....   \n",
       "94  You know what, I'm just vibing with this vegan...   \n",
       "95  Hmm, just had this vegan hotdog from the schoo...   \n",
       "\n",
       "                                         tst_feedback  \\\n",
       "0   I reckon fast food suits my taste just fine, c...   \n",
       "1    Just tried this vegan hotdog from the canteen...   \n",
       "2    So, I decided to pop by this \"Groene Burger\" ...   \n",
       "3    So, I've given that vegan fried chicken from ...   \n",
       "4    You should try \"Groene Burger\" for fast food,...   \n",
       "..                                                ...   \n",
       "91   He looks like he enjoyed his first vegan cake...   \n",
       "92   I'm absolutely loving this Quinoa and chickpe...   \n",
       "93   You should give fast food a try, it's my go-t...   \n",
       "94  Vegan hotdog for lunch, it's crispy and spicy;...   \n",
       "95  So, I just tried this vegan hotdog from the ca...   \n",
       "\n",
       "                                       tst_feedback_2  \n",
       "0   Hey, I'm good with fast food, currently chompi...  \n",
       "1   Just gave that vegan hotdog a go from the cant...  \n",
       "2   So, I decided to check out this \"Groene Burger...  \n",
       "3    So, I finally gave that vegan fried chicken f...  \n",
       "4    You should totally check out \"Groene Burger\" ...  \n",
       "..                                                ...  \n",
       "91   Dude, he totally loved that vegan cake at \"gr...  \n",
       "92   I've been really enjoying this Quinoa and chi...  \n",
       "93   You should really consider giving fast food a...  \n",
       "94  Thinking about grabbing a vegan hotdog for lun...  \n",
       "95   So, it took me around half an hour to try tha...  \n",
       "\n",
       "[96 rows x 4 columns]"
      ]
     },
     "execution_count": 255,
     "metadata": {},
     "output_type": "execute_result"
    }
   ],
   "source": [
    "feedback_df_2[['original','rewritten_sentence','tst_feedback','tst_feedback_2']]"
   ]
  },
  {
   "cell_type": "code",
   "execution_count": 259,
   "id": "4e0d2b92-251d-4968-8395-7975d73c8f04",
   "metadata": {},
   "outputs": [
    {
     "name": "stdout",
     "output_type": "stream",
     "text": [
      "0     Row ID: 0, I'm all about fast food. I'm having...\n",
      "1     Row ID: 1, Just having this vegan hotdog from ...\n",
      "2     Row ID: 2, I went to the \"Groene Burger\" fast ...\n",
      "3     Row ID: 3, This vegan fried chicken from KFC i...\n",
      "4     Row ID: 4, I went to the \"Groene Burger\" fast ...\n",
      "                            ...                        \n",
      "91    Row ID: 91, Just had my first vegan cake at \"g...\n",
      "92    Row ID: 92, Just getting my vitamins in at the...\n",
      "93    Row ID: 93, I'm all about fast food. I'm havin...\n",
      "94    Row ID: 94, Just having this vegan hotdog from...\n",
      "95    Row ID: 95, Just having this vegan hotdog from...\n",
      "Length: 96, dtype: object\n"
     ]
    }
   ],
   "source": [
    "# Create an empty list to store the joined strings\n",
    "joined_strings = []\n",
    "\n",
    "# Iterate over the DataFrame rows\n",
    "for index, row in feedback_df_2.iterrows():\n",
    "    # Join the columns of the current row into a single string with newline characters\n",
    "    joined_row = '\\n'.join(row[['original','rewritten_sentence','tst_feedback','tst_feedback_2']])\n",
    "    \n",
    "    # Add the row ID information\n",
    "    joined_row_with_id = f\"Row ID: {index}, {joined_row}\"\n",
    "    \n",
    "    # Append the joined string with row ID to the list\n",
    "    joined_strings.append(joined_row_with_id)\n",
    "\n",
    "# Convert the list of joined strings to a Series\n",
    "joined_strings_series = pd.Series(joined_strings)\n",
    "\n",
    "print(joined_strings_series)"
   ]
  },
  {
   "cell_type": "code",
   "execution_count": 266,
   "id": "fa66a27e-3bd3-4bb4-abea-070b75fa742d",
   "metadata": {},
   "outputs": [
    {
     "data": {
      "text/plain": [
       "[\"Row ID: 0, I'm all about fast food. I'm having some fries, a soy burger and coke at the burger place near school. And having a football game in the weekend.\\nHey, I'm all about that fast food, y'all! I'm chowing down on some fries, a soy burger, and a coke over at the burger joint near school. And come the weekend, I'm all about the football game!\\nI reckon fast food suits my taste just fine, currently munching on some fries, a soy burger, and sipping on a coke at the local burger joint near school. And looking forward to catching a football game this weekend.\\nHey, I'm good with fast food, currently chomping on some fries and a soy burger here at the local burger joint near school. You know what, I'm thinking about catching a football game this weekend, wanna join?\",\n",
       " \"Row ID: 1, Just having this vegan hotdog from the school canteen. It’s crispy and a bit spicy! And I am just chilling in the afternoon with the playstation.\\nAh, just grabbing this vegan hotdog from the school canteen, it's got a nice crunch to it and a bit of a kick! And yeah, just relaxing in the afternoon with the playstation.\\n Just tried this vegan hotdog from the canteen, it's got a nice crunch to it and a bit of a kick! Gonna chill with the playstation this afternoon.\\nJust gave that vegan hotdog a go from the canteen, not bad at all! Got a nice crunch to it, and a bit of a kick. Anyways, gonna chill with the playstation this arvo.\"]"
      ]
     },
     "execution_count": 266,
     "metadata": {},
     "output_type": "execute_result"
    }
   ],
   "source": [
    "joined_strings[0:2]"
   ]
  },
  {
   "cell_type": "code",
   "execution_count": 262,
   "id": "20670472-0829-4db9-a352-fde9f36566ef",
   "metadata": {},
   "outputs": [
    {
     "data": {
      "text/plain": [
       "Index(['index', 'fileID', 'user', 'promptID', 'model', 'shots', 'runID',\n",
       "       'original', 'rewritten_sentence', 'your_text', 'explanation_accuracy',\n",
       "       'explanation_content_preservation', 'explanation_fluency',\n",
       "       'score_accuracy', 'score_content_preservation', 'score_fluency',\n",
       "       'prompting', 'evaluator', 'isParallel', 'new_score_accuracy',\n",
       "       'new_explanation_accuracy', 'tst_feedback', 'explanation_feedback',\n",
       "       'accuracy_feedback', 'explanation_feedback_evaluation',\n",
       "       'tst_feedback_2', 'explanation_feedback_generation_2'],\n",
       "      dtype='object')"
      ]
     },
     "execution_count": 262,
     "metadata": {},
     "output_type": "execute_result"
    }
   ],
   "source": [
    "feedback_df_2.columns"
   ]
  },
  {
   "cell_type": "markdown",
   "id": "9e5265fd-9af9-419a-8357-63d37f145e7f",
   "metadata": {},
   "source": [
    "### evaluate this second loop"
   ]
  },
  {
   "cell_type": "code",
   "execution_count": 267,
   "id": "b1a877e0-deea-443e-96d9-0c868425af16",
   "metadata": {},
   "outputs": [],
   "source": [
    "feedback_tst_evl_df_2 = pd.DataFrame()\n",
    "for index, row in feedback_df_2.iterrows():\n",
    "    feedback_tst_evl_df_2 = pd.concat([feedback_tst_evl_df_2, evl.get_updated_evaluation_mistral(prompts_dict_new_accuracy, row, 'NoContext_' + format(index),'feedback_evaluation')], ignore_index=True)\n"
   ]
  },
  {
   "cell_type": "code",
   "execution_count": 268,
   "id": "d30d13c2-7963-4227-bf9b-2f17a7b4b741",
   "metadata": {},
   "outputs": [],
   "source": [
    "feedback_tst_evl_df_2.to_csv('f8_llm_evaluation_data/Mistral/1_loop_accuracy_feedback_summary.csv')"
   ]
  },
  {
   "cell_type": "code",
   "execution_count": 269,
   "id": "f5e7961f-d84a-45c5-9826-c6f65aaf7193",
   "metadata": {},
   "outputs": [
    {
     "data": {
      "text/plain": [
       "Index(['index', 'fileID', 'user', 'promptID', 'model', 'shots', 'runID',\n",
       "       'original', 'rewritten_sentence', 'your_text', 'explanation_accuracy',\n",
       "       'explanation_content_preservation', 'explanation_fluency',\n",
       "       'score_accuracy', 'score_content_preservation', 'score_fluency',\n",
       "       'prompting', 'evaluator', 'isParallel', 'new_score_accuracy',\n",
       "       'new_explanation_accuracy', 'tst_feedback', 'explanation_feedback',\n",
       "       'accuracy_feedback', 'explanation_feedback_evaluation',\n",
       "       'tst_feedback_2', 'explanation_feedback_generation_2',\n",
       "       'accuracy_feedback_2', 'explanation_feedback_evaluation_2'],\n",
       "      dtype='object')"
      ]
     },
     "execution_count": 269,
     "metadata": {},
     "output_type": "execute_result"
    }
   ],
   "source": [
    "feedback_tst_evl_df_2.columns"
   ]
  },
  {
   "cell_type": "code",
   "execution_count": 270,
   "id": "44d530c8-5243-4aa9-9207-92489cf8b191",
   "metadata": {},
   "outputs": [
    {
     "data": {
      "text/plain": [
       "5.005208333333333"
      ]
     },
     "execution_count": 270,
     "metadata": {},
     "output_type": "execute_result"
    }
   ],
   "source": [
    "feedback_tst_evl_df_2['accuracy_feedback_2'].astype(float).mean()"
   ]
  },
  {
   "cell_type": "code",
   "execution_count": 287,
   "id": "2fcf02ef-7cd8-4369-9e81-1a3731bb8678",
   "metadata": {},
   "outputs": [],
   "source": [
    "import s6_display_results as dr\n",
    "col_display = ['original', 'rewritten_sentence','your_text','tst_feedback','explanation_feedback','tst_feedback_2']"
   ]
  },
  {
   "cell_type": "code",
   "execution_count": 288,
   "id": "1a08f3b3-ca80-471a-bfbc-21feb50eac1d",
   "metadata": {},
   "outputs": [
    {
     "data": {
      "application/vnd.jupyter.widget-view+json": {
       "model_id": "cce6d0df7ac9420083bc0b0f901569bd",
       "version_major": 2,
       "version_minor": 0
      },
      "text/plain": [
       "interactive(children=(Dropdown(description='User:', index=1, options=('All', 'U1', 'U6', 'U0', 'U8', 'U3', 'U2…"
      ]
     },
     "metadata": {},
     "output_type": "display_data"
    }
   ],
   "source": [
    "dr.display_interactive_dataframe(feedback_tst_evl_df_2,col_display)"
   ]
  },
  {
   "cell_type": "code",
   "execution_count": 286,
   "id": "4735b61f-f057-4f3b-8565-91a0a482be4d",
   "metadata": {},
   "outputs": [
    {
     "name": "stdout",
     "output_type": "stream",
     "text": [
      "original              I went to the \"Groene Burger\" fast food restau...\n",
      "rewritten_sentence    So you know what, I just went to this 'Groene ...\n",
      "your_text             I went to the “groene burger”, really recommen...\n",
      "tst_feedback           You should try \"Groene Burger\" for fast food,...\n",
      "tst_feedback_2         You should totally check out \"Groene Burger\" ...\n",
      "Name: 4, dtype: object \n",
      "\n",
      "original              This vegan chocolate is on point. Its with oat...\n",
      "rewritten_sentence    You've gotta try this vegan chocolate, it's le...\n",
      "your_text             This vegan cake is just amazinggg! It has oat ...\n",
      "tst_feedback          You've gotta try this vegan chocolate, no kidd...\n",
      "tst_feedback_2         You might want to check out this vegan chocol...\n",
      "Name: 21, dtype: object \n",
      "\n",
      "original              Just getting my vitamins in at the school cant...\n",
      "rewritten_sentence    Alright, so I'm popping into the school cantee...\n",
      "your_text             I am going for a something healthy today, quin...\n",
      "tst_feedback           So, I'm considering a partner with some wealt...\n",
      "tst_feedback_2         So, a rich partner, problem solved, right? Tr...\n",
      "Name: 35, dtype: object \n",
      "\n",
      "original              De Pizzabakkers sell this vegan pizza with che...\n",
      "rewritten_sentence    So, I've heard about this place, De Pizzabakke...\n",
      "your_text             Have you tried the new vegan mozzarella pizza ...\n",
      "tst_feedback           So, I hear De Pizzabakkers has this vegan piz...\n",
      "tst_feedback_2         I've heard about this place, De Pizzabakkers,...\n",
      "Name: 39, dtype: object \n",
      "\n",
      "original              I entered the world of vegan foods lately. Nex...\n",
      "rewritten_sentence    So, I've recently dived into the universe of v...\n",
      "your_text             I have so many vegan things I still have to tr...\n",
      "tst_feedback          You know what, I've recently gotten into this ...\n",
      "tst_feedback_2         You should try those vegan cookies and stroop...\n",
      "Name: 57, dtype: object \n",
      "\n",
      "original              I’m all about that food. I usually kick off th...\n",
      "rewritten_sentence    So, I'm totally into food, you know? Like, I a...\n",
      "your_text             I love food! I really like to have beans with ...\n",
      "tst_feedback          So, you know what I'm totally into? Food! I sw...\n",
      "tst_feedback_2         So, you know what's interesting? I was thinki...\n",
      "Name: 62, dtype: object \n",
      "\n",
      "original              Just had my first vegan cake at \"groene bakker...\n",
      "rewritten_sentence    So I just had my first vegan cake at 'groene b...\n",
      "your_text             I have just tried the vegan cake from “groene ...\n",
      "tst_feedback           So, I tried a vegan cake at \"groene bakkers\" ...\n",
      "tst_feedback_2        Hey, you know what? I just tried a vegan cake ...\n",
      "Name: 70, dtype: object \n",
      "\n",
      "original              I'm all about fast food. I'm having some fries...\n",
      "rewritten_sentence    So, you know what, I'm totally into fast food....\n",
      "your_text             I love fast food. I am going to the burger pla...\n",
      "tst_feedback           You should give fast food a try, it's my go-t...\n",
      "tst_feedback_2         You should really consider giving fast food a...\n",
      "Name: 93, dtype: object \n",
      "\n",
      "original              Just having this vegan hotdog from the school ...\n",
      "rewritten_sentence    You know what, I'm just vibing with this vegan...\n",
      "your_text             What about a vegan hotdog from the canteen, I ...\n",
      "tst_feedback          Vegan hotdog for lunch, it's crispy and spicy;...\n",
      "tst_feedback_2        Thinking about grabbing a vegan hotdog for lun...\n",
      "Name: 94, dtype: object \n",
      "\n"
     ]
    }
   ],
   "source": [
    "for i,r in feedback_tst_evl_df_2[feedback_tst_evl_df_2.user == 'U0'].iterrows():\n",
    "    print(r[col_display], '\\n')"
   ]
  },
  {
   "cell_type": "code",
   "execution_count": null,
   "id": "463b06c5-1618-4363-bd9a-29dfd1f538a6",
   "metadata": {},
   "outputs": [],
   "source": []
  }
 ],
 "metadata": {
  "kernelspec": {
   "display_name": "Python (llm-evaluate)",
   "language": "python",
   "name": "llm-evaluate"
  },
  "language_info": {
   "codemirror_mode": {
    "name": "ipython",
    "version": 3
   },
   "file_extension": ".py",
   "mimetype": "text/x-python",
   "name": "python",
   "nbconvert_exporter": "python",
   "pygments_lexer": "ipython3",
   "version": "3.11.7"
  }
 },
 "nbformat": 4,
 "nbformat_minor": 5
}
