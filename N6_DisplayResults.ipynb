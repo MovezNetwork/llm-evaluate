{
 "cells": [
  {
   "cell_type": "code",
   "execution_count": 1,
   "id": "a7d01bf0-bd8c-4778-819b-3f924bf75650",
   "metadata": {},
   "outputs": [],
   "source": [
    "import pandas as pd\n",
    "import sys\n",
    "import os\n",
    "import inspect\n",
    "import s5_postprocess_evaluation as pe\n",
    "import configparser\n",
    "import s6_display_results as dr\n",
    "# access parent directory from notebooks directory\n",
    "currentdir = os.path.dirname(os.path.abspath(inspect.getfile(inspect.currentframe())))\n",
    "parentdir = os.path.dirname(currentdir)\n",
    "sys.path.insert(0, parentdir)\n",
    "%load_ext autoreload\n",
    "%autoreload 2\n",
    "%reload_ext autoreload"
   ]
  },
  {
   "cell_type": "code",
   "execution_count": 2,
   "id": "48ba2c51-9ed6-420a-b4dd-aadcdadbc8ff",
   "metadata": {},
   "outputs": [],
   "source": [
    "df = dr.get_input_data()"
   ]
  },
  {
   "cell_type": "code",
   "execution_count": 67,
   "id": "df172b12-2bad-4b57-bb43-7484a9cc4767",
   "metadata": {},
   "outputs": [
    {
     "data": {
      "application/vnd.jupyter.widget-view+json": {
       "model_id": "c59fb1c01007499d93153a68202f6f3c",
       "version_major": 2,
       "version_minor": 0
      },
      "text/plain": [
       "interactive(children=(Dropdown(description='User:', index=1, options=('All', 'U1', 'U0', 'U8', 'U2', 'U3', 'U9…"
      ]
     },
     "metadata": {},
     "output_type": "display_data"
    }
   ],
   "source": [
    "dr.display_interactive_dataframe(df)"
   ]
  },
  {
   "cell_type": "code",
   "execution_count": null,
   "id": "17208995-ba24-4111-bee6-8a1fc398d72f",
   "metadata": {},
   "outputs": [],
   "source": []
  }
 ],
 "metadata": {
  "kernelspec": {
   "display_name": "Python (llm-evaluate)",
   "language": "python",
   "name": "llm-evaluate"
  },
  "language_info": {
   "codemirror_mode": {
    "name": "ipython",
    "version": 3
   },
   "file_extension": ".py",
   "mimetype": "text/x-python",
   "name": "python",
   "nbconvert_exporter": "python",
   "pygments_lexer": "ipython3",
   "version": "3.11.7"
  }
 },
 "nbformat": 4,
 "nbformat_minor": 5
}
