{
 "cells": [
  {
   "cell_type": "code",
   "execution_count": 4,
   "id": "4ce6464e-884b-4358-b65c-099d0c4dea6e",
   "metadata": {
    "ExecuteTime": {
     "end_time": "2024-02-20T21:03:54.259484Z",
     "start_time": "2024-02-20T21:03:54.184810Z"
    },
    "collapsed": false,
    "jupyter": {
     "outputs_hidden": false
    }
   },
   "outputs": [
    {
     "name": "stdout",
     "output_type": "stream",
     "text": [
      "The autoreload extension is already loaded. To reload it, use:\n",
      "  %reload_ext autoreload\n"
     ]
    }
   ],
   "source": [
    "import pandas as pd\n",
    "import sys\n",
    "import os\n",
    "import inspect\n",
    "import s3_postprocess_tst as ptst\n",
    "\n",
    "# access parent directory from notebooks directory\n",
    "currentdir = os.path.dirname(os.path.abspath(inspect.getfile(inspect.currentframe())))\n",
    "parentdir = os.path.dirname(currentdir)\n",
    "sys.path.insert(0, parentdir)\n",
    "%load_ext autoreload\n",
    "%autoreload 2\n",
    "%reload_ext autoreload"
   ]
  },
  {
   "cell_type": "markdown",
   "id": "c4083a67-0aa3-43be-9cc7-ef5c77167a10",
   "metadata": {},
   "source": [
    "### Fixing Json"
   ]
  },
  {
   "cell_type": "code",
   "execution_count": 2,
   "id": "780225f5-a79e-47d4-813c-41dfa3afb6c4",
   "metadata": {},
   "outputs": [],
   "source": [
    "output_folder = 'Prompts_Context/'"
   ]
  },
  {
   "cell_type": "code",
   "execution_count": null,
   "id": "39eb87d2-0818-4a30-adac-2f8f7c00518d",
   "metadata": {},
   "outputs": [],
   "source": [
    "ptst.process_json(output_folder)"
   ]
  },
  {
   "cell_type": "code",
   "execution_count": null,
   "id": "c27f43c2-3a9b-4b1e-acdc-9b24693709cf",
   "metadata": {},
   "outputs": [],
   "source": [
    "# REMOVE EXTRA SENTENCE LOGIC\n",
    "\n",
    "# output_llm_folder_path = 'Prompts_NoContext_Fixed_Ten_Sentences/'\n",
    "\n",
    "# # file_finder = “user_” + username + “_promptID_” + prompt_id + ‘_model_‘+ gpt_m + ‘_shots_’ + str(df_shots.shape[0])\n",
    "# files_affected = 0\n",
    "# for filename in os.listdir(output_llm_folder_path):\n",
    "#     if filename.endswith(\".csv\"):\n",
    "#         files_affected = files_affected + 1\n",
    "#         # File matches the pattern, open it as a DataFrame\n",
    "#         file_path = os.path.join(output_llm_folder_path, filename)\n",
    "#         df = pd.read_csv(file_path)        \n",
    "#         # Drop the last row\n",
    "#         if(df.shape[0]>10):\n",
    "#             df = df.drop(df.index[-1])\n",
    "        \n",
    "#         df.to_csv(output_llm_folder_path+filename, index=False)\n",
    "#         print('Updated: ',filename)\n",
    "# print('Files affected: ',files_affected)"
   ]
  },
  {
   "cell_type": "markdown",
   "id": "e7653041-71ec-4a6c-a5e8-39b3d93e8540",
   "metadata": {},
   "source": [
    "### Creating Prompting csv files for the evaluation"
   ]
  },
  {
   "cell_type": "code",
   "execution_count": 5,
   "id": "initial_id",
   "metadata": {
    "ExecuteTime": {
     "end_time": "2024-02-20T21:03:57.139877Z",
     "start_time": "2024-02-20T21:03:54.870846Z"
    }
   },
   "outputs": [],
   "source": [
    "ptst.create_tst_evaluation_ready_files()"
   ]
  }
 ],
 "metadata": {
  "kernelspec": {
   "display_name": "Python 3 (ipykernel)",
   "language": "python",
   "name": "python3"
  },
  "language_info": {
   "codemirror_mode": {
    "name": "ipython",
    "version": 3
   },
   "file_extension": ".py",
   "mimetype": "text/x-python",
   "name": "python",
   "nbconvert_exporter": "python",
   "pygments_lexer": "ipython3",
   "version": "3.8.18"
  }
 },
 "nbformat": 4,
 "nbformat_minor": 5
}
