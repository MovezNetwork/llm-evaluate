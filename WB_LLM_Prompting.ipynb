{
 "cells": [
  {
   "cell_type": "code",
   "execution_count": 1,
   "id": "41124f80-dc0c-472a-b22f-93fd4ba3c302",
   "metadata": {},
   "outputs": [],
   "source": [
    "import mlflow\n",
    "import pandas as pd\n",
    "from openai import OpenAI\n",
    "import os\n",
    "from wandb.sdk.data_types.trace_tree import Trace\n",
    "import wandb\n",
    "import configparser"
   ]
  },
  {
   "cell_type": "code",
   "execution_count": 20,
   "id": "ce318fbc-ed1c-4187-a95c-6f106ccc8a39",
   "metadata": {},
   "outputs": [],
   "source": [
    "config = configparser.ConfigParser()\n",
    "# Read the configuration file\n",
    "config.read('config.ini')\n",
    "api_key_openai = config.get('credentials', 'api_key_openai')\n",
    "api_key_mistral = config.get('credentials', 'api_key_mistral')\n",
    "surfdrive_url_input_sentences = config.get('credentials', 'surfdrive_url_input_sentences')\n",
    "surfdrive_url_prompts = config.get('credentials', 'surfdrive_url_prompts')"
   ]
  },
  {
   "cell_type": "markdown",
   "id": "2eab578b-9109-4828-a0b3-a68074de152b",
   "metadata": {},
   "source": [
    "### Input Prompts"
   ]
  },
  {
   "cell_type": "code",
   "execution_count": 21,
   "id": "9a2ee405-fccc-4d10-9915-284ad7e533ba",
   "metadata": {},
   "outputs": [
    {
     "data": {
      "text/plain": [
       "0     I’m all about that food. I usually kick off th...\n",
       "1     Just getting my vitamins in at the school cant...\n",
       "2     De Pizzabakkers sell this vegan pizza with che...\n",
       "3     I entered the world of vegan foods lately. Nex...\n",
       "4     This vegan fried chicken from KFC is on the sp...\n",
       "5     Just having this vegan hotdog from the school ...\n",
       "6     Just had my first vegan cake at \"groene bakker...\n",
       "7     This vegan chocolate is on point. Its with oat...\n",
       "8     I'm all about fast food. I'm having some fries...\n",
       "9     I went to the \"Groene Burger\" fast food restau...\n",
       "10    I am at the food feestje in \"Koningsplein\". I ...\n",
       "11    I just ate a vegan schnitzel. The flavors and ...\n",
       "12    The school canteen has vegan Buddha bowls late...\n",
       "13    I am all over this Italian restaurant. I had s...\n",
       "14    I am having some new food: vegan Magnum. Just ...\n",
       "15    I'm going through the city. I am going for som...\n",
       "16    I am having a midday snack later outside. Soy ...\n",
       "17    I am all about hot chocolate and some baked th...\n",
       "18    I am going to city centre in a bit. Having som...\n",
       "19    There is mexican week at the school canteen. T...\n",
       "20    It’s all about hot chocolate. Tony chocolonely...\n",
       "21    I entered the world of vegan food lately. My f...\n",
       "Name: sentences, dtype: object"
      ]
     },
     "execution_count": 21,
     "metadata": {},
     "output_type": "execute_result"
    }
   ],
   "source": [
    "neutral_sentences = pd.read_csv(surfdrive_url_input_sentences,sep=';')['sentences']\n",
    "neutral_sentences"
   ]
  },
  {
   "cell_type": "code",
   "execution_count": 44,
   "id": "b52029d8-6ff0-4771-b455-a454d741d64f",
   "metadata": {},
   "outputs": [
    {
     "data": {
      "text/plain": [
       "pandas.core.frame.DataFrame"
      ]
     },
     "execution_count": 44,
     "metadata": {},
     "output_type": "execute_result"
    }
   ],
   "source": [
    "df_prompts = pd.read_csv(surfdrive_url_prompts,sep=';').reset_index()\n",
    "type(df_prompts)"
   ]
  },
  {
   "cell_type": "code",
   "execution_count": 67,
   "id": "23b89f34-3840-4de3-80c9-6d929c58aa02",
   "metadata": {},
   "outputs": [
    {
     "name": "stdout",
     "output_type": "stream",
     "text": [
      "Here is some text {your_replacement_string}. Here is a rewrite of the text, which is more positive { \n"
     ]
    }
   ],
   "source": [
    "prompt_string = df_prompts['promptContent'][0]\n",
    "replacement_string = \"your_replacement_string\"\n",
    "\n",
    "prompt_string = f\"{prompt_string.replace('{}', f'{{{replacement_string}}}')}\"\n",
    "\n",
    "print(prompt_string)"
   ]
  },
  {
   "cell_type": "markdown",
   "id": "cfe18922-5ba1-465d-a674-b0ae98faf3a3",
   "metadata": {},
   "source": [
    "### Mixtral Setup"
   ]
  },
  {
   "cell_type": "code",
   "execution_count": 3,
   "id": "bcedf9dc-ae65-483e-8522-dd09a5feebf9",
   "metadata": {},
   "outputs": [
    {
     "name": "stdout",
     "output_type": "stream",
     "text": [
      "0\n",
      "1\n",
      "2\n",
      "3\n",
      "4\n",
      "5\n",
      "6\n",
      "7\n"
     ]
    }
   ],
   "source": [
    "from mistralai.client import MistralClient\n",
    "from mistralai.models.chat_completion import ChatMessage\n",
    "\n",
    "model = \"mistral-medium\"\n",
    "final_output = []\n",
    "client = MistralClient(api_key=os.environ[\"MISTRAL_API_KEY\"])\n",
    "\n",
    "\n",
    "num_prompts = df_prompt.shape[0]\n",
    "\n",
    "for i in range(0,num_prompts-1):\n",
    "    query = df_prompt['rewritten'][i]\n",
    "    original = df_prompt['original'][i]\n",
    "    messages = [\n",
    "        ChatMessage(role = \"user\", content = query)\n",
    "    ]\n",
    "    \n",
    "    # No streaming\n",
    "    chat_response = client.chat(\n",
    "        model=model,\n",
    "        messages=messages,\n",
    "    )\n",
    "    \n",
    "    final_output.append({'original': original,'output': chat_response.choices[0].message.content,\"model\": chat_response.model, \"prompt_tokens\" : chat_response.usage.prompt_tokens,\"completion_tokens\" : chat_response.usage.completion_tokens,\"object\" : chat_response.object})\n",
    "\n",
    "df_mistral_output = pd.DataFrame(final_output)"
   ]
  },
  {
   "cell_type": "code",
   "execution_count": 4,
   "id": "f2445c69-3cc3-4185-9588-e3a1cbabcdd6",
   "metadata": {},
   "outputs": [
    {
     "name": "stderr",
     "output_type": "stream",
     "text": [
      "2024-01-29 16:29:30,820 ERROR wandb.jupyter: Failed to detect the name of this notebook, you can set it manually with the WANDB_NOTEBOOK_NAME environment variable to enable code saving.\n",
      "\u001b[34m\u001b[1mwandb\u001b[0m: Currently logged in as: \u001b[33mbojan-2110\u001b[0m. Use \u001b[1m`wandb login --relogin`\u001b[0m to force relogin\n"
     ]
    },
    {
     "data": {
      "text/html": [
       "Tracking run with wandb version 0.16.2"
      ],
      "text/plain": [
       "<IPython.core.display.HTML object>"
      ]
     },
     "metadata": {},
     "output_type": "display_data"
    },
    {
     "data": {
      "text/html": [
       "Run data is saved locally in <code>/Users/bojansimoski/dev/eur/llm-evaluate/wandb/run-20240129_162933-fuf44thj</code>"
      ],
      "text/plain": [
       "<IPython.core.display.HTML object>"
      ]
     },
     "metadata": {},
     "output_type": "display_data"
    },
    {
     "data": {
      "text/html": [
       "Syncing run <strong><a href='https://wandb.ai/bojan-2110/lmm-evaluate/runs/fuf44thj' target=\"_blank\">mistral-medium-run</a></strong> to <a href='https://wandb.ai/bojan-2110/lmm-evaluate' target=\"_blank\">Weights & Biases</a> (<a href='https://wandb.me/run' target=\"_blank\">docs</a>)<br/>"
      ],
      "text/plain": [
       "<IPython.core.display.HTML object>"
      ]
     },
     "metadata": {},
     "output_type": "display_data"
    },
    {
     "data": {
      "text/html": [
       " View project at <a href='https://wandb.ai/bojan-2110/lmm-evaluate' target=\"_blank\">https://wandb.ai/bojan-2110/lmm-evaluate</a>"
      ],
      "text/plain": [
       "<IPython.core.display.HTML object>"
      ]
     },
     "metadata": {},
     "output_type": "display_data"
    },
    {
     "data": {
      "text/html": [
       " View run at <a href='https://wandb.ai/bojan-2110/lmm-evaluate/runs/fuf44thj' target=\"_blank\">https://wandb.ai/bojan-2110/lmm-evaluate/runs/fuf44thj</a>"
      ],
      "text/plain": [
       "<IPython.core.display.HTML object>"
      ]
     },
     "metadata": {},
     "output_type": "display_data"
    },
    {
     "data": {
      "text/html": [
       " View run <strong style=\"color:#cdcd00\">mistral-medium-run</strong> at: <a href='https://wandb.ai/bojan-2110/lmm-evaluate/runs/fuf44thj' target=\"_blank\">https://wandb.ai/bojan-2110/lmm-evaluate/runs/fuf44thj</a><br/>Synced 5 W&B file(s), 1 media file(s), 2 artifact file(s) and 0 other file(s)"
      ],
      "text/plain": [
       "<IPython.core.display.HTML object>"
      ]
     },
     "metadata": {},
     "output_type": "display_data"
    },
    {
     "data": {
      "text/html": [
       "Find logs at: <code>./wandb/run-20240129_162933-fuf44thj/logs</code>"
      ],
      "text/plain": [
       "<IPython.core.display.HTML object>"
      ]
     },
     "metadata": {},
     "output_type": "display_data"
    }
   ],
   "source": [
    "wandb.init(project=\"lmm-evaluate\", name=\"mistral-medium-run\")\n",
    "# log df as a table to W&B for interactive exploration\n",
    "wandb.log({\"free_style_transfer_mistral_medium_\": wandb.Table(dataframe=df_mistral_output)})\n",
    "\n",
    "df_mistral_output.to_csv(\"df_mistral_medium_output.csv\")\n",
    "\n",
    "# log csv file as an dataset artifact to W&B for later use\n",
    "\n",
    "artifact = wandb.Artifact(\"df_mistral_medium_output\", type=\"dataset\")\n",
    "artifact.add_file(\"df_mistral_medium_output.csv\")\n",
    "wandb.log_artifact(artifact)\n",
    "\n",
    "wandb.finish()"
   ]
  },
  {
   "cell_type": "markdown",
   "id": "2525d2c9-7852-4138-8dfe-cf881a9672e8",
   "metadata": {},
   "source": [
    "### gpt-3.5-turbo Setup"
   ]
  },
  {
   "cell_type": "code",
   "execution_count": 27,
   "id": "bbb8913e-3282-4b41-b81f-af9ee5fd5fcc",
   "metadata": {},
   "outputs": [],
   "source": [
    "# client = OpenAI()\n",
    "# system_msg = \"You are an expert in text style transfer.\"\n",
    "# temperature=0.2\n",
    "# max_tokens=256\n",
    "# frequency_penalty=0.0\n",
    "\n",
    "# final_output = []\n",
    "# num_prompts = df_prompt.shape[0]\n",
    "\n",
    "# query = df_prompt['rewritten'][1]\n",
    "# original = df_prompt['original'][1]\n",
    "# message=[{\"role\": \"system\", \"content\": system_msg}, {\"role\": \"user\", \"content\":query}]\n",
    "# chat_response = client.chat.completions.create(\n",
    "#     model=\"gpt-3.5-turbo\",\n",
    "#     messages = message,\n",
    "#     temperature=temperature,\n",
    "#     max_tokens=max_tokens,\n",
    "#     frequency_penalty=frequency_penalty\n",
    "# )\n",
    "\n",
    "# print(chat_response)"
   ]
  },
  {
   "cell_type": "code",
   "execution_count": 18,
   "id": "cc25ad99-1cd4-410c-9545-e7b4ed82c125",
   "metadata": {},
   "outputs": [
    {
     "name": "stdout",
     "output_type": "stream",
     "text": [
      "Here is some text: {Embrace the power of plant-based nutrition for a healthier you!}. Here is a rewrite of the text, which is more positive: {\n",
      "Here is some text: {Discover the joy of eating fresh fruits and vegetables every day.}. Here is a rewrite of the text, which is more positive: {\n",
      "Here is some text: {Going green with your diet can lead to a lighter, brighter you!}. Here is a rewrite of the text, which is more positive: {\n",
      "Here is some text: {Explore the world of tasty and nutritious meat-free meals.}. Here is a rewrite of the text, which is more positive: {\n",
      "Here is some text: {Feel energized and revitalized with whole, plant-based foods.}. Here is a rewrite of the text, which is more positive: {\n",
      "Here is some text: {Make every meal an adventure with colorful, vegan dishes.}. Here is a rewrite of the text, which is more positive: {\n",
      "Here is some text: {Nourish your body and soul with nature’s best offerings.}. Here is a rewrite of the text, which is more positive: {\n",
      "Here is some text: {Reduce your carbon footprint one meal at a time with vegetarian choices.}. Here is a rewrite of the text, which is more positive: {\n"
     ]
    }
   ],
   "source": [
    "client = OpenAI()\n",
    "system_msg = \"You are an expert in text style transfer.\"\n",
    "temperature=0.2\n",
    "max_tokens=256\n",
    "frequency_penalty=0.0\n",
    "\n",
    "final_output = []\n",
    "num_prompts = df_prompt.shape[0]\n",
    "\n",
    "for i in range(0,num_prompts-1):\n",
    "    query = df_prompt['rewritten'][i]\n",
    "    original = df_prompt['original'][i]\n",
    "    message=[{\"role\": \"system\", \"content\": system_msg}, {\"role\": \"user\", \"content\":query}]\n",
    "    chat_response = client.chat.completions.create(\n",
    "        model=\"gpt-3.5-turbo\",\n",
    "        messages = message,\n",
    "        temperature=temperature,\n",
    "        max_tokens=max_tokens,\n",
    "        frequency_penalty=frequency_penalty\n",
    "    )\n",
    "    final_output.append({'original': original,'output': chat_response.choices[0].message.content,\"model\": chat_response.model, \"prompt_tokens\" : chat_response.usage.prompt_tokens,\"completion_tokens\" : chat_response.usage.completion_tokens,\"object\" : chat_response.object, \"temperature\": temperature})\n",
    "\n",
    "df_gpt_35_output = pd.DataFrame(final_output)"
   ]
  },
  {
   "cell_type": "code",
   "execution_count": 21,
   "id": "11d17c23-6430-4c86-b077-20fda5af022d",
   "metadata": {},
   "outputs": [
    {
     "data": {
      "text/html": [
       "Finishing last run (ID:7awlg35w) before initializing another..."
      ],
      "text/plain": [
       "<IPython.core.display.HTML object>"
      ]
     },
     "metadata": {},
     "output_type": "display_data"
    },
    {
     "data": {
      "text/html": [
       " View run <strong style=\"color:#cdcd00\">gpt-3-5-run</strong> at: <a href='https://wandb.ai/bojan-2110/lmm-evaluate/runs/7awlg35w' target=\"_blank\">https://wandb.ai/bojan-2110/lmm-evaluate/runs/7awlg35w</a><br/>Synced 5 W&B file(s), 1 media file(s), 1 artifact file(s) and 0 other file(s)"
      ],
      "text/plain": [
       "<IPython.core.display.HTML object>"
      ]
     },
     "metadata": {},
     "output_type": "display_data"
    },
    {
     "data": {
      "text/html": [
       "Find logs at: <code>./wandb/run-20240129_175905-7awlg35w/logs</code>"
      ],
      "text/plain": [
       "<IPython.core.display.HTML object>"
      ]
     },
     "metadata": {},
     "output_type": "display_data"
    },
    {
     "data": {
      "text/html": [
       "Successfully finished last run (ID:7awlg35w). Initializing new run:<br/>"
      ],
      "text/plain": [
       "<IPython.core.display.HTML object>"
      ]
     },
     "metadata": {},
     "output_type": "display_data"
    },
    {
     "data": {
      "text/html": [
       "Tracking run with wandb version 0.16.2"
      ],
      "text/plain": [
       "<IPython.core.display.HTML object>"
      ]
     },
     "metadata": {},
     "output_type": "display_data"
    },
    {
     "data": {
      "text/html": [
       "Run data is saved locally in <code>/Users/bojansimoski/dev/eur/llm-evaluate/wandb/run-20240129_175920-5xu9zkx0</code>"
      ],
      "text/plain": [
       "<IPython.core.display.HTML object>"
      ]
     },
     "metadata": {},
     "output_type": "display_data"
    },
    {
     "data": {
      "text/html": [
       "Syncing run <strong><a href='https://wandb.ai/bojan-2110/lmm-evaluate/runs/5xu9zkx0' target=\"_blank\">gpt-3-5-run</a></strong> to <a href='https://wandb.ai/bojan-2110/lmm-evaluate' target=\"_blank\">Weights & Biases</a> (<a href='https://wandb.me/run' target=\"_blank\">docs</a>)<br/>"
      ],
      "text/plain": [
       "<IPython.core.display.HTML object>"
      ]
     },
     "metadata": {},
     "output_type": "display_data"
    },
    {
     "data": {
      "text/html": [
       " View project at <a href='https://wandb.ai/bojan-2110/lmm-evaluate' target=\"_blank\">https://wandb.ai/bojan-2110/lmm-evaluate</a>"
      ],
      "text/plain": [
       "<IPython.core.display.HTML object>"
      ]
     },
     "metadata": {},
     "output_type": "display_data"
    },
    {
     "data": {
      "text/html": [
       " View run at <a href='https://wandb.ai/bojan-2110/lmm-evaluate/runs/5xu9zkx0' target=\"_blank\">https://wandb.ai/bojan-2110/lmm-evaluate/runs/5xu9zkx0</a>"
      ],
      "text/plain": [
       "<IPython.core.display.HTML object>"
      ]
     },
     "metadata": {},
     "output_type": "display_data"
    },
    {
     "data": {
      "text/html": [
       " View run <strong style=\"color:#cdcd00\">gpt-3-5-run</strong> at: <a href='https://wandb.ai/bojan-2110/lmm-evaluate/runs/5xu9zkx0' target=\"_blank\">https://wandb.ai/bojan-2110/lmm-evaluate/runs/5xu9zkx0</a><br/>Synced 5 W&B file(s), 1 media file(s), 2 artifact file(s) and 0 other file(s)"
      ],
      "text/plain": [
       "<IPython.core.display.HTML object>"
      ]
     },
     "metadata": {},
     "output_type": "display_data"
    },
    {
     "data": {
      "text/html": [
       "Find logs at: <code>./wandb/run-20240129_175920-5xu9zkx0/logs</code>"
      ],
      "text/plain": [
       "<IPython.core.display.HTML object>"
      ]
     },
     "metadata": {},
     "output_type": "display_data"
    }
   ],
   "source": [
    "wandb.init(project=\"lmm-evaluate\", name=\"gpt-3-5-run\")\n",
    "# log df as a table to W&B for interactive exploration\n",
    "wandb.log({\"free_style_transfer_gpt_3_5_\": wandb.Table(dataframe=df_gpt_35_output)})\n",
    "\n",
    "df_gpt_35_output.to_csv(\"df_gpt_3_5_output.csv\")\n",
    "\n",
    "# log csv file as an dataset artifact to W&B for later use\n",
    "\n",
    "artifact = wandb.Artifact(\"df_gpt_3_5_output\", type=\"dataset\")\n",
    "artifact.add_file(\"df_gpt_3_5_output.csv\")\n",
    "wandb.log_artifact(artifact)\n",
    "\n",
    "wandb.finish()"
   ]
  },
  {
   "cell_type": "markdown",
   "id": "191179e4-8be4-403e-9076-1a82518a1f1b",
   "metadata": {},
   "source": [
    "### gpt 4 setup"
   ]
  },
  {
   "cell_type": "code",
   "execution_count": 22,
   "id": "cf2d560e-c96e-47d1-9a72-d74c0e8a2198",
   "metadata": {},
   "outputs": [],
   "source": [
    "client = OpenAI()\n",
    "system_msg = \"You are an expert in text style transfer.\"\n",
    "temperature = 0.2\n",
    "max_tokens = 256\n",
    "frequency_penalty = 0.0\n",
    "\n",
    "final_output = []\n",
    "num_prompts = df_prompt.shape[0]\n",
    "for i in range(0,num_prompts-1):\n",
    "    query = df_prompt['rewritten'][i]\n",
    "    original = df_prompt['original'][i]\n",
    "    message=[{\"role\": \"system\", \"content\": system_msg}, {\"role\": \"user\", \"content\":query}]\n",
    "    chat_response = client.chat.completions.create(\n",
    "        model=\"gpt-4\",\n",
    "        messages = message,\n",
    "        temperature=temperature,\n",
    "        max_tokens=max_tokens,\n",
    "        frequency_penalty=frequency_penalty\n",
    "    )\n",
    "    final_output.append({'original': original,'output': chat_response.choices[0].message.content,\"model\": chat_response.model, \"prompt_tokens\" : chat_response.usage.prompt_tokens,\"completion_tokens\" : chat_response.usage.completion_tokens,\"object\" : chat_response.object, \"temperature\": temperature})\n",
    "\n",
    "df_gpt_4_output = pd.DataFrame(final_output)"
   ]
  },
  {
   "cell_type": "code",
   "execution_count": 24,
   "id": "a5d606d2-504c-41b0-aaf3-2dd302cd8e14",
   "metadata": {},
   "outputs": [
    {
     "data": {
      "text/html": [
       "Tracking run with wandb version 0.16.2"
      ],
      "text/plain": [
       "<IPython.core.display.HTML object>"
      ]
     },
     "metadata": {},
     "output_type": "display_data"
    },
    {
     "data": {
      "text/html": [
       "Run data is saved locally in <code>/Users/bojansimoski/dev/eur/llm-evaluate/wandb/run-20240129_181250-x5m7wsrl</code>"
      ],
      "text/plain": [
       "<IPython.core.display.HTML object>"
      ]
     },
     "metadata": {},
     "output_type": "display_data"
    },
    {
     "data": {
      "text/html": [
       "Syncing run <strong><a href='https://wandb.ai/bojan-2110/lmm-evaluate/runs/x5m7wsrl' target=\"_blank\">gpt-4-run</a></strong> to <a href='https://wandb.ai/bojan-2110/lmm-evaluate' target=\"_blank\">Weights & Biases</a> (<a href='https://wandb.me/run' target=\"_blank\">docs</a>)<br/>"
      ],
      "text/plain": [
       "<IPython.core.display.HTML object>"
      ]
     },
     "metadata": {},
     "output_type": "display_data"
    },
    {
     "data": {
      "text/html": [
       " View project at <a href='https://wandb.ai/bojan-2110/lmm-evaluate' target=\"_blank\">https://wandb.ai/bojan-2110/lmm-evaluate</a>"
      ],
      "text/plain": [
       "<IPython.core.display.HTML object>"
      ]
     },
     "metadata": {},
     "output_type": "display_data"
    },
    {
     "data": {
      "text/html": [
       " View run at <a href='https://wandb.ai/bojan-2110/lmm-evaluate/runs/x5m7wsrl' target=\"_blank\">https://wandb.ai/bojan-2110/lmm-evaluate/runs/x5m7wsrl</a>"
      ],
      "text/plain": [
       "<IPython.core.display.HTML object>"
      ]
     },
     "metadata": {},
     "output_type": "display_data"
    },
    {
     "data": {
      "text/html": [
       " View run <strong style=\"color:#cdcd00\">gpt-4-run</strong> at: <a href='https://wandb.ai/bojan-2110/lmm-evaluate/runs/x5m7wsrl' target=\"_blank\">https://wandb.ai/bojan-2110/lmm-evaluate/runs/x5m7wsrl</a><br/>Synced 5 W&B file(s), 1 media file(s), 2 artifact file(s) and 0 other file(s)"
      ],
      "text/plain": [
       "<IPython.core.display.HTML object>"
      ]
     },
     "metadata": {},
     "output_type": "display_data"
    },
    {
     "data": {
      "text/html": [
       "Find logs at: <code>./wandb/run-20240129_181250-x5m7wsrl/logs</code>"
      ],
      "text/plain": [
       "<IPython.core.display.HTML object>"
      ]
     },
     "metadata": {},
     "output_type": "display_data"
    }
   ],
   "source": [
    "wandb.init(project=\"lmm-evaluate\", name=\"gpt-4-run\")\n",
    "# log df as a table to W&B for interactive exploration\n",
    "wandb.log({\"free_style_transfer_gpt_4_\": wandb.Table(dataframe=df_gpt_4_output)})\n",
    "\n",
    "df_gpt_4_output.to_csv(\"df_gpt_4_output.csv\")\n",
    "\n",
    "# log csv file as an dataset artifact to W&B for later use\n",
    "\n",
    "artifact = wandb.Artifact(\"df_gpt_4_output\", type=\"dataset\")\n",
    "artifact.add_file(\"df_gpt_4_output.csv\")\n",
    "wandb.log_artifact(artifact)\n",
    "\n",
    "wandb.finish()"
   ]
  }
 ],
 "metadata": {
  "kernelspec": {
   "display_name": "Python (llm-evaluate)",
   "language": "python",
   "name": "llm-evaluate"
  },
  "language_info": {
   "codemirror_mode": {
    "name": "ipython",
    "version": 3
   },
   "file_extension": ".py",
   "mimetype": "text/x-python",
   "name": "python",
   "nbconvert_exporter": "python",
   "pygments_lexer": "ipython3",
   "version": "3.11.7"
  }
 },
 "nbformat": 4,
 "nbformat_minor": 5
}
