{
 "cells": [
  {
   "cell_type": "code",
   "execution_count": 7,
   "id": "41124f80-dc0c-472a-b22f-93fd4ba3c302",
   "metadata": {},
   "outputs": [],
   "source": [
    "import mlflow\n",
    "import pandas as pd\n",
    "from openai import OpenAI\n",
    "import os\n",
    "from wandb.sdk.data_types.trace_tree import Trace\n",
    "import wandb\n",
    "import configparser"
   ]
  },
  {
   "cell_type": "code",
   "execution_count": 10,
   "id": "ce318fbc-ed1c-4187-a95c-6f106ccc8a39",
   "metadata": {},
   "outputs": [],
   "source": [
    "config = configparser.ConfigParser()\n",
    "# Read the configuration file\n",
    "config.read('config.ini')\n",
    "api_key_openai = config.get('credentials', 'api_key_openai')\n",
    "api_key_mistral = config.get('credentials', 'api_key_mistral')\n",
    "surfdrive_url_input_sentences = config.get('credentials', 'surfdrive_url_input_sentences')"
   ]
  },
  {
   "cell_type": "markdown",
   "id": "2eab578b-9109-4828-a0b3-a68074de152b",
   "metadata": {},
   "source": [
    "### Input Prompts"
   ]
  },
  {
   "cell_type": "code",
   "execution_count": 11,
   "id": "9a2ee405-fccc-4d10-9915-284ad7e533ba",
   "metadata": {},
   "outputs": [
    {
     "data": {
      "text/html": [
       "<div>\n",
       "<style scoped>\n",
       "    .dataframe tbody tr th:only-of-type {\n",
       "        vertical-align: middle;\n",
       "    }\n",
       "\n",
       "    .dataframe tbody tr th {\n",
       "        vertical-align: top;\n",
       "    }\n",
       "\n",
       "    .dataframe thead th {\n",
       "        text-align: right;\n",
       "    }\n",
       "</style>\n",
       "<table border=\"1\" class=\"dataframe\">\n",
       "  <thead>\n",
       "    <tr style=\"text-align: right;\">\n",
       "      <th></th>\n",
       "      <th>original</th>\n",
       "      <th>rewritten</th>\n",
       "    </tr>\n",
       "  </thead>\n",
       "  <tbody>\n",
       "    <tr>\n",
       "      <th>0</th>\n",
       "      <td>Embrace the power of plant-based nutrition for...</td>\n",
       "      <td>Here is some text: {Embrace the power of plant...</td>\n",
       "    </tr>\n",
       "    <tr>\n",
       "      <th>1</th>\n",
       "      <td>Discover the joy of eating fresh fruits and ve...</td>\n",
       "      <td>Here is some text: {Discover the joy of eating...</td>\n",
       "    </tr>\n",
       "    <tr>\n",
       "      <th>2</th>\n",
       "      <td>Going green with your diet can lead to a light...</td>\n",
       "      <td>Here is some text: {Going green with your diet...</td>\n",
       "    </tr>\n",
       "    <tr>\n",
       "      <th>3</th>\n",
       "      <td>Explore the world of tasty and nutritious meat...</td>\n",
       "      <td>Here is some text: {Explore the world of tasty...</td>\n",
       "    </tr>\n",
       "    <tr>\n",
       "      <th>4</th>\n",
       "      <td>Feel energized and revitalized with whole, pla...</td>\n",
       "      <td>Here is some text: {Feel energized and revital...</td>\n",
       "    </tr>\n",
       "    <tr>\n",
       "      <th>5</th>\n",
       "      <td>Make every meal an adventure with colorful, ve...</td>\n",
       "      <td>Here is some text: {Make every meal an adventu...</td>\n",
       "    </tr>\n",
       "    <tr>\n",
       "      <th>6</th>\n",
       "      <td>Nourish your body and soul with nature’s best ...</td>\n",
       "      <td>Here is some text: {Nourish your body and soul...</td>\n",
       "    </tr>\n",
       "    <tr>\n",
       "      <th>7</th>\n",
       "      <td>Reduce your carbon footprint one meal at a tim...</td>\n",
       "      <td>Here is some text: {Reduce your carbon footpri...</td>\n",
       "    </tr>\n",
       "    <tr>\n",
       "      <th>8</th>\n",
       "      <td>Unlock the secrets to longevity with a balance...</td>\n",
       "      <td>Here is some text: {Unlock the secrets to long...</td>\n",
       "    </tr>\n",
       "  </tbody>\n",
       "</table>\n",
       "</div>"
      ],
      "text/plain": [
       "                                            original  \\\n",
       "0  Embrace the power of plant-based nutrition for...   \n",
       "1  Discover the joy of eating fresh fruits and ve...   \n",
       "2  Going green with your diet can lead to a light...   \n",
       "3  Explore the world of tasty and nutritious meat...   \n",
       "4  Feel energized and revitalized with whole, pla...   \n",
       "5  Make every meal an adventure with colorful, ve...   \n",
       "6  Nourish your body and soul with nature’s best ...   \n",
       "7  Reduce your carbon footprint one meal at a tim...   \n",
       "8  Unlock the secrets to longevity with a balance...   \n",
       "\n",
       "                                           rewritten  \n",
       "0  Here is some text: {Embrace the power of plant...  \n",
       "1  Here is some text: {Discover the joy of eating...  \n",
       "2  Here is some text: {Going green with your diet...  \n",
       "3  Here is some text: {Explore the world of tasty...  \n",
       "4  Here is some text: {Feel energized and revital...  \n",
       "5  Here is some text: {Make every meal an adventu...  \n",
       "6  Here is some text: {Nourish your body and soul...  \n",
       "7  Here is some text: {Reduce your carbon footpri...  \n",
       "8  Here is some text: {Unlock the secrets to long...  "
      ]
     },
     "execution_count": 11,
     "metadata": {},
     "output_type": "execute_result"
    }
   ],
   "source": [
    "df_prompt = pd.read_csv(surfdrive_url_input_sentences,sep=',')[0:9]\n",
    "df_prompt"
   ]
  },
  {
   "cell_type": "markdown",
   "id": "cfe18922-5ba1-465d-a674-b0ae98faf3a3",
   "metadata": {},
   "source": [
    "### Mixtral Setup"
   ]
  },
  {
   "cell_type": "code",
   "execution_count": 3,
   "id": "bcedf9dc-ae65-483e-8522-dd09a5feebf9",
   "metadata": {},
   "outputs": [
    {
     "name": "stdout",
     "output_type": "stream",
     "text": [
      "0\n",
      "1\n",
      "2\n",
      "3\n",
      "4\n",
      "5\n",
      "6\n",
      "7\n"
     ]
    }
   ],
   "source": [
    "from mistralai.client import MistralClient\n",
    "from mistralai.models.chat_completion import ChatMessage\n",
    "\n",
    "model = \"mistral-medium\"\n",
    "final_output = []\n",
    "client = MistralClient(api_key=os.environ[\"MISTRAL_API_KEY\"])\n",
    "\n",
    "\n",
    "num_prompts = df_prompt.shape[0]\n",
    "\n",
    "for i in range(0,num_prompts-1):\n",
    "    query = df_prompt['rewritten'][i]\n",
    "    original = df_prompt['original'][i]\n",
    "    messages = [\n",
    "        ChatMessage(role = \"user\", content = query)\n",
    "    ]\n",
    "    \n",
    "    # No streaming\n",
    "    chat_response = client.chat(\n",
    "        model=model,\n",
    "        messages=messages,\n",
    "    )\n",
    "    \n",
    "    final_output.append({'original': original,'output': chat_response.choices[0].message.content,\"model\": chat_response.model, \"prompt_tokens\" : chat_response.usage.prompt_tokens,\"completion_tokens\" : chat_response.usage.completion_tokens,\"object\" : chat_response.object})\n",
    "\n",
    "df_mistral_output = pd.DataFrame(final_output)"
   ]
  },
  {
   "cell_type": "code",
   "execution_count": 4,
   "id": "f2445c69-3cc3-4185-9588-e3a1cbabcdd6",
   "metadata": {},
   "outputs": [
    {
     "name": "stderr",
     "output_type": "stream",
     "text": [
      "2024-01-29 16:29:30,820 ERROR wandb.jupyter: Failed to detect the name of this notebook, you can set it manually with the WANDB_NOTEBOOK_NAME environment variable to enable code saving.\n",
      "\u001b[34m\u001b[1mwandb\u001b[0m: Currently logged in as: \u001b[33mbojan-2110\u001b[0m. Use \u001b[1m`wandb login --relogin`\u001b[0m to force relogin\n"
     ]
    },
    {
     "data": {
      "text/html": [
       "Tracking run with wandb version 0.16.2"
      ],
      "text/plain": [
       "<IPython.core.display.HTML object>"
      ]
     },
     "metadata": {},
     "output_type": "display_data"
    },
    {
     "data": {
      "text/html": [
       "Run data is saved locally in <code>/Users/bojansimoski/dev/eur/llm-evaluate/wandb/run-20240129_162933-fuf44thj</code>"
      ],
      "text/plain": [
       "<IPython.core.display.HTML object>"
      ]
     },
     "metadata": {},
     "output_type": "display_data"
    },
    {
     "data": {
      "text/html": [
       "Syncing run <strong><a href='https://wandb.ai/bojan-2110/lmm-evaluate/runs/fuf44thj' target=\"_blank\">mistral-medium-run</a></strong> to <a href='https://wandb.ai/bojan-2110/lmm-evaluate' target=\"_blank\">Weights & Biases</a> (<a href='https://wandb.me/run' target=\"_blank\">docs</a>)<br/>"
      ],
      "text/plain": [
       "<IPython.core.display.HTML object>"
      ]
     },
     "metadata": {},
     "output_type": "display_data"
    },
    {
     "data": {
      "text/html": [
       " View project at <a href='https://wandb.ai/bojan-2110/lmm-evaluate' target=\"_blank\">https://wandb.ai/bojan-2110/lmm-evaluate</a>"
      ],
      "text/plain": [
       "<IPython.core.display.HTML object>"
      ]
     },
     "metadata": {},
     "output_type": "display_data"
    },
    {
     "data": {
      "text/html": [
       " View run at <a href='https://wandb.ai/bojan-2110/lmm-evaluate/runs/fuf44thj' target=\"_blank\">https://wandb.ai/bojan-2110/lmm-evaluate/runs/fuf44thj</a>"
      ],
      "text/plain": [
       "<IPython.core.display.HTML object>"
      ]
     },
     "metadata": {},
     "output_type": "display_data"
    },
    {
     "data": {
      "text/html": [
       " View run <strong style=\"color:#cdcd00\">mistral-medium-run</strong> at: <a href='https://wandb.ai/bojan-2110/lmm-evaluate/runs/fuf44thj' target=\"_blank\">https://wandb.ai/bojan-2110/lmm-evaluate/runs/fuf44thj</a><br/>Synced 5 W&B file(s), 1 media file(s), 2 artifact file(s) and 0 other file(s)"
      ],
      "text/plain": [
       "<IPython.core.display.HTML object>"
      ]
     },
     "metadata": {},
     "output_type": "display_data"
    },
    {
     "data": {
      "text/html": [
       "Find logs at: <code>./wandb/run-20240129_162933-fuf44thj/logs</code>"
      ],
      "text/plain": [
       "<IPython.core.display.HTML object>"
      ]
     },
     "metadata": {},
     "output_type": "display_data"
    }
   ],
   "source": [
    "wandb.init(project=\"lmm-evaluate\", name=\"mistral-medium-run\")\n",
    "# log df as a table to W&B for interactive exploration\n",
    "wandb.log({\"free_style_transfer_mistral_medium_\": wandb.Table(dataframe=df_mistral_output)})\n",
    "\n",
    "df_mistral_output.to_csv(\"df_mistral_medium_output.csv\")\n",
    "\n",
    "# log csv file as an dataset artifact to W&B for later use\n",
    "\n",
    "artifact = wandb.Artifact(\"df_mistral_medium_output\", type=\"dataset\")\n",
    "artifact.add_file(\"df_mistral_medium_output.csv\")\n",
    "wandb.log_artifact(artifact)\n",
    "\n",
    "wandb.finish()"
   ]
  },
  {
   "cell_type": "markdown",
   "id": "2525d2c9-7852-4138-8dfe-cf881a9672e8",
   "metadata": {},
   "source": [
    "### gpt-3.5-turbo Setup"
   ]
  },
  {
   "cell_type": "code",
   "execution_count": 27,
   "id": "bbb8913e-3282-4b41-b81f-af9ee5fd5fcc",
   "metadata": {},
   "outputs": [],
   "source": [
    "# client = OpenAI()\n",
    "# system_msg = \"You are an expert in text style transfer.\"\n",
    "# temperature=0.2\n",
    "# max_tokens=256\n",
    "# frequency_penalty=0.0\n",
    "\n",
    "# final_output = []\n",
    "# num_prompts = df_prompt.shape[0]\n",
    "\n",
    "# query = df_prompt['rewritten'][1]\n",
    "# original = df_prompt['original'][1]\n",
    "# message=[{\"role\": \"system\", \"content\": system_msg}, {\"role\": \"user\", \"content\":query}]\n",
    "# chat_response = client.chat.completions.create(\n",
    "#     model=\"gpt-3.5-turbo\",\n",
    "#     messages = message,\n",
    "#     temperature=temperature,\n",
    "#     max_tokens=max_tokens,\n",
    "#     frequency_penalty=frequency_penalty\n",
    "# )\n",
    "\n",
    "# print(chat_response)"
   ]
  },
  {
   "cell_type": "code",
   "execution_count": 18,
   "id": "cc25ad99-1cd4-410c-9545-e7b4ed82c125",
   "metadata": {},
   "outputs": [
    {
     "name": "stdout",
     "output_type": "stream",
     "text": [
      "Here is some text: {Embrace the power of plant-based nutrition for a healthier you!}. Here is a rewrite of the text, which is more positive: {\n",
      "Here is some text: {Discover the joy of eating fresh fruits and vegetables every day.}. Here is a rewrite of the text, which is more positive: {\n",
      "Here is some text: {Going green with your diet can lead to a lighter, brighter you!}. Here is a rewrite of the text, which is more positive: {\n",
      "Here is some text: {Explore the world of tasty and nutritious meat-free meals.}. Here is a rewrite of the text, which is more positive: {\n",
      "Here is some text: {Feel energized and revitalized with whole, plant-based foods.}. Here is a rewrite of the text, which is more positive: {\n",
      "Here is some text: {Make every meal an adventure with colorful, vegan dishes.}. Here is a rewrite of the text, which is more positive: {\n",
      "Here is some text: {Nourish your body and soul with nature’s best offerings.}. Here is a rewrite of the text, which is more positive: {\n",
      "Here is some text: {Reduce your carbon footprint one meal at a time with vegetarian choices.}. Here is a rewrite of the text, which is more positive: {\n"
     ]
    }
   ],
   "source": [
    "client = OpenAI()\n",
    "system_msg = \"You are an expert in text style transfer.\"\n",
    "temperature=0.2\n",
    "max_tokens=256\n",
    "frequency_penalty=0.0\n",
    "\n",
    "final_output = []\n",
    "num_prompts = df_prompt.shape[0]\n",
    "\n",
    "for i in range(0,num_prompts-1):\n",
    "    query = df_prompt['rewritten'][i]\n",
    "    original = df_prompt['original'][i]\n",
    "    message=[{\"role\": \"system\", \"content\": system_msg}, {\"role\": \"user\", \"content\":query}]\n",
    "    chat_response = client.chat.completions.create(\n",
    "        model=\"gpt-3.5-turbo\",\n",
    "        messages = message,\n",
    "        temperature=temperature,\n",
    "        max_tokens=max_tokens,\n",
    "        frequency_penalty=frequency_penalty\n",
    "    )\n",
    "    final_output.append({'original': original,'output': chat_response.choices[0].message.content,\"model\": chat_response.model, \"prompt_tokens\" : chat_response.usage.prompt_tokens,\"completion_tokens\" : chat_response.usage.completion_tokens,\"object\" : chat_response.object, \"temperature\": temperature})\n",
    "\n",
    "df_gpt_35_output = pd.DataFrame(final_output)"
   ]
  },
  {
   "cell_type": "code",
   "execution_count": 21,
   "id": "11d17c23-6430-4c86-b077-20fda5af022d",
   "metadata": {},
   "outputs": [
    {
     "data": {
      "text/html": [
       "Finishing last run (ID:7awlg35w) before initializing another..."
      ],
      "text/plain": [
       "<IPython.core.display.HTML object>"
      ]
     },
     "metadata": {},
     "output_type": "display_data"
    },
    {
     "data": {
      "text/html": [
       " View run <strong style=\"color:#cdcd00\">gpt-3-5-run</strong> at: <a href='https://wandb.ai/bojan-2110/lmm-evaluate/runs/7awlg35w' target=\"_blank\">https://wandb.ai/bojan-2110/lmm-evaluate/runs/7awlg35w</a><br/>Synced 5 W&B file(s), 1 media file(s), 1 artifact file(s) and 0 other file(s)"
      ],
      "text/plain": [
       "<IPython.core.display.HTML object>"
      ]
     },
     "metadata": {},
     "output_type": "display_data"
    },
    {
     "data": {
      "text/html": [
       "Find logs at: <code>./wandb/run-20240129_175905-7awlg35w/logs</code>"
      ],
      "text/plain": [
       "<IPython.core.display.HTML object>"
      ]
     },
     "metadata": {},
     "output_type": "display_data"
    },
    {
     "data": {
      "text/html": [
       "Successfully finished last run (ID:7awlg35w). Initializing new run:<br/>"
      ],
      "text/plain": [
       "<IPython.core.display.HTML object>"
      ]
     },
     "metadata": {},
     "output_type": "display_data"
    },
    {
     "data": {
      "text/html": [
       "Tracking run with wandb version 0.16.2"
      ],
      "text/plain": [
       "<IPython.core.display.HTML object>"
      ]
     },
     "metadata": {},
     "output_type": "display_data"
    },
    {
     "data": {
      "text/html": [
       "Run data is saved locally in <code>/Users/bojansimoski/dev/eur/llm-evaluate/wandb/run-20240129_175920-5xu9zkx0</code>"
      ],
      "text/plain": [
       "<IPython.core.display.HTML object>"
      ]
     },
     "metadata": {},
     "output_type": "display_data"
    },
    {
     "data": {
      "text/html": [
       "Syncing run <strong><a href='https://wandb.ai/bojan-2110/lmm-evaluate/runs/5xu9zkx0' target=\"_blank\">gpt-3-5-run</a></strong> to <a href='https://wandb.ai/bojan-2110/lmm-evaluate' target=\"_blank\">Weights & Biases</a> (<a href='https://wandb.me/run' target=\"_blank\">docs</a>)<br/>"
      ],
      "text/plain": [
       "<IPython.core.display.HTML object>"
      ]
     },
     "metadata": {},
     "output_type": "display_data"
    },
    {
     "data": {
      "text/html": [
       " View project at <a href='https://wandb.ai/bojan-2110/lmm-evaluate' target=\"_blank\">https://wandb.ai/bojan-2110/lmm-evaluate</a>"
      ],
      "text/plain": [
       "<IPython.core.display.HTML object>"
      ]
     },
     "metadata": {},
     "output_type": "display_data"
    },
    {
     "data": {
      "text/html": [
       " View run at <a href='https://wandb.ai/bojan-2110/lmm-evaluate/runs/5xu9zkx0' target=\"_blank\">https://wandb.ai/bojan-2110/lmm-evaluate/runs/5xu9zkx0</a>"
      ],
      "text/plain": [
       "<IPython.core.display.HTML object>"
      ]
     },
     "metadata": {},
     "output_type": "display_data"
    },
    {
     "data": {
      "text/html": [
       " View run <strong style=\"color:#cdcd00\">gpt-3-5-run</strong> at: <a href='https://wandb.ai/bojan-2110/lmm-evaluate/runs/5xu9zkx0' target=\"_blank\">https://wandb.ai/bojan-2110/lmm-evaluate/runs/5xu9zkx0</a><br/>Synced 5 W&B file(s), 1 media file(s), 2 artifact file(s) and 0 other file(s)"
      ],
      "text/plain": [
       "<IPython.core.display.HTML object>"
      ]
     },
     "metadata": {},
     "output_type": "display_data"
    },
    {
     "data": {
      "text/html": [
       "Find logs at: <code>./wandb/run-20240129_175920-5xu9zkx0/logs</code>"
      ],
      "text/plain": [
       "<IPython.core.display.HTML object>"
      ]
     },
     "metadata": {},
     "output_type": "display_data"
    }
   ],
   "source": [
    "wandb.init(project=\"lmm-evaluate\", name=\"gpt-3-5-run\")\n",
    "# log df as a table to W&B for interactive exploration\n",
    "wandb.log({\"free_style_transfer_gpt_3_5_\": wandb.Table(dataframe=df_gpt_35_output)})\n",
    "\n",
    "df_gpt_35_output.to_csv(\"df_gpt_3_5_output.csv\")\n",
    "\n",
    "# log csv file as an dataset artifact to W&B for later use\n",
    "\n",
    "artifact = wandb.Artifact(\"df_gpt_3_5_output\", type=\"dataset\")\n",
    "artifact.add_file(\"df_gpt_3_5_output.csv\")\n",
    "wandb.log_artifact(artifact)\n",
    "\n",
    "wandb.finish()"
   ]
  },
  {
   "cell_type": "markdown",
   "id": "191179e4-8be4-403e-9076-1a82518a1f1b",
   "metadata": {},
   "source": [
    "### gpt 4 setup"
   ]
  },
  {
   "cell_type": "code",
   "execution_count": 22,
   "id": "cf2d560e-c96e-47d1-9a72-d74c0e8a2198",
   "metadata": {},
   "outputs": [],
   "source": [
    "client = OpenAI()\n",
    "system_msg = \"You are an expert in text style transfer.\"\n",
    "temperature = 0.2\n",
    "max_tokens = 256\n",
    "frequency_penalty = 0.0\n",
    "\n",
    "final_output = []\n",
    "num_prompts = df_prompt.shape[0]\n",
    "for i in range(0,num_prompts-1):\n",
    "    query = df_prompt['rewritten'][i]\n",
    "    original = df_prompt['original'][i]\n",
    "    message=[{\"role\": \"system\", \"content\": system_msg}, {\"role\": \"user\", \"content\":query}]\n",
    "    chat_response = client.chat.completions.create(\n",
    "        model=\"gpt-4\",\n",
    "        messages = message,\n",
    "        temperature=temperature,\n",
    "        max_tokens=max_tokens,\n",
    "        frequency_penalty=frequency_penalty\n",
    "    )\n",
    "    final_output.append({'original': original,'output': chat_response.choices[0].message.content,\"model\": chat_response.model, \"prompt_tokens\" : chat_response.usage.prompt_tokens,\"completion_tokens\" : chat_response.usage.completion_tokens,\"object\" : chat_response.object, \"temperature\": temperature})\n",
    "\n",
    "df_gpt_4_output = pd.DataFrame(final_output)"
   ]
  },
  {
   "cell_type": "code",
   "execution_count": 24,
   "id": "a5d606d2-504c-41b0-aaf3-2dd302cd8e14",
   "metadata": {},
   "outputs": [
    {
     "data": {
      "text/html": [
       "Tracking run with wandb version 0.16.2"
      ],
      "text/plain": [
       "<IPython.core.display.HTML object>"
      ]
     },
     "metadata": {},
     "output_type": "display_data"
    },
    {
     "data": {
      "text/html": [
       "Run data is saved locally in <code>/Users/bojansimoski/dev/eur/llm-evaluate/wandb/run-20240129_181250-x5m7wsrl</code>"
      ],
      "text/plain": [
       "<IPython.core.display.HTML object>"
      ]
     },
     "metadata": {},
     "output_type": "display_data"
    },
    {
     "data": {
      "text/html": [
       "Syncing run <strong><a href='https://wandb.ai/bojan-2110/lmm-evaluate/runs/x5m7wsrl' target=\"_blank\">gpt-4-run</a></strong> to <a href='https://wandb.ai/bojan-2110/lmm-evaluate' target=\"_blank\">Weights & Biases</a> (<a href='https://wandb.me/run' target=\"_blank\">docs</a>)<br/>"
      ],
      "text/plain": [
       "<IPython.core.display.HTML object>"
      ]
     },
     "metadata": {},
     "output_type": "display_data"
    },
    {
     "data": {
      "text/html": [
       " View project at <a href='https://wandb.ai/bojan-2110/lmm-evaluate' target=\"_blank\">https://wandb.ai/bojan-2110/lmm-evaluate</a>"
      ],
      "text/plain": [
       "<IPython.core.display.HTML object>"
      ]
     },
     "metadata": {},
     "output_type": "display_data"
    },
    {
     "data": {
      "text/html": [
       " View run at <a href='https://wandb.ai/bojan-2110/lmm-evaluate/runs/x5m7wsrl' target=\"_blank\">https://wandb.ai/bojan-2110/lmm-evaluate/runs/x5m7wsrl</a>"
      ],
      "text/plain": [
       "<IPython.core.display.HTML object>"
      ]
     },
     "metadata": {},
     "output_type": "display_data"
    },
    {
     "data": {
      "text/html": [
       " View run <strong style=\"color:#cdcd00\">gpt-4-run</strong> at: <a href='https://wandb.ai/bojan-2110/lmm-evaluate/runs/x5m7wsrl' target=\"_blank\">https://wandb.ai/bojan-2110/lmm-evaluate/runs/x5m7wsrl</a><br/>Synced 5 W&B file(s), 1 media file(s), 2 artifact file(s) and 0 other file(s)"
      ],
      "text/plain": [
       "<IPython.core.display.HTML object>"
      ]
     },
     "metadata": {},
     "output_type": "display_data"
    },
    {
     "data": {
      "text/html": [
       "Find logs at: <code>./wandb/run-20240129_181250-x5m7wsrl/logs</code>"
      ],
      "text/plain": [
       "<IPython.core.display.HTML object>"
      ]
     },
     "metadata": {},
     "output_type": "display_data"
    }
   ],
   "source": [
    "wandb.init(project=\"lmm-evaluate\", name=\"gpt-4-run\")\n",
    "# log df as a table to W&B for interactive exploration\n",
    "wandb.log({\"free_style_transfer_gpt_4_\": wandb.Table(dataframe=df_gpt_4_output)})\n",
    "\n",
    "df_gpt_4_output.to_csv(\"df_gpt_4_output.csv\")\n",
    "\n",
    "# log csv file as an dataset artifact to W&B for later use\n",
    "\n",
    "artifact = wandb.Artifact(\"df_gpt_4_output\", type=\"dataset\")\n",
    "artifact.add_file(\"df_gpt_4_output.csv\")\n",
    "wandb.log_artifact(artifact)\n",
    "\n",
    "wandb.finish()"
   ]
  }
 ],
 "metadata": {
  "kernelspec": {
   "display_name": "Python (llm-evaluate)",
   "language": "python",
   "name": "llm-evaluate"
  },
  "language_info": {
   "codemirror_mode": {
    "name": "ipython",
    "version": 3
   },
   "file_extension": ".py",
   "mimetype": "text/x-python",
   "name": "python",
   "nbconvert_exporter": "python",
   "pygments_lexer": "ipython3",
   "version": "3.11.7"
  }
 },
 "nbformat": 4,
 "nbformat_minor": 5
}
