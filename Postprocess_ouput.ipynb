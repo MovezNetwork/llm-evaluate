{
 "cells": [
  {
   "cell_type": "code",
   "outputs": [],
   "source": [
    "import pandas as pd\n",
    "import sys\n",
    "import os\n",
    "import inspect\n",
    "\n",
    "# access parent directory from notebooks directory\n",
    "currentdir = os.path.dirname(os.path.abspath(inspect.getfile(inspect.currentframe())))\n",
    "parentdir = os.path.dirname(currentdir)\n",
    "sys.path.insert(0, parentdir)\n",
    "%load_ext autoreload\n",
    "%autoreload 2\n",
    "%reload_ext autoreload"
   ],
   "metadata": {
    "collapsed": false,
    "ExecuteTime": {
     "end_time": "2024-02-19T11:20:12.690397Z",
     "start_time": "2024-02-19T11:20:10.872492Z"
    }
   },
   "id": "1796fa45710c5528",
   "execution_count": 1
  },
  {
   "cell_type": "code",
   "execution_count": 14,
   "id": "initial_id",
   "metadata": {
    "collapsed": true,
    "ExecuteTime": {
     "end_time": "2024-02-19T12:30:32.206653Z",
     "start_time": "2024-02-19T12:30:28.537917Z"
    }
   },
   "outputs": [],
   "source": [
    "output_llm_folder_path = ('output_llm_data/')\n",
    "output_evaluation_folder_path = 'output_evaluation/'\n",
    "\n",
    "prompting_strategies = ['Prompts_NoContext', 'Prompts_Context']\n",
    "\n",
    "\n",
    "for prompting in prompting_strategies:\n",
    "    output_df = pd.DataFrame()\n",
    "    \n",
    "    for subdir, dirs, files in os.walk(output_llm_folder_path+prompting):\n",
    "        file_id = 0\n",
    "        for file in files:\n",
    "            filepath = subdir + os.sep + file\n",
    "            temp_details = file.split('_')\n",
    "            \n",
    "            # filter out relevant info\n",
    "            if filepath.endswith(\".csv\"):\n",
    "                temp_output = pd.read_csv(filepath)[['original', 'rewritten_sentence']]\n",
    "                temp_output['fileID'] = file_id\n",
    "                temp_output['user'] = temp_details[1]\n",
    "                temp_output['promptID'] = temp_details[3] if prompting == 'Prompts_NoContext' else temp_details[4]\n",
    "                temp_output['model'] = temp_details[5] if prompting == 'Prompts_NoContext' else temp_details[6]\n",
    "                temp_output['shots'] = temp_details[7] if prompting == 'Prompts_NoContext' else temp_details[8]\n",
    "                temp_output['runID'] = temp_details[9] if prompting == 'Prompts_NoContext' else temp_details[10]\n",
    "                \n",
    "                # concat temp dataframe\n",
    "                output_df = pd.concat([output_df, temp_output], ignore_index=True)\n",
    "                file_id = file_id + 1\n",
    "            \n",
    "    # reorder columns\n",
    "    output_df = output_df[['fileID', 'user', 'promptID', 'model', 'shots', 'runID', 'original', 'rewritten_sentence']]\n",
    "    \n",
    "    # save to csv\n",
    "    output_df.to_csv(output_evaluation_folder_path + prompting + '_complete_output.csv', index=False)\n"
   ]
  },
  {
   "cell_type": "code",
   "outputs": [],
   "source": [],
   "metadata": {
    "collapsed": false
   },
   "id": "370fb3022b030057"
  }
 ],
 "metadata": {
  "kernelspec": {
   "display_name": "Python 3",
   "language": "python",
   "name": "python3"
  },
  "language_info": {
   "codemirror_mode": {
    "name": "ipython",
    "version": 2
   },
   "file_extension": ".py",
   "mimetype": "text/x-python",
   "name": "python",
   "nbconvert_exporter": "python",
   "pygments_lexer": "ipython2",
   "version": "2.7.6"
  }
 },
 "nbformat": 4,
 "nbformat_minor": 5
}
