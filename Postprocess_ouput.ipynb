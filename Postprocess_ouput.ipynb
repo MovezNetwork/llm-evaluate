{
 "cells": [
  {
   "cell_type": "code",
   "execution_count": 1,
   "id": "1796fa45710c5528",
   "metadata": {
    "ExecuteTime": {
     "end_time": "2024-02-20T21:03:54.259484Z",
     "start_time": "2024-02-20T21:03:54.184810Z"
    },
    "collapsed": false,
    "jupyter": {
     "outputs_hidden": false
    }
   },
   "outputs": [],
   "source": [
    "import pandas as pd\n",
    "import sys\n",
    "import os\n",
    "import inspect\n",
    "\n",
    "# access parent directory from notebooks directory\n",
    "currentdir = os.path.dirname(os.path.abspath(inspect.getfile(inspect.currentframe())))\n",
    "parentdir = os.path.dirname(currentdir)\n",
    "sys.path.insert(0, parentdir)\n",
    "%load_ext autoreload\n",
    "%autoreload 2\n",
    "%reload_ext autoreload"
   ]
  },
  {
   "cell_type": "code",
   "execution_count": 3,
   "id": "initial_id",
   "metadata": {
    "ExecuteTime": {
     "end_time": "2024-02-20T21:03:57.139877Z",
     "start_time": "2024-02-20T21:03:54.870846Z"
    }
   },
   "outputs": [],
   "source": [
    "output_llm_folder_path = ('f6_llm_tst_data/')\n",
    "output_evaluation_folder_path = 'f7_processed_llm_tst_data/'\n",
    "\n",
    "prompting_strategies = ['Prompts_NoContext', 'Prompts_Context']\n",
    "\n",
    "\n",
    "for prompting in prompting_strategies:\n",
    "    output_df = pd.DataFrame()\n",
    "    \n",
    "    for subdir, dirs, files in os.walk(output_llm_folder_path+prompting):\n",
    "        file_id = 0\n",
    "        for file in files:\n",
    "            filepath = subdir + os.sep + file\n",
    "            # filter out relevant info\n",
    "            if filepath.endswith(\"output.csv\"):\n",
    "                # print(file_id)\n",
    "                # print(filepath)\n",
    "                temp_details = file.split('_')\n",
    "                temp_output = pd.read_csv(filepath)[['original', 'rewritten_sentence']]\n",
    "                temp_output['fileID'] = file_id\n",
    "                temp_output['user'] = temp_details[1]\n",
    "                temp_output['promptID'] = temp_details[3] if prompting == 'Prompts_NoContext' else temp_details[4]\n",
    "                temp_output['model'] = temp_details[5] if prompting == 'Prompts_NoContext' else temp_details[6]\n",
    "                temp_output['shots'] = temp_details[7] if prompting == 'Prompts_NoContext' else temp_details[8]\n",
    "                temp_output['runID'] = temp_details[10] if prompting == 'Prompts_NoContext' else temp_details[11]\n",
    "                \n",
    "                # concat temp dataframe\n",
    "                output_df = pd.concat([output_df, temp_output], ignore_index=True)\n",
    "                file_id = file_id + 1\n",
    "            \n",
    "        # reorder columns\n",
    "        output_df = output_df[['fileID', 'user', 'promptID', 'model', 'shots', 'runID', 'original', 'rewritten_sentence']]\n",
    "    \n",
    "        # save to csv\n",
    "        output_df.to_csv(output_evaluation_folder_path + prompting + '_complete_output.csv', index=False)\n"
   ]
  },
  {
   "cell_type": "code",
   "execution_count": null,
   "id": "370fb3022b030057",
   "metadata": {
    "collapsed": false,
    "jupyter": {
     "outputs_hidden": false
    }
   },
   "outputs": [],
   "source": []
  }
 ],
 "metadata": {
  "kernelspec": {
   "display_name": "Python 3 (ipykernel)",
   "language": "python",
   "name": "python3"
  },
  "language_info": {
   "codemirror_mode": {
    "name": "ipython",
    "version": 3
   },
   "file_extension": ".py",
   "mimetype": "text/x-python",
   "name": "python",
   "nbconvert_exporter": "python",
   "pygments_lexer": "ipython3",
   "version": "3.8.18"
  }
 },
 "nbformat": 4,
 "nbformat_minor": 5
}
